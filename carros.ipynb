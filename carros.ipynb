{
 "cells": [
  {
   "cell_type": "markdown",
   "source": [
    "Analise de Dados com Pandas"
   ],
   "metadata": {
    "collapsed": false
   }
  },
  {
   "cell_type": "code",
   "execution_count": 4,
   "metadata": {
    "collapsed": true
   },
   "outputs": [],
   "source": [
    "import pandas as pd"
   ]
  },
  {
   "cell_type": "code",
   "execution_count": 5,
   "outputs": [
    {
     "data": {
      "text/plain": "                      Nome                  Motor   Ano  Quilometragem  \\\n0            Jetta Variant        Motor 4.0 Turbo  2003        44410.0   \n1                   Passat           Motor Diesel  1991         5712.0   \n2                 Crossfox        Motor Diesel V8  1990        37123.0   \n3                      DS5        Motor 2.4 Turbo  2019            NaN   \n4         Aston Martin DB4        Motor 2.4 Turbo  2006        25757.0   \n..                     ...                    ...   ...            ...   \n253           Phantom 2013               Motor V8  2014        27505.0   \n254  Cadillac Ciel concept               Motor V8  1991        29981.0   \n255             Classe GLK  Motor 5.0 V8 Bi-Turbo  2002        52637.0   \n256       Aston Martin DB5           Motor Diesel  1996         7685.0   \n257                  Macan        Motor Diesel V6  1992        50188.0   \n\n     Zero_km                                         Acessórios      Valor  \n0      False  ['Rodas de liga', 'Travas elétricas', 'Piloto ...   88078.64  \n1      False  ['Central multimídia', 'Teto panorâmico', 'Fre...  106161.94  \n2      False  ['Piloto automático', 'Controle de estabilidad...   72832.16  \n3       True  ['Travas elétricas', '4 X 4', 'Vidros elétrico...  124549.07  \n4      False  ['Rodas de liga', '4 X 4', 'Central multimídia...   92612.10  \n..       ...                                                ...        ...  \n253    False  ['Controle de estabilidade', 'Piloto automátic...   51759.58  \n254    False  ['Bancos de couro', 'Painel digital', 'Sensor ...   51667.06  \n255    False  ['Rodas de liga', 'Controle de tração', 'Câmbi...   68934.03  \n256    False  ['Ar condicionado', '4 X 4', 'Câmbio automátic...  122110.90  \n257    False  ['Central multimídia', 'Teto panorâmico', 'Vid...   90381.47  \n\n[258 rows x 7 columns]",
      "text/html": "<div>\n<style scoped>\n    .dataframe tbody tr th:only-of-type {\n        vertical-align: middle;\n    }\n\n    .dataframe tbody tr th {\n        vertical-align: top;\n    }\n\n    .dataframe thead th {\n        text-align: right;\n    }\n</style>\n<table border=\"1\" class=\"dataframe\">\n  <thead>\n    <tr style=\"text-align: right;\">\n      <th></th>\n      <th>Nome</th>\n      <th>Motor</th>\n      <th>Ano</th>\n      <th>Quilometragem</th>\n      <th>Zero_km</th>\n      <th>Acessórios</th>\n      <th>Valor</th>\n    </tr>\n  </thead>\n  <tbody>\n    <tr>\n      <th>0</th>\n      <td>Jetta Variant</td>\n      <td>Motor 4.0 Turbo</td>\n      <td>2003</td>\n      <td>44410.0</td>\n      <td>False</td>\n      <td>['Rodas de liga', 'Travas elétricas', 'Piloto ...</td>\n      <td>88078.64</td>\n    </tr>\n    <tr>\n      <th>1</th>\n      <td>Passat</td>\n      <td>Motor Diesel</td>\n      <td>1991</td>\n      <td>5712.0</td>\n      <td>False</td>\n      <td>['Central multimídia', 'Teto panorâmico', 'Fre...</td>\n      <td>106161.94</td>\n    </tr>\n    <tr>\n      <th>2</th>\n      <td>Crossfox</td>\n      <td>Motor Diesel V8</td>\n      <td>1990</td>\n      <td>37123.0</td>\n      <td>False</td>\n      <td>['Piloto automático', 'Controle de estabilidad...</td>\n      <td>72832.16</td>\n    </tr>\n    <tr>\n      <th>3</th>\n      <td>DS5</td>\n      <td>Motor 2.4 Turbo</td>\n      <td>2019</td>\n      <td>NaN</td>\n      <td>True</td>\n      <td>['Travas elétricas', '4 X 4', 'Vidros elétrico...</td>\n      <td>124549.07</td>\n    </tr>\n    <tr>\n      <th>4</th>\n      <td>Aston Martin DB4</td>\n      <td>Motor 2.4 Turbo</td>\n      <td>2006</td>\n      <td>25757.0</td>\n      <td>False</td>\n      <td>['Rodas de liga', '4 X 4', 'Central multimídia...</td>\n      <td>92612.10</td>\n    </tr>\n    <tr>\n      <th>...</th>\n      <td>...</td>\n      <td>...</td>\n      <td>...</td>\n      <td>...</td>\n      <td>...</td>\n      <td>...</td>\n      <td>...</td>\n    </tr>\n    <tr>\n      <th>253</th>\n      <td>Phantom 2013</td>\n      <td>Motor V8</td>\n      <td>2014</td>\n      <td>27505.0</td>\n      <td>False</td>\n      <td>['Controle de estabilidade', 'Piloto automátic...</td>\n      <td>51759.58</td>\n    </tr>\n    <tr>\n      <th>254</th>\n      <td>Cadillac Ciel concept</td>\n      <td>Motor V8</td>\n      <td>1991</td>\n      <td>29981.0</td>\n      <td>False</td>\n      <td>['Bancos de couro', 'Painel digital', 'Sensor ...</td>\n      <td>51667.06</td>\n    </tr>\n    <tr>\n      <th>255</th>\n      <td>Classe GLK</td>\n      <td>Motor 5.0 V8 Bi-Turbo</td>\n      <td>2002</td>\n      <td>52637.0</td>\n      <td>False</td>\n      <td>['Rodas de liga', 'Controle de tração', 'Câmbi...</td>\n      <td>68934.03</td>\n    </tr>\n    <tr>\n      <th>256</th>\n      <td>Aston Martin DB5</td>\n      <td>Motor Diesel</td>\n      <td>1996</td>\n      <td>7685.0</td>\n      <td>False</td>\n      <td>['Ar condicionado', '4 X 4', 'Câmbio automátic...</td>\n      <td>122110.90</td>\n    </tr>\n    <tr>\n      <th>257</th>\n      <td>Macan</td>\n      <td>Motor Diesel V6</td>\n      <td>1992</td>\n      <td>50188.0</td>\n      <td>False</td>\n      <td>['Central multimídia', 'Teto panorâmico', 'Vid...</td>\n      <td>90381.47</td>\n    </tr>\n  </tbody>\n</table>\n<p>258 rows × 7 columns</p>\n</div>"
     },
     "execution_count": 5,
     "metadata": {},
     "output_type": "execute_result"
    }
   ],
   "source": [
    "pd.read_csv(\"dados/db.csv\", sep=';')"
   ],
   "metadata": {
    "collapsed": false,
    "pycharm": {
     "name": "#%%\n"
    }
   }
  },
  {
   "cell_type": "code",
   "execution_count": 7,
   "outputs": [
    {
     "data": {
      "text/plain": "               Nome            Motor   Ano  Quilometragem  Zero_km  \\\n0     Jetta Variant  Motor 4.0 Turbo  2003        44410.0    False   \n1            Passat     Motor Diesel  1991         5712.0    False   \n2          Crossfox  Motor Diesel V8  1990        37123.0    False   \n3               DS5  Motor 2.4 Turbo  2019            NaN     True   \n4  Aston Martin DB4  Motor 2.4 Turbo  2006        25757.0    False   \n\n                                          Acessórios      Valor  \n0  ['Rodas de liga', 'Travas elétricas', 'Piloto ...   88078.64  \n1  ['Central multimídia', 'Teto panorâmico', 'Fre...  106161.94  \n2  ['Piloto automático', 'Controle de estabilidad...   72832.16  \n3  ['Travas elétricas', '4 X 4', 'Vidros elétrico...  124549.07  \n4  ['Rodas de liga', '4 X 4', 'Central multimídia...   92612.10  ",
      "text/html": "<div>\n<style scoped>\n    .dataframe tbody tr th:only-of-type {\n        vertical-align: middle;\n    }\n\n    .dataframe tbody tr th {\n        vertical-align: top;\n    }\n\n    .dataframe thead th {\n        text-align: right;\n    }\n</style>\n<table border=\"1\" class=\"dataframe\">\n  <thead>\n    <tr style=\"text-align: right;\">\n      <th></th>\n      <th>Nome</th>\n      <th>Motor</th>\n      <th>Ano</th>\n      <th>Quilometragem</th>\n      <th>Zero_km</th>\n      <th>Acessórios</th>\n      <th>Valor</th>\n    </tr>\n  </thead>\n  <tbody>\n    <tr>\n      <th>0</th>\n      <td>Jetta Variant</td>\n      <td>Motor 4.0 Turbo</td>\n      <td>2003</td>\n      <td>44410.0</td>\n      <td>False</td>\n      <td>['Rodas de liga', 'Travas elétricas', 'Piloto ...</td>\n      <td>88078.64</td>\n    </tr>\n    <tr>\n      <th>1</th>\n      <td>Passat</td>\n      <td>Motor Diesel</td>\n      <td>1991</td>\n      <td>5712.0</td>\n      <td>False</td>\n      <td>['Central multimídia', 'Teto panorâmico', 'Fre...</td>\n      <td>106161.94</td>\n    </tr>\n    <tr>\n      <th>2</th>\n      <td>Crossfox</td>\n      <td>Motor Diesel V8</td>\n      <td>1990</td>\n      <td>37123.0</td>\n      <td>False</td>\n      <td>['Piloto automático', 'Controle de estabilidad...</td>\n      <td>72832.16</td>\n    </tr>\n    <tr>\n      <th>3</th>\n      <td>DS5</td>\n      <td>Motor 2.4 Turbo</td>\n      <td>2019</td>\n      <td>NaN</td>\n      <td>True</td>\n      <td>['Travas elétricas', '4 X 4', 'Vidros elétrico...</td>\n      <td>124549.07</td>\n    </tr>\n    <tr>\n      <th>4</th>\n      <td>Aston Martin DB4</td>\n      <td>Motor 2.4 Turbo</td>\n      <td>2006</td>\n      <td>25757.0</td>\n      <td>False</td>\n      <td>['Rodas de liga', '4 X 4', 'Central multimídia...</td>\n      <td>92612.10</td>\n    </tr>\n  </tbody>\n</table>\n</div>"
     },
     "execution_count": 7,
     "metadata": {},
     "output_type": "execute_result"
    }
   ],
   "source": [
    "pd.read_csv(\"dados/db.csv\", sep=';').head()"
   ],
   "metadata": {
    "collapsed": false,
    "pycharm": {
     "name": "#%%\n"
    }
   }
  },
  {
   "cell_type": "code",
   "execution_count": null,
   "outputs": [],
   "source": [
    "pd.read_csv(\"db.csv\", sep=\";\", usecols=[\"Nome\", \"Ano\"]).head()"
   ],
   "metadata": {
    "collapsed": false,
    "pycharm": {
     "name": "#%%\n"
    }
   }
  },
  {
   "cell_type": "code",
   "execution_count": null,
   "outputs": [],
   "source": [],
   "metadata": {
    "collapsed": false,
    "pycharm": {
     "name": "#%%\n"
    }
   }
  },
  {
   "cell_type": "code",
   "execution_count": null,
   "outputs": [],
   "source": [],
   "metadata": {
    "collapsed": false,
    "pycharm": {
     "name": "#%%\n"
    }
   }
  },
  {
   "cell_type": "code",
   "execution_count": null,
   "outputs": [],
   "source": [],
   "metadata": {
    "collapsed": false,
    "pycharm": {
     "name": "#%%\n"
    }
   }
  }
 ],
 "metadata": {
  "kernelspec": {
   "display_name": "Python 3",
   "language": "python",
   "name": "python3"
  },
  "language_info": {
   "codemirror_mode": {
    "name": "ipython",
    "version": 2
   },
   "file_extension": ".py",
   "mimetype": "text/x-python",
   "name": "python",
   "nbconvert_exporter": "python",
   "pygments_lexer": "ipython2",
   "version": "2.7.6"
  }
 },
 "nbformat": 4,
 "nbformat_minor": 0
}