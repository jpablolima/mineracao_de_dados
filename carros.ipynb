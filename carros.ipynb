{
 "cells": [
  {
   "cell_type": "markdown",
   "source": [
    "Analise de Dados com Pandas"
   ],
   "metadata": {
    "collapsed": false
   }
  },
  {
   "cell_type": "code",
   "execution_count": 1,
   "metadata": {
    "collapsed": true
   },
   "outputs": [],
   "source": [
    "import pandas as pd"
   ]
  },
  {
   "cell_type": "code",
   "execution_count": 2,
   "outputs": [],
   "source": [
    "dataset = pd.read_csv(\"dados/db.csv\", sep=';', index_col = 0)"
   ],
   "metadata": {
    "collapsed": false,
    "pycharm": {
     "name": "#%%\n"
    }
   }
  },
  {
   "cell_type": "code",
   "execution_count": 3,
   "outputs": [
    {
     "data": {
      "text/plain": "                            Motor   Ano  Quilometragem  Zero_km  \\\nNome                                                              \nJetta Variant     Motor 4.0 Turbo  2003        44410.0    False   \nPassat               Motor Diesel  1991         5712.0    False   \nCrossfox          Motor Diesel V8  1990        37123.0    False   \nDS5               Motor 2.4 Turbo  2019            NaN     True   \nAston Martin DB4  Motor 2.4 Turbo  2006        25757.0    False   \n\n                                                         Acessórios      Valor  \nNome                                                                            \nJetta Variant     ['Rodas de liga', 'Travas elétricas', 'Piloto ...   88078.64  \nPassat            ['Central multimídia', 'Teto panorâmico', 'Fre...  106161.94  \nCrossfox          ['Piloto automático', 'Controle de estabilidad...   72832.16  \nDS5               ['Travas elétricas', '4 X 4', 'Vidros elétrico...  124549.07  \nAston Martin DB4  ['Rodas de liga', '4 X 4', 'Central multimídia...   92612.10  ",
      "text/html": "<div>\n<style scoped>\n    .dataframe tbody tr th:only-of-type {\n        vertical-align: middle;\n    }\n\n    .dataframe tbody tr th {\n        vertical-align: top;\n    }\n\n    .dataframe thead th {\n        text-align: right;\n    }\n</style>\n<table border=\"1\" class=\"dataframe\">\n  <thead>\n    <tr style=\"text-align: right;\">\n      <th></th>\n      <th>Motor</th>\n      <th>Ano</th>\n      <th>Quilometragem</th>\n      <th>Zero_km</th>\n      <th>Acessórios</th>\n      <th>Valor</th>\n    </tr>\n    <tr>\n      <th>Nome</th>\n      <th></th>\n      <th></th>\n      <th></th>\n      <th></th>\n      <th></th>\n      <th></th>\n    </tr>\n  </thead>\n  <tbody>\n    <tr>\n      <th>Jetta Variant</th>\n      <td>Motor 4.0 Turbo</td>\n      <td>2003</td>\n      <td>44410.0</td>\n      <td>False</td>\n      <td>['Rodas de liga', 'Travas elétricas', 'Piloto ...</td>\n      <td>88078.64</td>\n    </tr>\n    <tr>\n      <th>Passat</th>\n      <td>Motor Diesel</td>\n      <td>1991</td>\n      <td>5712.0</td>\n      <td>False</td>\n      <td>['Central multimídia', 'Teto panorâmico', 'Fre...</td>\n      <td>106161.94</td>\n    </tr>\n    <tr>\n      <th>Crossfox</th>\n      <td>Motor Diesel V8</td>\n      <td>1990</td>\n      <td>37123.0</td>\n      <td>False</td>\n      <td>['Piloto automático', 'Controle de estabilidad...</td>\n      <td>72832.16</td>\n    </tr>\n    <tr>\n      <th>DS5</th>\n      <td>Motor 2.4 Turbo</td>\n      <td>2019</td>\n      <td>NaN</td>\n      <td>True</td>\n      <td>['Travas elétricas', '4 X 4', 'Vidros elétrico...</td>\n      <td>124549.07</td>\n    </tr>\n    <tr>\n      <th>Aston Martin DB4</th>\n      <td>Motor 2.4 Turbo</td>\n      <td>2006</td>\n      <td>25757.0</td>\n      <td>False</td>\n      <td>['Rodas de liga', '4 X 4', 'Central multimídia...</td>\n      <td>92612.10</td>\n    </tr>\n  </tbody>\n</table>\n</div>"
     },
     "execution_count": 3,
     "metadata": {},
     "output_type": "execute_result"
    }
   ],
   "source": [
    "dataset.head()"
   ],
   "metadata": {
    "collapsed": false,
    "pycharm": {
     "name": "#%%\n"
    }
   }
  },
  {
   "cell_type": "code",
   "execution_count": 4,
   "outputs": [
    {
     "data": {
      "text/plain": "Nome\nJetta Variant             88078.64\nPassat                   106161.94\nCrossfox                  72832.16\nDS5                      124549.07\nAston Martin DB4          92612.10\n                           ...    \nPhantom 2013              51759.58\nCadillac Ciel concept     51667.06\nClasse GLK                68934.03\nAston Martin DB5         122110.90\nMacan                     90381.47\nName: Valor, Length: 258, dtype: float64"
     },
     "execution_count": 4,
     "metadata": {},
     "output_type": "execute_result"
    }
   ],
   "source": [
    "dataset['Valor']"
   ],
   "metadata": {
    "collapsed": false,
    "pycharm": {
     "name": "#%%\n"
    }
   }
  },
  {
   "cell_type": "code",
   "execution_count": 5,
   "outputs": [
    {
     "data": {
      "text/plain": "                         Motor   Ano  Quilometragem  Zero_km  \\\nNome                                                           \nJetta Variant  Motor 4.0 Turbo  2003        44410.0    False   \nPassat            Motor Diesel  1991         5712.0    False   \nCrossfox       Motor Diesel V8  1990        37123.0    False   \n\n                                                      Acessórios      Valor  \nNome                                                                         \nJetta Variant  ['Rodas de liga', 'Travas elétricas', 'Piloto ...   88078.64  \nPassat         ['Central multimídia', 'Teto panorâmico', 'Fre...  106161.94  \nCrossfox       ['Piloto automático', 'Controle de estabilidad...   72832.16  ",
      "text/html": "<div>\n<style scoped>\n    .dataframe tbody tr th:only-of-type {\n        vertical-align: middle;\n    }\n\n    .dataframe tbody tr th {\n        vertical-align: top;\n    }\n\n    .dataframe thead th {\n        text-align: right;\n    }\n</style>\n<table border=\"1\" class=\"dataframe\">\n  <thead>\n    <tr style=\"text-align: right;\">\n      <th></th>\n      <th>Motor</th>\n      <th>Ano</th>\n      <th>Quilometragem</th>\n      <th>Zero_km</th>\n      <th>Acessórios</th>\n      <th>Valor</th>\n    </tr>\n    <tr>\n      <th>Nome</th>\n      <th></th>\n      <th></th>\n      <th></th>\n      <th></th>\n      <th></th>\n      <th></th>\n    </tr>\n  </thead>\n  <tbody>\n    <tr>\n      <th>Jetta Variant</th>\n      <td>Motor 4.0 Turbo</td>\n      <td>2003</td>\n      <td>44410.0</td>\n      <td>False</td>\n      <td>['Rodas de liga', 'Travas elétricas', 'Piloto ...</td>\n      <td>88078.64</td>\n    </tr>\n    <tr>\n      <th>Passat</th>\n      <td>Motor Diesel</td>\n      <td>1991</td>\n      <td>5712.0</td>\n      <td>False</td>\n      <td>['Central multimídia', 'Teto panorâmico', 'Fre...</td>\n      <td>106161.94</td>\n    </tr>\n    <tr>\n      <th>Crossfox</th>\n      <td>Motor Diesel V8</td>\n      <td>1990</td>\n      <td>37123.0</td>\n      <td>False</td>\n      <td>['Piloto automático', 'Controle de estabilidad...</td>\n      <td>72832.16</td>\n    </tr>\n  </tbody>\n</table>\n</div>"
     },
     "execution_count": 5,
     "metadata": {},
     "output_type": "execute_result"
    }
   ],
   "source": [
    "dataset[0:3]"
   ],
   "metadata": {
    "collapsed": false,
    "pycharm": {
     "name": "#%%\n"
    }
   }
  },
  {
   "cell_type": "code",
   "execution_count": 6,
   "outputs": [
    {
     "data": {
      "text/plain": "               Nome   Ano\n0     Jetta Variant  2003\n1            Passat  1991\n2          Crossfox  1990\n3               DS5  2019\n4  Aston Martin DB4  2006",
      "text/html": "<div>\n<style scoped>\n    .dataframe tbody tr th:only-of-type {\n        vertical-align: middle;\n    }\n\n    .dataframe tbody tr th {\n        vertical-align: top;\n    }\n\n    .dataframe thead th {\n        text-align: right;\n    }\n</style>\n<table border=\"1\" class=\"dataframe\">\n  <thead>\n    <tr style=\"text-align: right;\">\n      <th></th>\n      <th>Nome</th>\n      <th>Ano</th>\n    </tr>\n  </thead>\n  <tbody>\n    <tr>\n      <th>0</th>\n      <td>Jetta Variant</td>\n      <td>2003</td>\n    </tr>\n    <tr>\n      <th>1</th>\n      <td>Passat</td>\n      <td>1991</td>\n    </tr>\n    <tr>\n      <th>2</th>\n      <td>Crossfox</td>\n      <td>1990</td>\n    </tr>\n    <tr>\n      <th>3</th>\n      <td>DS5</td>\n      <td>2019</td>\n    </tr>\n    <tr>\n      <th>4</th>\n      <td>Aston Martin DB4</td>\n      <td>2006</td>\n    </tr>\n  </tbody>\n</table>\n</div>"
     },
     "execution_count": 6,
     "metadata": {},
     "output_type": "execute_result"
    }
   ],
   "source": [
    "pd.read_csv(\"dados/db.csv\", sep=\";\", usecols=[\"Nome\", \"Ano\"]).head()"
   ],
   "metadata": {
    "collapsed": false,
    "pycharm": {
     "name": "#%%\n"
    }
   }
  },
  {
   "cell_type": "code",
   "execution_count": 7,
   "outputs": [
    {
     "data": {
      "text/plain": "Motor                                              Motor 2.4 Turbo\nAno                                                           2019\nQuilometragem                                                  NaN\nZero_km                                                       True\nAcessórios       ['Travas elétricas', '4 X 4', 'Vidros elétrico...\nValor                                                       124549\nName: DS5, dtype: object"
     },
     "execution_count": 7,
     "metadata": {},
     "output_type": "execute_result"
    }
   ],
   "source": [
    "dataset.loc[\"DS5\"]"
   ],
   "metadata": {
    "collapsed": false,
    "pycharm": {
     "name": "#%%\n"
    }
   }
  },
  {
   "cell_type": "code",
   "execution_count": 8,
   "outputs": [
    {
     "data": {
      "text/plain": "                  Motor   Ano  Quilometragem  Zero_km  \\\nNome                                                    \nDS5     Motor 2.4 Turbo  2019            NaN     True   \nPassat     Motor Diesel  1991         5712.0    False   \n\n                                               Acessórios      Valor  \nNome                                                                  \nDS5     ['Travas elétricas', '4 X 4', 'Vidros elétrico...  124549.07  \nPassat  ['Central multimídia', 'Teto panorâmico', 'Fre...  106161.94  ",
      "text/html": "<div>\n<style scoped>\n    .dataframe tbody tr th:only-of-type {\n        vertical-align: middle;\n    }\n\n    .dataframe tbody tr th {\n        vertical-align: top;\n    }\n\n    .dataframe thead th {\n        text-align: right;\n    }\n</style>\n<table border=\"1\" class=\"dataframe\">\n  <thead>\n    <tr style=\"text-align: right;\">\n      <th></th>\n      <th>Motor</th>\n      <th>Ano</th>\n      <th>Quilometragem</th>\n      <th>Zero_km</th>\n      <th>Acessórios</th>\n      <th>Valor</th>\n    </tr>\n    <tr>\n      <th>Nome</th>\n      <th></th>\n      <th></th>\n      <th></th>\n      <th></th>\n      <th></th>\n      <th></th>\n    </tr>\n  </thead>\n  <tbody>\n    <tr>\n      <th>DS5</th>\n      <td>Motor 2.4 Turbo</td>\n      <td>2019</td>\n      <td>NaN</td>\n      <td>True</td>\n      <td>['Travas elétricas', '4 X 4', 'Vidros elétrico...</td>\n      <td>124549.07</td>\n    </tr>\n    <tr>\n      <th>Passat</th>\n      <td>Motor Diesel</td>\n      <td>1991</td>\n      <td>5712.0</td>\n      <td>False</td>\n      <td>['Central multimídia', 'Teto panorâmico', 'Fre...</td>\n      <td>106161.94</td>\n    </tr>\n  </tbody>\n</table>\n</div>"
     },
     "execution_count": 8,
     "metadata": {},
     "output_type": "execute_result"
    }
   ],
   "source": [
    "dataset.loc[[\"DS5\", \"Passat\"]]"
   ],
   "metadata": {
    "collapsed": false,
    "pycharm": {
     "name": "#%%\n"
    }
   }
  },
  {
   "cell_type": "code",
   "execution_count": 9,
   "outputs": [
    {
     "data": {
      "text/plain": "                  Motor      Valor\nNome                              \nDS5     Motor 2.4 Turbo  124549.07\nPassat     Motor Diesel  106161.94",
      "text/html": "<div>\n<style scoped>\n    .dataframe tbody tr th:only-of-type {\n        vertical-align: middle;\n    }\n\n    .dataframe tbody tr th {\n        vertical-align: top;\n    }\n\n    .dataframe thead th {\n        text-align: right;\n    }\n</style>\n<table border=\"1\" class=\"dataframe\">\n  <thead>\n    <tr style=\"text-align: right;\">\n      <th></th>\n      <th>Motor</th>\n      <th>Valor</th>\n    </tr>\n    <tr>\n      <th>Nome</th>\n      <th></th>\n      <th></th>\n    </tr>\n  </thead>\n  <tbody>\n    <tr>\n      <th>DS5</th>\n      <td>Motor 2.4 Turbo</td>\n      <td>124549.07</td>\n    </tr>\n    <tr>\n      <th>Passat</th>\n      <td>Motor Diesel</td>\n      <td>106161.94</td>\n    </tr>\n  </tbody>\n</table>\n</div>"
     },
     "execution_count": 9,
     "metadata": {},
     "output_type": "execute_result"
    }
   ],
   "source": [
    "dataset.loc[[\"DS5\", \"Passat\"], [\"Motor\",\"Valor\"]]"
   ],
   "metadata": {
    "collapsed": false,
    "pycharm": {
     "name": "#%%\n"
    }
   }
  },
  {
   "cell_type": "code",
   "execution_count": 10,
   "outputs": [
    {
     "data": {
      "text/plain": "                         Motor      Valor\nNome                                     \nJetta Variant  Motor 4.0 Turbo   88078.64\nDS5            Motor 2.4 Turbo  124549.07\nPassat            Motor Diesel  106161.94",
      "text/html": "<div>\n<style scoped>\n    .dataframe tbody tr th:only-of-type {\n        vertical-align: middle;\n    }\n\n    .dataframe tbody tr th {\n        vertical-align: top;\n    }\n\n    .dataframe thead th {\n        text-align: right;\n    }\n</style>\n<table border=\"1\" class=\"dataframe\">\n  <thead>\n    <tr style=\"text-align: right;\">\n      <th></th>\n      <th>Motor</th>\n      <th>Valor</th>\n    </tr>\n    <tr>\n      <th>Nome</th>\n      <th></th>\n      <th></th>\n    </tr>\n  </thead>\n  <tbody>\n    <tr>\n      <th>Jetta Variant</th>\n      <td>Motor 4.0 Turbo</td>\n      <td>88078.64</td>\n    </tr>\n    <tr>\n      <th>DS5</th>\n      <td>Motor 2.4 Turbo</td>\n      <td>124549.07</td>\n    </tr>\n    <tr>\n      <th>Passat</th>\n      <td>Motor Diesel</td>\n      <td>106161.94</td>\n    </tr>\n  </tbody>\n</table>\n</div>"
     },
     "execution_count": 10,
     "metadata": {},
     "output_type": "execute_result"
    }
   ],
   "source": [
    "dataset.loc[[\"Jetta Variant\",\"DS5\", \"Passat\"], [\"Motor\",\"Valor\"]]"
   ],
   "metadata": {
    "collapsed": false,
    "pycharm": {
     "name": "#%%\n"
    }
   }
  },
  {
   "cell_type": "code",
   "execution_count": 11,
   "outputs": [
    {
     "data": {
      "text/plain": "                     Motor   Ano  Quilometragem  Zero_km  \\\nNome                                                       \nDS5        Motor 2.4 Turbo  2019            NaN     True   \nFord Edge  Motor Diesel V6  2002        12859.0    False   \n\n                                                  Acessórios      Valor  \nNome                                                                     \nDS5        ['Travas elétricas', '4 X 4', 'Vidros elétrico...  124549.07  \nFord Edge  ['Sensor crepuscular', 'Rodas de liga', 'Teto ...   71647.59  ",
      "text/html": "<div>\n<style scoped>\n    .dataframe tbody tr th:only-of-type {\n        vertical-align: middle;\n    }\n\n    .dataframe tbody tr th {\n        vertical-align: top;\n    }\n\n    .dataframe thead th {\n        text-align: right;\n    }\n</style>\n<table border=\"1\" class=\"dataframe\">\n  <thead>\n    <tr style=\"text-align: right;\">\n      <th></th>\n      <th>Motor</th>\n      <th>Ano</th>\n      <th>Quilometragem</th>\n      <th>Zero_km</th>\n      <th>Acessórios</th>\n      <th>Valor</th>\n    </tr>\n    <tr>\n      <th>Nome</th>\n      <th></th>\n      <th></th>\n      <th></th>\n      <th></th>\n      <th></th>\n      <th></th>\n    </tr>\n  </thead>\n  <tbody>\n    <tr>\n      <th>DS5</th>\n      <td>Motor 2.4 Turbo</td>\n      <td>2019</td>\n      <td>NaN</td>\n      <td>True</td>\n      <td>['Travas elétricas', '4 X 4', 'Vidros elétrico...</td>\n      <td>124549.07</td>\n    </tr>\n    <tr>\n      <th>Ford Edge</th>\n      <td>Motor Diesel V6</td>\n      <td>2002</td>\n      <td>12859.0</td>\n      <td>False</td>\n      <td>['Sensor crepuscular', 'Rodas de liga', 'Teto ...</td>\n      <td>71647.59</td>\n    </tr>\n  </tbody>\n</table>\n</div>"
     },
     "execution_count": 11,
     "metadata": {},
     "output_type": "execute_result"
    }
   ],
   "source": [
    "dataset.iloc[[3,10]]"
   ],
   "metadata": {
    "collapsed": false,
    "pycharm": {
     "name": "#%%\n"
    }
   }
  },
  {
   "cell_type": "code",
   "execution_count": 12,
   "outputs": [
    {
     "data": {
      "text/plain": "                  Quilometragem  Zero_km  \\\nNome                                       \nDS5                         NaN     True   \nAston Martin DB4        25757.0    False   \nPalio Weekend           10728.0    False   \nA5                          NaN     True   \nSérie 3 Cabrio          77599.0    False   \nDodge Jorney            99197.0    False   \nCarens                  37978.0    False   \n\n                                                         Acessórios      Valor  \nNome                                                                            \nDS5               ['Travas elétricas', '4 X 4', 'Vidros elétrico...  124549.07  \nAston Martin DB4  ['Rodas de liga', '4 X 4', 'Central multimídia...   92612.10  \nPalio Weekend     ['Sensor de estacionamento', 'Teto panorâmico'...   97497.73  \nA5                ['Câmbio automático', 'Câmera de estacionament...   56445.20  \nSérie 3 Cabrio    ['Controle de estabilidade', 'Sensor crepuscul...  112310.44  \nDodge Jorney      ['Vidros elétricos', 'Piloto automático', 'Tet...  120716.27  \nCarens            ['Ar condicionado', 'Painel digital', 'Central...   76566.49  ",
      "text/html": "<div>\n<style scoped>\n    .dataframe tbody tr th:only-of-type {\n        vertical-align: middle;\n    }\n\n    .dataframe tbody tr th {\n        vertical-align: top;\n    }\n\n    .dataframe thead th {\n        text-align: right;\n    }\n</style>\n<table border=\"1\" class=\"dataframe\">\n  <thead>\n    <tr style=\"text-align: right;\">\n      <th></th>\n      <th>Quilometragem</th>\n      <th>Zero_km</th>\n      <th>Acessórios</th>\n      <th>Valor</th>\n    </tr>\n    <tr>\n      <th>Nome</th>\n      <th></th>\n      <th></th>\n      <th></th>\n      <th></th>\n    </tr>\n  </thead>\n  <tbody>\n    <tr>\n      <th>DS5</th>\n      <td>NaN</td>\n      <td>True</td>\n      <td>['Travas elétricas', '4 X 4', 'Vidros elétrico...</td>\n      <td>124549.07</td>\n    </tr>\n    <tr>\n      <th>Aston Martin DB4</th>\n      <td>25757.0</td>\n      <td>False</td>\n      <td>['Rodas de liga', '4 X 4', 'Central multimídia...</td>\n      <td>92612.10</td>\n    </tr>\n    <tr>\n      <th>Palio Weekend</th>\n      <td>10728.0</td>\n      <td>False</td>\n      <td>['Sensor de estacionamento', 'Teto panorâmico'...</td>\n      <td>97497.73</td>\n    </tr>\n    <tr>\n      <th>A5</th>\n      <td>NaN</td>\n      <td>True</td>\n      <td>['Câmbio automático', 'Câmera de estacionament...</td>\n      <td>56445.20</td>\n    </tr>\n    <tr>\n      <th>Série 3 Cabrio</th>\n      <td>77599.0</td>\n      <td>False</td>\n      <td>['Controle de estabilidade', 'Sensor crepuscul...</td>\n      <td>112310.44</td>\n    </tr>\n    <tr>\n      <th>Dodge Jorney</th>\n      <td>99197.0</td>\n      <td>False</td>\n      <td>['Vidros elétricos', 'Piloto automático', 'Tet...</td>\n      <td>120716.27</td>\n    </tr>\n    <tr>\n      <th>Carens</th>\n      <td>37978.0</td>\n      <td>False</td>\n      <td>['Ar condicionado', 'Painel digital', 'Central...</td>\n      <td>76566.49</td>\n    </tr>\n  </tbody>\n</table>\n</div>"
     },
     "execution_count": 12,
     "metadata": {},
     "output_type": "execute_result"
    }
   ],
   "source": [
    "dataset.iloc[3:10, [2, 3,4, 5]]"
   ],
   "metadata": {
    "collapsed": false,
    "pycharm": {
     "name": "#%%\n"
    }
   }
  },
  {
   "cell_type": "code",
   "execution_count": 13,
   "outputs": [
    {
     "data": {
      "text/plain": "           Quilometragem  Zero_km  \\\nNome                                \nDS5                  NaN     True   \nFord Edge        12859.0    False   \n\n                                                  Acessórios      Valor  \nNome                                                                     \nDS5        ['Travas elétricas', '4 X 4', 'Vidros elétrico...  124549.07  \nFord Edge  ['Sensor crepuscular', 'Rodas de liga', 'Teto ...   71647.59  ",
      "text/html": "<div>\n<style scoped>\n    .dataframe tbody tr th:only-of-type {\n        vertical-align: middle;\n    }\n\n    .dataframe tbody tr th {\n        vertical-align: top;\n    }\n\n    .dataframe thead th {\n        text-align: right;\n    }\n</style>\n<table border=\"1\" class=\"dataframe\">\n  <thead>\n    <tr style=\"text-align: right;\">\n      <th></th>\n      <th>Quilometragem</th>\n      <th>Zero_km</th>\n      <th>Acessórios</th>\n      <th>Valor</th>\n    </tr>\n    <tr>\n      <th>Nome</th>\n      <th></th>\n      <th></th>\n      <th></th>\n      <th></th>\n    </tr>\n  </thead>\n  <tbody>\n    <tr>\n      <th>DS5</th>\n      <td>NaN</td>\n      <td>True</td>\n      <td>['Travas elétricas', '4 X 4', 'Vidros elétrico...</td>\n      <td>124549.07</td>\n    </tr>\n    <tr>\n      <th>Ford Edge</th>\n      <td>12859.0</td>\n      <td>False</td>\n      <td>['Sensor crepuscular', 'Rodas de liga', 'Teto ...</td>\n      <td>71647.59</td>\n    </tr>\n  </tbody>\n</table>\n</div>"
     },
     "execution_count": 13,
     "metadata": {},
     "output_type": "execute_result"
    }
   ],
   "source": [
    "dataset.iloc[[3,10], [2, 3,4, 5]]"
   ],
   "metadata": {
    "collapsed": false,
    "pycharm": {
     "name": "#%%\n"
    }
   }
  },
  {
   "cell_type": "markdown",
   "source": [
    " Queries com DataFrame - Pandas"
   ],
   "metadata": {
    "collapsed": false
   }
  },
  {
   "cell_type": "code",
   "execution_count": 14,
   "outputs": [],
   "source": [
    "datasetCarros = pd.read_csv(\"dados/db.csv.\", sep=\";\", index_col=0)"
   ],
   "metadata": {
    "collapsed": false,
    "pycharm": {
     "name": "#%%\n"
    }
   }
  },
  {
   "cell_type": "code",
   "execution_count": 15,
   "outputs": [
    {
     "data": {
      "text/plain": "                            Motor   Ano  Quilometragem  Zero_km  \\\nNome                                                              \nJetta Variant     Motor 4.0 Turbo  2003        44410.0    False   \nPassat               Motor Diesel  1991         5712.0    False   \nCrossfox          Motor Diesel V8  1990        37123.0    False   \nDS5               Motor 2.4 Turbo  2019            NaN     True   \nAston Martin DB4  Motor 2.4 Turbo  2006        25757.0    False   \n\n                                                         Acessórios      Valor  \nNome                                                                            \nJetta Variant     ['Rodas de liga', 'Travas elétricas', 'Piloto ...   88078.64  \nPassat            ['Central multimídia', 'Teto panorâmico', 'Fre...  106161.94  \nCrossfox          ['Piloto automático', 'Controle de estabilidad...   72832.16  \nDS5               ['Travas elétricas', '4 X 4', 'Vidros elétrico...  124549.07  \nAston Martin DB4  ['Rodas de liga', '4 X 4', 'Central multimídia...   92612.10  ",
      "text/html": "<div>\n<style scoped>\n    .dataframe tbody tr th:only-of-type {\n        vertical-align: middle;\n    }\n\n    .dataframe tbody tr th {\n        vertical-align: top;\n    }\n\n    .dataframe thead th {\n        text-align: right;\n    }\n</style>\n<table border=\"1\" class=\"dataframe\">\n  <thead>\n    <tr style=\"text-align: right;\">\n      <th></th>\n      <th>Motor</th>\n      <th>Ano</th>\n      <th>Quilometragem</th>\n      <th>Zero_km</th>\n      <th>Acessórios</th>\n      <th>Valor</th>\n    </tr>\n    <tr>\n      <th>Nome</th>\n      <th></th>\n      <th></th>\n      <th></th>\n      <th></th>\n      <th></th>\n      <th></th>\n    </tr>\n  </thead>\n  <tbody>\n    <tr>\n      <th>Jetta Variant</th>\n      <td>Motor 4.0 Turbo</td>\n      <td>2003</td>\n      <td>44410.0</td>\n      <td>False</td>\n      <td>['Rodas de liga', 'Travas elétricas', 'Piloto ...</td>\n      <td>88078.64</td>\n    </tr>\n    <tr>\n      <th>Passat</th>\n      <td>Motor Diesel</td>\n      <td>1991</td>\n      <td>5712.0</td>\n      <td>False</td>\n      <td>['Central multimídia', 'Teto panorâmico', 'Fre...</td>\n      <td>106161.94</td>\n    </tr>\n    <tr>\n      <th>Crossfox</th>\n      <td>Motor Diesel V8</td>\n      <td>1990</td>\n      <td>37123.0</td>\n      <td>False</td>\n      <td>['Piloto automático', 'Controle de estabilidad...</td>\n      <td>72832.16</td>\n    </tr>\n    <tr>\n      <th>DS5</th>\n      <td>Motor 2.4 Turbo</td>\n      <td>2019</td>\n      <td>NaN</td>\n      <td>True</td>\n      <td>['Travas elétricas', '4 X 4', 'Vidros elétrico...</td>\n      <td>124549.07</td>\n    </tr>\n    <tr>\n      <th>Aston Martin DB4</th>\n      <td>Motor 2.4 Turbo</td>\n      <td>2006</td>\n      <td>25757.0</td>\n      <td>False</td>\n      <td>['Rodas de liga', '4 X 4', 'Central multimídia...</td>\n      <td>92612.10</td>\n    </tr>\n  </tbody>\n</table>\n</div>"
     },
     "execution_count": 15,
     "metadata": {},
     "output_type": "execute_result"
    }
   ],
   "source": [
    "datasetCarros.head()"
   ],
   "metadata": {
    "collapsed": false,
    "pycharm": {
     "name": "#%%\n"
    }
   }
  },
  {
   "cell_type": "code",
   "execution_count": 16,
   "outputs": [
    {
     "data": {
      "text/plain": "Nome\nJetta Variant                  Motor 4.0 Turbo\nPassat                            Motor Diesel\nCrossfox                       Motor Diesel V8\nDS5                            Motor 2.4 Turbo\nAston Martin DB4               Motor 2.4 Turbo\n                                 ...          \nPhantom 2013                          Motor V8\nCadillac Ciel concept                 Motor V8\nClasse GLK               Motor 5.0 V8 Bi-Turbo\nAston Martin DB5                  Motor Diesel\nMacan                          Motor Diesel V6\nName: Motor, Length: 258, dtype: object"
     },
     "execution_count": 16,
     "metadata": {},
     "output_type": "execute_result"
    }
   ],
   "source": [
    "datasetCarros.Motor"
   ],
   "metadata": {
    "collapsed": false,
    "pycharm": {
     "name": "#%%\n"
    }
   }
  },
  {
   "cell_type": "code",
   "execution_count": 17,
   "outputs": [],
   "source": [
    "selectMotorTurbo = datasetCarros == 'Motor 2.4 Turbo'"
   ],
   "metadata": {
    "collapsed": false,
    "pycharm": {
     "name": "#%%\n"
    }
   }
  },
  {
   "cell_type": "code",
   "execution_count": 18,
   "outputs": [
    {
     "data": {
      "text/plain": "                       Motor    Ano  Quilometragem  Zero_km  Acessórios  Valor\nNome                                                                          \nJetta Variant          False  False          False    False       False  False\nPassat                 False  False          False    False       False  False\nCrossfox               False  False          False    False       False  False\nDS5                     True  False          False    False       False  False\nAston Martin DB4        True  False          False    False       False  False\n...                      ...    ...            ...      ...         ...    ...\nPhantom 2013           False  False          False    False       False  False\nCadillac Ciel concept  False  False          False    False       False  False\nClasse GLK             False  False          False    False       False  False\nAston Martin DB5       False  False          False    False       False  False\nMacan                  False  False          False    False       False  False\n\n[258 rows x 6 columns]",
      "text/html": "<div>\n<style scoped>\n    .dataframe tbody tr th:only-of-type {\n        vertical-align: middle;\n    }\n\n    .dataframe tbody tr th {\n        vertical-align: top;\n    }\n\n    .dataframe thead th {\n        text-align: right;\n    }\n</style>\n<table border=\"1\" class=\"dataframe\">\n  <thead>\n    <tr style=\"text-align: right;\">\n      <th></th>\n      <th>Motor</th>\n      <th>Ano</th>\n      <th>Quilometragem</th>\n      <th>Zero_km</th>\n      <th>Acessórios</th>\n      <th>Valor</th>\n    </tr>\n    <tr>\n      <th>Nome</th>\n      <th></th>\n      <th></th>\n      <th></th>\n      <th></th>\n      <th></th>\n      <th></th>\n    </tr>\n  </thead>\n  <tbody>\n    <tr>\n      <th>Jetta Variant</th>\n      <td>False</td>\n      <td>False</td>\n      <td>False</td>\n      <td>False</td>\n      <td>False</td>\n      <td>False</td>\n    </tr>\n    <tr>\n      <th>Passat</th>\n      <td>False</td>\n      <td>False</td>\n      <td>False</td>\n      <td>False</td>\n      <td>False</td>\n      <td>False</td>\n    </tr>\n    <tr>\n      <th>Crossfox</th>\n      <td>False</td>\n      <td>False</td>\n      <td>False</td>\n      <td>False</td>\n      <td>False</td>\n      <td>False</td>\n    </tr>\n    <tr>\n      <th>DS5</th>\n      <td>True</td>\n      <td>False</td>\n      <td>False</td>\n      <td>False</td>\n      <td>False</td>\n      <td>False</td>\n    </tr>\n    <tr>\n      <th>Aston Martin DB4</th>\n      <td>True</td>\n      <td>False</td>\n      <td>False</td>\n      <td>False</td>\n      <td>False</td>\n      <td>False</td>\n    </tr>\n    <tr>\n      <th>...</th>\n      <td>...</td>\n      <td>...</td>\n      <td>...</td>\n      <td>...</td>\n      <td>...</td>\n      <td>...</td>\n    </tr>\n    <tr>\n      <th>Phantom 2013</th>\n      <td>False</td>\n      <td>False</td>\n      <td>False</td>\n      <td>False</td>\n      <td>False</td>\n      <td>False</td>\n    </tr>\n    <tr>\n      <th>Cadillac Ciel concept</th>\n      <td>False</td>\n      <td>False</td>\n      <td>False</td>\n      <td>False</td>\n      <td>False</td>\n      <td>False</td>\n    </tr>\n    <tr>\n      <th>Classe GLK</th>\n      <td>False</td>\n      <td>False</td>\n      <td>False</td>\n      <td>False</td>\n      <td>False</td>\n      <td>False</td>\n    </tr>\n    <tr>\n      <th>Aston Martin DB5</th>\n      <td>False</td>\n      <td>False</td>\n      <td>False</td>\n      <td>False</td>\n      <td>False</td>\n      <td>False</td>\n    </tr>\n    <tr>\n      <th>Macan</th>\n      <td>False</td>\n      <td>False</td>\n      <td>False</td>\n      <td>False</td>\n      <td>False</td>\n      <td>False</td>\n    </tr>\n  </tbody>\n</table>\n<p>258 rows × 6 columns</p>\n</div>"
     },
     "execution_count": 18,
     "metadata": {},
     "output_type": "execute_result"
    }
   ],
   "source": [
    "selectMotorTurbo"
   ],
   "metadata": {
    "collapsed": false,
    "pycharm": {
     "name": "#%%\n"
    }
   }
  },
  {
   "cell_type": "code",
   "execution_count": 19,
   "outputs": [
    {
     "data": {
      "text/plain": "pandas.core.frame.DataFrame"
     },
     "execution_count": 19,
     "metadata": {},
     "output_type": "execute_result"
    }
   ],
   "source": [
    "type(selectMotorTurbo)"
   ],
   "metadata": {
    "collapsed": false,
    "pycharm": {
     "name": "#%%\n"
    }
   }
  },
  {
   "cell_type": "code",
   "execution_count": 20,
   "outputs": [
    {
     "data": {
      "text/plain": "                                 Motor  Ano  Quilometragem  Zero_km  \\\nNome                                                                  \nJetta Variant                      NaN  NaN            NaN      NaN   \nPassat                             NaN  NaN            NaN      NaN   \nCrossfox                           NaN  NaN            NaN      NaN   \nDS5                    Motor 2.4 Turbo  NaN            NaN      NaN   \nAston Martin DB4       Motor 2.4 Turbo  NaN            NaN      NaN   \n...                                ...  ...            ...      ...   \nPhantom 2013                       NaN  NaN            NaN      NaN   \nCadillac Ciel concept              NaN  NaN            NaN      NaN   \nClasse GLK                         NaN  NaN            NaN      NaN   \nAston Martin DB5                   NaN  NaN            NaN      NaN   \nMacan                              NaN  NaN            NaN      NaN   \n\n                      Acessórios  Valor  \nNome                                     \nJetta Variant                NaN    NaN  \nPassat                       NaN    NaN  \nCrossfox                     NaN    NaN  \nDS5                          NaN    NaN  \nAston Martin DB4             NaN    NaN  \n...                          ...    ...  \nPhantom 2013                 NaN    NaN  \nCadillac Ciel concept        NaN    NaN  \nClasse GLK                   NaN    NaN  \nAston Martin DB5             NaN    NaN  \nMacan                        NaN    NaN  \n\n[258 rows x 6 columns]",
      "text/html": "<div>\n<style scoped>\n    .dataframe tbody tr th:only-of-type {\n        vertical-align: middle;\n    }\n\n    .dataframe tbody tr th {\n        vertical-align: top;\n    }\n\n    .dataframe thead th {\n        text-align: right;\n    }\n</style>\n<table border=\"1\" class=\"dataframe\">\n  <thead>\n    <tr style=\"text-align: right;\">\n      <th></th>\n      <th>Motor</th>\n      <th>Ano</th>\n      <th>Quilometragem</th>\n      <th>Zero_km</th>\n      <th>Acessórios</th>\n      <th>Valor</th>\n    </tr>\n    <tr>\n      <th>Nome</th>\n      <th></th>\n      <th></th>\n      <th></th>\n      <th></th>\n      <th></th>\n      <th></th>\n    </tr>\n  </thead>\n  <tbody>\n    <tr>\n      <th>Jetta Variant</th>\n      <td>NaN</td>\n      <td>NaN</td>\n      <td>NaN</td>\n      <td>NaN</td>\n      <td>NaN</td>\n      <td>NaN</td>\n    </tr>\n    <tr>\n      <th>Passat</th>\n      <td>NaN</td>\n      <td>NaN</td>\n      <td>NaN</td>\n      <td>NaN</td>\n      <td>NaN</td>\n      <td>NaN</td>\n    </tr>\n    <tr>\n      <th>Crossfox</th>\n      <td>NaN</td>\n      <td>NaN</td>\n      <td>NaN</td>\n      <td>NaN</td>\n      <td>NaN</td>\n      <td>NaN</td>\n    </tr>\n    <tr>\n      <th>DS5</th>\n      <td>Motor 2.4 Turbo</td>\n      <td>NaN</td>\n      <td>NaN</td>\n      <td>NaN</td>\n      <td>NaN</td>\n      <td>NaN</td>\n    </tr>\n    <tr>\n      <th>Aston Martin DB4</th>\n      <td>Motor 2.4 Turbo</td>\n      <td>NaN</td>\n      <td>NaN</td>\n      <td>NaN</td>\n      <td>NaN</td>\n      <td>NaN</td>\n    </tr>\n    <tr>\n      <th>...</th>\n      <td>...</td>\n      <td>...</td>\n      <td>...</td>\n      <td>...</td>\n      <td>...</td>\n      <td>...</td>\n    </tr>\n    <tr>\n      <th>Phantom 2013</th>\n      <td>NaN</td>\n      <td>NaN</td>\n      <td>NaN</td>\n      <td>NaN</td>\n      <td>NaN</td>\n      <td>NaN</td>\n    </tr>\n    <tr>\n      <th>Cadillac Ciel concept</th>\n      <td>NaN</td>\n      <td>NaN</td>\n      <td>NaN</td>\n      <td>NaN</td>\n      <td>NaN</td>\n      <td>NaN</td>\n    </tr>\n    <tr>\n      <th>Classe GLK</th>\n      <td>NaN</td>\n      <td>NaN</td>\n      <td>NaN</td>\n      <td>NaN</td>\n      <td>NaN</td>\n      <td>NaN</td>\n    </tr>\n    <tr>\n      <th>Aston Martin DB5</th>\n      <td>NaN</td>\n      <td>NaN</td>\n      <td>NaN</td>\n      <td>NaN</td>\n      <td>NaN</td>\n      <td>NaN</td>\n    </tr>\n    <tr>\n      <th>Macan</th>\n      <td>NaN</td>\n      <td>NaN</td>\n      <td>NaN</td>\n      <td>NaN</td>\n      <td>NaN</td>\n      <td>NaN</td>\n    </tr>\n  </tbody>\n</table>\n<p>258 rows × 6 columns</p>\n</div>"
     },
     "execution_count": 20,
     "metadata": {},
     "output_type": "execute_result"
    }
   ],
   "source": [
    "datasetCarros[selectMotorTurbo]"
   ],
   "metadata": {
    "collapsed": false,
    "pycharm": {
     "name": "#%%\n"
    }
   }
  },
  {
   "cell_type": "code",
   "execution_count": 21,
   "outputs": [
    {
     "data": {
      "text/plain": "                      Motor   Ano  Quilometragem  Zero_km  \\\nNome                                                        \nDS5         Motor 2.4 Turbo  2019            NaN     True   \nPajero TR4  Motor 2.4 Turbo  2019            NaN     True   \nS60         Motor 2.4 Turbo  2019            NaN     True   \nPartner     Motor 2.4 Turbo  2019            NaN     True   \n\n                                                   Acessórios      Valor  \nNome                                                                      \nDS5         ['Travas elétricas', '4 X 4', 'Vidros elétrico...  124549.07  \nPajero TR4  ['Controle de tração', 'Bancos de couro', 'Câm...   51606.59  \nS60         ['Teto panorâmico', 'Freios ABS', '4 X 4', 'Ar...  102609.54  \nPartner     ['Central multimídia', 'Controle de tração', '...  114531.74  ",
      "text/html": "<div>\n<style scoped>\n    .dataframe tbody tr th:only-of-type {\n        vertical-align: middle;\n    }\n\n    .dataframe tbody tr th {\n        vertical-align: top;\n    }\n\n    .dataframe thead th {\n        text-align: right;\n    }\n</style>\n<table border=\"1\" class=\"dataframe\">\n  <thead>\n    <tr style=\"text-align: right;\">\n      <th></th>\n      <th>Motor</th>\n      <th>Ano</th>\n      <th>Quilometragem</th>\n      <th>Zero_km</th>\n      <th>Acessórios</th>\n      <th>Valor</th>\n    </tr>\n    <tr>\n      <th>Nome</th>\n      <th></th>\n      <th></th>\n      <th></th>\n      <th></th>\n      <th></th>\n      <th></th>\n    </tr>\n  </thead>\n  <tbody>\n    <tr>\n      <th>DS5</th>\n      <td>Motor 2.4 Turbo</td>\n      <td>2019</td>\n      <td>NaN</td>\n      <td>True</td>\n      <td>['Travas elétricas', '4 X 4', 'Vidros elétrico...</td>\n      <td>124549.07</td>\n    </tr>\n    <tr>\n      <th>Pajero TR4</th>\n      <td>Motor 2.4 Turbo</td>\n      <td>2019</td>\n      <td>NaN</td>\n      <td>True</td>\n      <td>['Controle de tração', 'Bancos de couro', 'Câm...</td>\n      <td>51606.59</td>\n    </tr>\n    <tr>\n      <th>S60</th>\n      <td>Motor 2.4 Turbo</td>\n      <td>2019</td>\n      <td>NaN</td>\n      <td>True</td>\n      <td>['Teto panorâmico', 'Freios ABS', '4 X 4', 'Ar...</td>\n      <td>102609.54</td>\n    </tr>\n    <tr>\n      <th>Partner</th>\n      <td>Motor 2.4 Turbo</td>\n      <td>2019</td>\n      <td>NaN</td>\n      <td>True</td>\n      <td>['Central multimídia', 'Controle de tração', '...</td>\n      <td>114531.74</td>\n    </tr>\n  </tbody>\n</table>\n</div>"
     },
     "execution_count": 21,
     "metadata": {},
     "output_type": "execute_result"
    }
   ],
   "source": [
    "datasetCarros[(datasetCarros.Motor == \"Motor 2.4 Turbo\") & (datasetCarros.Zero_km == True)]"
   ],
   "metadata": {
    "collapsed": false,
    "pycharm": {
     "name": "#%%\n"
    }
   }
  },
  {
   "cell_type": "code",
   "execution_count": 22,
   "outputs": [
    {
     "data": {
      "text/plain": "Nome\nJetta Variant            False\nPassat                   False\nCrossfox                 False\nDS5                       True\nAston Martin DB4         False\n                         ...  \nPhantom 2013             False\nCadillac Ciel concept    False\nClasse GLK               False\nAston Martin DB5         False\nMacan                    False\nLength: 258, dtype: bool"
     },
     "execution_count": 22,
     "metadata": {},
     "output_type": "execute_result"
    }
   ],
   "source": [
    "(datasetCarros.Motor == \"Motor 2.4 Turbo\") & (datasetCarros.Zero_km == True)"
   ],
   "metadata": {
    "collapsed": false,
    "pycharm": {
     "name": "#%%\n"
    }
   }
  },
  {
   "cell_type": "markdown",
   "source": [
    "Usando método Query"
   ],
   "metadata": {
    "collapsed": false
   }
  },
  {
   "cell_type": "code",
   "execution_count": 23,
   "outputs": [
    {
     "data": {
      "text/plain": "                      Motor   Ano  Quilometragem  Zero_km  \\\nNome                                                        \nDS5         Motor 2.4 Turbo  2019            NaN     True   \nPajero TR4  Motor 2.4 Turbo  2019            NaN     True   \nS60         Motor 2.4 Turbo  2019            NaN     True   \nPartner     Motor 2.4 Turbo  2019            NaN     True   \n\n                                                   Acessórios      Valor  \nNome                                                                      \nDS5         ['Travas elétricas', '4 X 4', 'Vidros elétrico...  124549.07  \nPajero TR4  ['Controle de tração', 'Bancos de couro', 'Câm...   51606.59  \nS60         ['Teto panorâmico', 'Freios ABS', '4 X 4', 'Ar...  102609.54  \nPartner     ['Central multimídia', 'Controle de tração', '...  114531.74  ",
      "text/html": "<div>\n<style scoped>\n    .dataframe tbody tr th:only-of-type {\n        vertical-align: middle;\n    }\n\n    .dataframe tbody tr th {\n        vertical-align: top;\n    }\n\n    .dataframe thead th {\n        text-align: right;\n    }\n</style>\n<table border=\"1\" class=\"dataframe\">\n  <thead>\n    <tr style=\"text-align: right;\">\n      <th></th>\n      <th>Motor</th>\n      <th>Ano</th>\n      <th>Quilometragem</th>\n      <th>Zero_km</th>\n      <th>Acessórios</th>\n      <th>Valor</th>\n    </tr>\n    <tr>\n      <th>Nome</th>\n      <th></th>\n      <th></th>\n      <th></th>\n      <th></th>\n      <th></th>\n      <th></th>\n    </tr>\n  </thead>\n  <tbody>\n    <tr>\n      <th>DS5</th>\n      <td>Motor 2.4 Turbo</td>\n      <td>2019</td>\n      <td>NaN</td>\n      <td>True</td>\n      <td>['Travas elétricas', '4 X 4', 'Vidros elétrico...</td>\n      <td>124549.07</td>\n    </tr>\n    <tr>\n      <th>Pajero TR4</th>\n      <td>Motor 2.4 Turbo</td>\n      <td>2019</td>\n      <td>NaN</td>\n      <td>True</td>\n      <td>['Controle de tração', 'Bancos de couro', 'Câm...</td>\n      <td>51606.59</td>\n    </tr>\n    <tr>\n      <th>S60</th>\n      <td>Motor 2.4 Turbo</td>\n      <td>2019</td>\n      <td>NaN</td>\n      <td>True</td>\n      <td>['Teto panorâmico', 'Freios ABS', '4 X 4', 'Ar...</td>\n      <td>102609.54</td>\n    </tr>\n    <tr>\n      <th>Partner</th>\n      <td>Motor 2.4 Turbo</td>\n      <td>2019</td>\n      <td>NaN</td>\n      <td>True</td>\n      <td>['Central multimídia', 'Controle de tração', '...</td>\n      <td>114531.74</td>\n    </tr>\n  </tbody>\n</table>\n</div>"
     },
     "execution_count": 23,
     "metadata": {},
     "output_type": "execute_result"
    }
   ],
   "source": [
    "datasetCarros.query(\"Motor == 'Motor 2.4 Turbo' and  Zero_km == True\")"
   ],
   "metadata": {
    "collapsed": false,
    "pycharm": {
     "name": "#%%\n"
    }
   }
  },
  {
   "cell_type": "markdown",
   "source": [
    "Interando com DataFrame"
   ],
   "metadata": {
    "collapsed": false
   }
  },
  {
   "cell_type": "code",
   "execution_count": 24,
   "outputs": [
    {
     "data": {
      "text/plain": "                            Motor   Ano  Quilometragem  Zero_km  \\\nNome                                                              \nJetta Variant     Motor 4.0 Turbo  2003        44410.0    False   \nPassat               Motor Diesel  1991         5712.0    False   \nCrossfox          Motor Diesel V8  1990        37123.0    False   \nDS5               Motor 2.4 Turbo  2019            NaN     True   \nAston Martin DB4  Motor 2.4 Turbo  2006        25757.0    False   \n\n                                                         Acessórios      Valor  \nNome                                                                            \nJetta Variant     ['Rodas de liga', 'Travas elétricas', 'Piloto ...   88078.64  \nPassat            ['Central multimídia', 'Teto panorâmico', 'Fre...  106161.94  \nCrossfox          ['Piloto automático', 'Controle de estabilidad...   72832.16  \nDS5               ['Travas elétricas', '4 X 4', 'Vidros elétrico...  124549.07  \nAston Martin DB4  ['Rodas de liga', '4 X 4', 'Central multimídia...   92612.10  ",
      "text/html": "<div>\n<style scoped>\n    .dataframe tbody tr th:only-of-type {\n        vertical-align: middle;\n    }\n\n    .dataframe tbody tr th {\n        vertical-align: top;\n    }\n\n    .dataframe thead th {\n        text-align: right;\n    }\n</style>\n<table border=\"1\" class=\"dataframe\">\n  <thead>\n    <tr style=\"text-align: right;\">\n      <th></th>\n      <th>Motor</th>\n      <th>Ano</th>\n      <th>Quilometragem</th>\n      <th>Zero_km</th>\n      <th>Acessórios</th>\n      <th>Valor</th>\n    </tr>\n    <tr>\n      <th>Nome</th>\n      <th></th>\n      <th></th>\n      <th></th>\n      <th></th>\n      <th></th>\n      <th></th>\n    </tr>\n  </thead>\n  <tbody>\n    <tr>\n      <th>Jetta Variant</th>\n      <td>Motor 4.0 Turbo</td>\n      <td>2003</td>\n      <td>44410.0</td>\n      <td>False</td>\n      <td>['Rodas de liga', 'Travas elétricas', 'Piloto ...</td>\n      <td>88078.64</td>\n    </tr>\n    <tr>\n      <th>Passat</th>\n      <td>Motor Diesel</td>\n      <td>1991</td>\n      <td>5712.0</td>\n      <td>False</td>\n      <td>['Central multimídia', 'Teto panorâmico', 'Fre...</td>\n      <td>106161.94</td>\n    </tr>\n    <tr>\n      <th>Crossfox</th>\n      <td>Motor Diesel V8</td>\n      <td>1990</td>\n      <td>37123.0</td>\n      <td>False</td>\n      <td>['Piloto automático', 'Controle de estabilidad...</td>\n      <td>72832.16</td>\n    </tr>\n    <tr>\n      <th>DS5</th>\n      <td>Motor 2.4 Turbo</td>\n      <td>2019</td>\n      <td>NaN</td>\n      <td>True</td>\n      <td>['Travas elétricas', '4 X 4', 'Vidros elétrico...</td>\n      <td>124549.07</td>\n    </tr>\n    <tr>\n      <th>Aston Martin DB4</th>\n      <td>Motor 2.4 Turbo</td>\n      <td>2006</td>\n      <td>25757.0</td>\n      <td>False</td>\n      <td>['Rodas de liga', '4 X 4', 'Central multimídia...</td>\n      <td>92612.10</td>\n    </tr>\n  </tbody>\n</table>\n</div>"
     },
     "execution_count": 24,
     "metadata": {},
     "output_type": "execute_result"
    }
   ],
   "source": [
    "dataset.head()"
   ],
   "metadata": {
    "collapsed": false,
    "pycharm": {
     "name": "#%%\n"
    }
   }
  },
  {
   "cell_type": "code",
   "execution_count": 28,
   "outputs": [
    {
     "data": {
      "text/plain": "                                       Motor   Ano  Quilometragem  Zero_km  \\\nNome                                                                         \nJetta Variant                Motor 4.0 Turbo  2003        44410.0    False   \nPassat                          Motor Diesel  1991         5712.0    False   \nCrossfox                     Motor Diesel V8  1990        37123.0    False   \nDS5                          Motor 2.4 Turbo  2019            NaN     True   \nAston Martin DB4             Motor 2.4 Turbo  2006        25757.0    False   \n...                                      ...   ...            ...      ...   \nPhantom 2013                        Motor V8  2014        27505.0    False   \nCadillac Ciel concept               Motor V8  1991        29981.0    False   \nClasse GLK             Motor 5.0 V8 Bi-Turbo  2002        52637.0    False   \nAston Martin DB5                Motor Diesel  1996         7685.0    False   \nMacan                        Motor Diesel V6  1992        50188.0    False   \n\n                                                              Acessórios  \\\nNome                                                                       \nJetta Variant          ['Rodas de liga', 'Travas elétricas', 'Piloto ...   \nPassat                 ['Central multimídia', 'Teto panorâmico', 'Fre...   \nCrossfox               ['Piloto automático', 'Controle de estabilidad...   \nDS5                    ['Travas elétricas', '4 X 4', 'Vidros elétrico...   \nAston Martin DB4       ['Rodas de liga', '4 X 4', 'Central multimídia...   \n...                                                                  ...   \nPhantom 2013           ['Controle de estabilidade', 'Piloto automátic...   \nCadillac Ciel concept  ['Bancos de couro', 'Painel digital', 'Sensor ...   \nClasse GLK             ['Rodas de liga', 'Controle de tração', 'Câmbi...   \nAston Martin DB5       ['Ar condicionado', '4 X 4', 'Câmbio automátic...   \nMacan                  ['Central multimídia', 'Teto panorâmico', 'Vid...   \n\n                           Valor     Km_media  \nNome                                           \nJetta Variant           88078.64  2467.222222  \nPassat                 106161.94   190.400000  \nCrossfox                72832.16  1197.516129  \nDS5                    124549.07          NaN  \nAston Martin DB4        92612.10  1717.133333  \n...                          ...          ...  \nPhantom 2013            51759.58  3929.285714  \nCadillac Ciel concept   51667.06   999.366667  \nClasse GLK              68934.03  2770.368421  \nAston Martin DB5       122110.90   307.400000  \nMacan                   90381.47  1730.620690  \n\n[258 rows x 7 columns]",
      "text/html": "<div>\n<style scoped>\n    .dataframe tbody tr th:only-of-type {\n        vertical-align: middle;\n    }\n\n    .dataframe tbody tr th {\n        vertical-align: top;\n    }\n\n    .dataframe thead th {\n        text-align: right;\n    }\n</style>\n<table border=\"1\" class=\"dataframe\">\n  <thead>\n    <tr style=\"text-align: right;\">\n      <th></th>\n      <th>Motor</th>\n      <th>Ano</th>\n      <th>Quilometragem</th>\n      <th>Zero_km</th>\n      <th>Acessórios</th>\n      <th>Valor</th>\n      <th>Km_media</th>\n    </tr>\n    <tr>\n      <th>Nome</th>\n      <th></th>\n      <th></th>\n      <th></th>\n      <th></th>\n      <th></th>\n      <th></th>\n      <th></th>\n    </tr>\n  </thead>\n  <tbody>\n    <tr>\n      <th>Jetta Variant</th>\n      <td>Motor 4.0 Turbo</td>\n      <td>2003</td>\n      <td>44410.0</td>\n      <td>False</td>\n      <td>['Rodas de liga', 'Travas elétricas', 'Piloto ...</td>\n      <td>88078.64</td>\n      <td>2467.222222</td>\n    </tr>\n    <tr>\n      <th>Passat</th>\n      <td>Motor Diesel</td>\n      <td>1991</td>\n      <td>5712.0</td>\n      <td>False</td>\n      <td>['Central multimídia', 'Teto panorâmico', 'Fre...</td>\n      <td>106161.94</td>\n      <td>190.400000</td>\n    </tr>\n    <tr>\n      <th>Crossfox</th>\n      <td>Motor Diesel V8</td>\n      <td>1990</td>\n      <td>37123.0</td>\n      <td>False</td>\n      <td>['Piloto automático', 'Controle de estabilidad...</td>\n      <td>72832.16</td>\n      <td>1197.516129</td>\n    </tr>\n    <tr>\n      <th>DS5</th>\n      <td>Motor 2.4 Turbo</td>\n      <td>2019</td>\n      <td>NaN</td>\n      <td>True</td>\n      <td>['Travas elétricas', '4 X 4', 'Vidros elétrico...</td>\n      <td>124549.07</td>\n      <td>NaN</td>\n    </tr>\n    <tr>\n      <th>Aston Martin DB4</th>\n      <td>Motor 2.4 Turbo</td>\n      <td>2006</td>\n      <td>25757.0</td>\n      <td>False</td>\n      <td>['Rodas de liga', '4 X 4', 'Central multimídia...</td>\n      <td>92612.10</td>\n      <td>1717.133333</td>\n    </tr>\n    <tr>\n      <th>...</th>\n      <td>...</td>\n      <td>...</td>\n      <td>...</td>\n      <td>...</td>\n      <td>...</td>\n      <td>...</td>\n      <td>...</td>\n    </tr>\n    <tr>\n      <th>Phantom 2013</th>\n      <td>Motor V8</td>\n      <td>2014</td>\n      <td>27505.0</td>\n      <td>False</td>\n      <td>['Controle de estabilidade', 'Piloto automátic...</td>\n      <td>51759.58</td>\n      <td>3929.285714</td>\n    </tr>\n    <tr>\n      <th>Cadillac Ciel concept</th>\n      <td>Motor V8</td>\n      <td>1991</td>\n      <td>29981.0</td>\n      <td>False</td>\n      <td>['Bancos de couro', 'Painel digital', 'Sensor ...</td>\n      <td>51667.06</td>\n      <td>999.366667</td>\n    </tr>\n    <tr>\n      <th>Classe GLK</th>\n      <td>Motor 5.0 V8 Bi-Turbo</td>\n      <td>2002</td>\n      <td>52637.0</td>\n      <td>False</td>\n      <td>['Rodas de liga', 'Controle de tração', 'Câmbi...</td>\n      <td>68934.03</td>\n      <td>2770.368421</td>\n    </tr>\n    <tr>\n      <th>Aston Martin DB5</th>\n      <td>Motor Diesel</td>\n      <td>1996</td>\n      <td>7685.0</td>\n      <td>False</td>\n      <td>['Ar condicionado', '4 X 4', 'Câmbio automátic...</td>\n      <td>122110.90</td>\n      <td>307.400000</td>\n    </tr>\n    <tr>\n      <th>Macan</th>\n      <td>Motor Diesel V6</td>\n      <td>1992</td>\n      <td>50188.0</td>\n      <td>False</td>\n      <td>['Central multimídia', 'Teto panorâmico', 'Vid...</td>\n      <td>90381.47</td>\n      <td>1730.620690</td>\n    </tr>\n  </tbody>\n</table>\n<p>258 rows × 7 columns</p>\n</div>"
     },
     "execution_count": 28,
     "metadata": {},
     "output_type": "execute_result"
    }
   ],
   "source": [
    "# list(dataset.iterrows())\n",
    "for index, row in dataset.iterrows():\n",
    "    if(2021 - row['Ano'] != 0):\n",
    "        dataset.loc[index, 'Km_media'] = row['Quilometragem'] /(2021 - row['Ano'])\n",
    "    else:\n",
    "        dataset.loc[index, 'Km_media']  = 0\n",
    "dataset"
   ],
   "metadata": {
    "collapsed": false,
    "pycharm": {
     "name": "#%%\n"
    }
   }
  },
  {
   "cell_type": "markdown",
   "source": [
    "##  Tratamento de Dados"
   ],
   "metadata": {
    "collapsed": false
   }
  },
  {
   "cell_type": "code",
   "execution_count": 29,
   "outputs": [
    {
     "data": {
      "text/plain": "                            Motor   Ano  Quilometragem  Zero_km  \\\nNome                                                              \nJetta Variant     Motor 4.0 Turbo  2003        44410.0    False   \nPassat               Motor Diesel  1991         5712.0    False   \nCrossfox          Motor Diesel V8  1990        37123.0    False   \nDS5               Motor 2.4 Turbo  2019            NaN     True   \nAston Martin DB4  Motor 2.4 Turbo  2006        25757.0    False   \n\n                                                         Acessórios  \\\nNome                                                                  \nJetta Variant     ['Rodas de liga', 'Travas elétricas', 'Piloto ...   \nPassat            ['Central multimídia', 'Teto panorâmico', 'Fre...   \nCrossfox          ['Piloto automático', 'Controle de estabilidad...   \nDS5               ['Travas elétricas', '4 X 4', 'Vidros elétrico...   \nAston Martin DB4  ['Rodas de liga', '4 X 4', 'Central multimídia...   \n\n                      Valor     Km_media  \nNome                                      \nJetta Variant      88078.64  2467.222222  \nPassat            106161.94   190.400000  \nCrossfox           72832.16  1197.516129  \nDS5               124549.07          NaN  \nAston Martin DB4   92612.10  1717.133333  ",
      "text/html": "<div>\n<style scoped>\n    .dataframe tbody tr th:only-of-type {\n        vertical-align: middle;\n    }\n\n    .dataframe tbody tr th {\n        vertical-align: top;\n    }\n\n    .dataframe thead th {\n        text-align: right;\n    }\n</style>\n<table border=\"1\" class=\"dataframe\">\n  <thead>\n    <tr style=\"text-align: right;\">\n      <th></th>\n      <th>Motor</th>\n      <th>Ano</th>\n      <th>Quilometragem</th>\n      <th>Zero_km</th>\n      <th>Acessórios</th>\n      <th>Valor</th>\n      <th>Km_media</th>\n    </tr>\n    <tr>\n      <th>Nome</th>\n      <th></th>\n      <th></th>\n      <th></th>\n      <th></th>\n      <th></th>\n      <th></th>\n      <th></th>\n    </tr>\n  </thead>\n  <tbody>\n    <tr>\n      <th>Jetta Variant</th>\n      <td>Motor 4.0 Turbo</td>\n      <td>2003</td>\n      <td>44410.0</td>\n      <td>False</td>\n      <td>['Rodas de liga', 'Travas elétricas', 'Piloto ...</td>\n      <td>88078.64</td>\n      <td>2467.222222</td>\n    </tr>\n    <tr>\n      <th>Passat</th>\n      <td>Motor Diesel</td>\n      <td>1991</td>\n      <td>5712.0</td>\n      <td>False</td>\n      <td>['Central multimídia', 'Teto panorâmico', 'Fre...</td>\n      <td>106161.94</td>\n      <td>190.400000</td>\n    </tr>\n    <tr>\n      <th>Crossfox</th>\n      <td>Motor Diesel V8</td>\n      <td>1990</td>\n      <td>37123.0</td>\n      <td>False</td>\n      <td>['Piloto automático', 'Controle de estabilidad...</td>\n      <td>72832.16</td>\n      <td>1197.516129</td>\n    </tr>\n    <tr>\n      <th>DS5</th>\n      <td>Motor 2.4 Turbo</td>\n      <td>2019</td>\n      <td>NaN</td>\n      <td>True</td>\n      <td>['Travas elétricas', '4 X 4', 'Vidros elétrico...</td>\n      <td>124549.07</td>\n      <td>NaN</td>\n    </tr>\n    <tr>\n      <th>Aston Martin DB4</th>\n      <td>Motor 2.4 Turbo</td>\n      <td>2006</td>\n      <td>25757.0</td>\n      <td>False</td>\n      <td>['Rodas de liga', '4 X 4', 'Central multimídia...</td>\n      <td>92612.10</td>\n      <td>1717.133333</td>\n    </tr>\n  </tbody>\n</table>\n</div>"
     },
     "execution_count": 29,
     "metadata": {},
     "output_type": "execute_result"
    }
   ],
   "source": [
    "dataset.head()"
   ],
   "metadata": {
    "collapsed": false,
    "pycharm": {
     "name": "#%%\n"
    }
   }
  },
  {
   "cell_type": "code",
   "execution_count": 30,
   "outputs": [
    {
     "name": "stdout",
     "output_type": "stream",
     "text": [
      "<class 'pandas.core.frame.DataFrame'>\n",
      "Index: 258 entries, Jetta Variant to Macan\n",
      "Data columns (total 7 columns):\n",
      " #   Column         Non-Null Count  Dtype  \n",
      "---  ------         --------------  -----  \n",
      " 0   Motor          258 non-null    object \n",
      " 1   Ano            258 non-null    int64  \n",
      " 2   Quilometragem  197 non-null    float64\n",
      " 3   Zero_km        258 non-null    bool   \n",
      " 4   Acessórios     258 non-null    object \n",
      " 5   Valor          258 non-null    float64\n",
      " 6   Km_media       197 non-null    float64\n",
      "dtypes: bool(1), float64(3), int64(1), object(2)\n",
      "memory usage: 24.4+ KB\n"
     ]
    }
   ],
   "source": [
    "dataset.info()"
   ],
   "metadata": {
    "collapsed": false,
    "pycharm": {
     "name": "#%%\n"
    }
   }
  },
  {
   "cell_type": "code",
   "execution_count": 31,
   "outputs": [
    {
     "data": {
      "text/plain": "Nome\nJetta Variant            False\nPassat                   False\nCrossfox                 False\nDS5                       True\nAston Martin DB4         False\n                         ...  \nPhantom 2013             False\nCadillac Ciel concept    False\nClasse GLK               False\nAston Martin DB5         False\nMacan                    False\nName: Quilometragem, Length: 258, dtype: bool"
     },
     "execution_count": 31,
     "metadata": {},
     "output_type": "execute_result"
    }
   ],
   "source": [
    "dataset.Quilometragem.isna()"
   ],
   "metadata": {
    "collapsed": false,
    "pycharm": {
     "name": "#%%\n"
    }
   }
  },
  {
   "cell_type": "code",
   "execution_count": 33,
   "outputs": [
    {
     "data": {
      "text/plain": "                                Motor   Ano  Quilometragem  Zero_km  \\\nNome                                                                  \nDS5                   Motor 2.4 Turbo  2019            NaN     True   \nA5                    Motor 4.0 Turbo  2019            NaN     True   \nJ5                           Motor V6  2019            NaN     True   \nA3                       Motor 1.0 8v  2019            NaN     True   \nSérie 1 M                    Motor V8  2019            NaN     True   \n...                               ...   ...            ...      ...   \nLamborghini Reventón  Motor 4.0 Turbo  2019            NaN     True   \nBenni Mini                   Motor V8  2019            NaN     True   \nUno                   Motor Diesel V6  2019            NaN     True   \nSanta Fe                Motor 3.0 32v  2019            NaN     True   \nXC60                  Motor 4.0 Turbo  2019            NaN     True   \n\n                                                             Acessórios  \\\nNome                                                                      \nDS5                   ['Travas elétricas', '4 X 4', 'Vidros elétrico...   \nA5                    ['Câmbio automático', 'Câmera de estacionament...   \nJ5                    ['Sensor crepuscular', 'Painel digital', 'Roda...   \nA3                    ['4 X 4', 'Piloto automático', 'Central multim...   \nSérie 1 M             ['Controle de estabilidade', 'Central multimíd...   \n...                                                                 ...   \nLamborghini Reventón  ['Controle de tração', 'Ar condicionado', 'Cen...   \nBenni Mini            ['Sensor crepuscular', 'Câmbio automático', 'C...   \nUno                   ['Central multimídia', 'Sensor crepuscular', '...   \nSanta Fe              ['Travas elétricas', 'Ar condicionado', '4 X 4...   \nXC60                  ['Painel digital', 'Piloto automático', 'Centr...   \n\n                          Valor  Km_media  \nNome                                       \nDS5                   124549.07       NaN  \nA5                     56445.20       NaN  \nJ5                     53183.38       NaN  \nA3                     88552.39       NaN  \nSérie 1 M              94564.40       NaN  \n...                         ...       ...  \nLamborghini Reventón   67664.86       NaN  \nBenni Mini            126247.84       NaN  \nUno                   128852.21       NaN  \nSanta Fe              129415.33       NaN  \nXC60                   77675.79       NaN  \n\n[61 rows x 7 columns]",
      "text/html": "<div>\n<style scoped>\n    .dataframe tbody tr th:only-of-type {\n        vertical-align: middle;\n    }\n\n    .dataframe tbody tr th {\n        vertical-align: top;\n    }\n\n    .dataframe thead th {\n        text-align: right;\n    }\n</style>\n<table border=\"1\" class=\"dataframe\">\n  <thead>\n    <tr style=\"text-align: right;\">\n      <th></th>\n      <th>Motor</th>\n      <th>Ano</th>\n      <th>Quilometragem</th>\n      <th>Zero_km</th>\n      <th>Acessórios</th>\n      <th>Valor</th>\n      <th>Km_media</th>\n    </tr>\n    <tr>\n      <th>Nome</th>\n      <th></th>\n      <th></th>\n      <th></th>\n      <th></th>\n      <th></th>\n      <th></th>\n      <th></th>\n    </tr>\n  </thead>\n  <tbody>\n    <tr>\n      <th>DS5</th>\n      <td>Motor 2.4 Turbo</td>\n      <td>2019</td>\n      <td>NaN</td>\n      <td>True</td>\n      <td>['Travas elétricas', '4 X 4', 'Vidros elétrico...</td>\n      <td>124549.07</td>\n      <td>NaN</td>\n    </tr>\n    <tr>\n      <th>A5</th>\n      <td>Motor 4.0 Turbo</td>\n      <td>2019</td>\n      <td>NaN</td>\n      <td>True</td>\n      <td>['Câmbio automático', 'Câmera de estacionament...</td>\n      <td>56445.20</td>\n      <td>NaN</td>\n    </tr>\n    <tr>\n      <th>J5</th>\n      <td>Motor V6</td>\n      <td>2019</td>\n      <td>NaN</td>\n      <td>True</td>\n      <td>['Sensor crepuscular', 'Painel digital', 'Roda...</td>\n      <td>53183.38</td>\n      <td>NaN</td>\n    </tr>\n    <tr>\n      <th>A3</th>\n      <td>Motor 1.0 8v</td>\n      <td>2019</td>\n      <td>NaN</td>\n      <td>True</td>\n      <td>['4 X 4', 'Piloto automático', 'Central multim...</td>\n      <td>88552.39</td>\n      <td>NaN</td>\n    </tr>\n    <tr>\n      <th>Série 1 M</th>\n      <td>Motor V8</td>\n      <td>2019</td>\n      <td>NaN</td>\n      <td>True</td>\n      <td>['Controle de estabilidade', 'Central multimíd...</td>\n      <td>94564.40</td>\n      <td>NaN</td>\n    </tr>\n    <tr>\n      <th>...</th>\n      <td>...</td>\n      <td>...</td>\n      <td>...</td>\n      <td>...</td>\n      <td>...</td>\n      <td>...</td>\n      <td>...</td>\n    </tr>\n    <tr>\n      <th>Lamborghini Reventón</th>\n      <td>Motor 4.0 Turbo</td>\n      <td>2019</td>\n      <td>NaN</td>\n      <td>True</td>\n      <td>['Controle de tração', 'Ar condicionado', 'Cen...</td>\n      <td>67664.86</td>\n      <td>NaN</td>\n    </tr>\n    <tr>\n      <th>Benni Mini</th>\n      <td>Motor V8</td>\n      <td>2019</td>\n      <td>NaN</td>\n      <td>True</td>\n      <td>['Sensor crepuscular', 'Câmbio automático', 'C...</td>\n      <td>126247.84</td>\n      <td>NaN</td>\n    </tr>\n    <tr>\n      <th>Uno</th>\n      <td>Motor Diesel V6</td>\n      <td>2019</td>\n      <td>NaN</td>\n      <td>True</td>\n      <td>['Central multimídia', 'Sensor crepuscular', '...</td>\n      <td>128852.21</td>\n      <td>NaN</td>\n    </tr>\n    <tr>\n      <th>Santa Fe</th>\n      <td>Motor 3.0 32v</td>\n      <td>2019</td>\n      <td>NaN</td>\n      <td>True</td>\n      <td>['Travas elétricas', 'Ar condicionado', '4 X 4...</td>\n      <td>129415.33</td>\n      <td>NaN</td>\n    </tr>\n    <tr>\n      <th>XC60</th>\n      <td>Motor 4.0 Turbo</td>\n      <td>2019</td>\n      <td>NaN</td>\n      <td>True</td>\n      <td>['Painel digital', 'Piloto automático', 'Centr...</td>\n      <td>77675.79</td>\n      <td>NaN</td>\n    </tr>\n  </tbody>\n</table>\n<p>61 rows × 7 columns</p>\n</div>"
     },
     "execution_count": 33,
     "metadata": {},
     "output_type": "execute_result"
    }
   ],
   "source": [
    "dataset[dataset.Quilometragem.isna()]"
   ],
   "metadata": {
    "collapsed": false,
    "pycharm": {
     "name": "#%%\n"
    }
   }
  },
  {
   "cell_type": "code",
   "execution_count": 34,
   "outputs": [],
   "source": [
    "# Substituindo Valores\n",
    "dataset.fillna(0, inplace=True)"
   ],
   "metadata": {
    "collapsed": false,
    "pycharm": {
     "name": "#%%\n"
    }
   }
  },
  {
   "cell_type": "code",
   "execution_count": 35,
   "outputs": [
    {
     "data": {
      "text/plain": "                                       Motor   Ano  Quilometragem  Zero_km  \\\nNome                                                                         \nJetta Variant                Motor 4.0 Turbo  2003        44410.0    False   \nPassat                          Motor Diesel  1991         5712.0    False   \nCrossfox                     Motor Diesel V8  1990        37123.0    False   \nDS5                          Motor 2.4 Turbo  2019            0.0     True   \nAston Martin DB4             Motor 2.4 Turbo  2006        25757.0    False   \n...                                      ...   ...            ...      ...   \nPhantom 2013                        Motor V8  2014        27505.0    False   \nCadillac Ciel concept               Motor V8  1991        29981.0    False   \nClasse GLK             Motor 5.0 V8 Bi-Turbo  2002        52637.0    False   \nAston Martin DB5                Motor Diesel  1996         7685.0    False   \nMacan                        Motor Diesel V6  1992        50188.0    False   \n\n                                                              Acessórios  \\\nNome                                                                       \nJetta Variant          ['Rodas de liga', 'Travas elétricas', 'Piloto ...   \nPassat                 ['Central multimídia', 'Teto panorâmico', 'Fre...   \nCrossfox               ['Piloto automático', 'Controle de estabilidad...   \nDS5                    ['Travas elétricas', '4 X 4', 'Vidros elétrico...   \nAston Martin DB4       ['Rodas de liga', '4 X 4', 'Central multimídia...   \n...                                                                  ...   \nPhantom 2013           ['Controle de estabilidade', 'Piloto automátic...   \nCadillac Ciel concept  ['Bancos de couro', 'Painel digital', 'Sensor ...   \nClasse GLK             ['Rodas de liga', 'Controle de tração', 'Câmbi...   \nAston Martin DB5       ['Ar condicionado', '4 X 4', 'Câmbio automátic...   \nMacan                  ['Central multimídia', 'Teto panorâmico', 'Vid...   \n\n                           Valor     Km_media  \nNome                                           \nJetta Variant           88078.64  2467.222222  \nPassat                 106161.94   190.400000  \nCrossfox                72832.16  1197.516129  \nDS5                    124549.07     0.000000  \nAston Martin DB4        92612.10  1717.133333  \n...                          ...          ...  \nPhantom 2013            51759.58  3929.285714  \nCadillac Ciel concept   51667.06   999.366667  \nClasse GLK              68934.03  2770.368421  \nAston Martin DB5       122110.90   307.400000  \nMacan                   90381.47  1730.620690  \n\n[258 rows x 7 columns]",
      "text/html": "<div>\n<style scoped>\n    .dataframe tbody tr th:only-of-type {\n        vertical-align: middle;\n    }\n\n    .dataframe tbody tr th {\n        vertical-align: top;\n    }\n\n    .dataframe thead th {\n        text-align: right;\n    }\n</style>\n<table border=\"1\" class=\"dataframe\">\n  <thead>\n    <tr style=\"text-align: right;\">\n      <th></th>\n      <th>Motor</th>\n      <th>Ano</th>\n      <th>Quilometragem</th>\n      <th>Zero_km</th>\n      <th>Acessórios</th>\n      <th>Valor</th>\n      <th>Km_media</th>\n    </tr>\n    <tr>\n      <th>Nome</th>\n      <th></th>\n      <th></th>\n      <th></th>\n      <th></th>\n      <th></th>\n      <th></th>\n      <th></th>\n    </tr>\n  </thead>\n  <tbody>\n    <tr>\n      <th>Jetta Variant</th>\n      <td>Motor 4.0 Turbo</td>\n      <td>2003</td>\n      <td>44410.0</td>\n      <td>False</td>\n      <td>['Rodas de liga', 'Travas elétricas', 'Piloto ...</td>\n      <td>88078.64</td>\n      <td>2467.222222</td>\n    </tr>\n    <tr>\n      <th>Passat</th>\n      <td>Motor Diesel</td>\n      <td>1991</td>\n      <td>5712.0</td>\n      <td>False</td>\n      <td>['Central multimídia', 'Teto panorâmico', 'Fre...</td>\n      <td>106161.94</td>\n      <td>190.400000</td>\n    </tr>\n    <tr>\n      <th>Crossfox</th>\n      <td>Motor Diesel V8</td>\n      <td>1990</td>\n      <td>37123.0</td>\n      <td>False</td>\n      <td>['Piloto automático', 'Controle de estabilidad...</td>\n      <td>72832.16</td>\n      <td>1197.516129</td>\n    </tr>\n    <tr>\n      <th>DS5</th>\n      <td>Motor 2.4 Turbo</td>\n      <td>2019</td>\n      <td>0.0</td>\n      <td>True</td>\n      <td>['Travas elétricas', '4 X 4', 'Vidros elétrico...</td>\n      <td>124549.07</td>\n      <td>0.000000</td>\n    </tr>\n    <tr>\n      <th>Aston Martin DB4</th>\n      <td>Motor 2.4 Turbo</td>\n      <td>2006</td>\n      <td>25757.0</td>\n      <td>False</td>\n      <td>['Rodas de liga', '4 X 4', 'Central multimídia...</td>\n      <td>92612.10</td>\n      <td>1717.133333</td>\n    </tr>\n    <tr>\n      <th>...</th>\n      <td>...</td>\n      <td>...</td>\n      <td>...</td>\n      <td>...</td>\n      <td>...</td>\n      <td>...</td>\n      <td>...</td>\n    </tr>\n    <tr>\n      <th>Phantom 2013</th>\n      <td>Motor V8</td>\n      <td>2014</td>\n      <td>27505.0</td>\n      <td>False</td>\n      <td>['Controle de estabilidade', 'Piloto automátic...</td>\n      <td>51759.58</td>\n      <td>3929.285714</td>\n    </tr>\n    <tr>\n      <th>Cadillac Ciel concept</th>\n      <td>Motor V8</td>\n      <td>1991</td>\n      <td>29981.0</td>\n      <td>False</td>\n      <td>['Bancos de couro', 'Painel digital', 'Sensor ...</td>\n      <td>51667.06</td>\n      <td>999.366667</td>\n    </tr>\n    <tr>\n      <th>Classe GLK</th>\n      <td>Motor 5.0 V8 Bi-Turbo</td>\n      <td>2002</td>\n      <td>52637.0</td>\n      <td>False</td>\n      <td>['Rodas de liga', 'Controle de tração', 'Câmbi...</td>\n      <td>68934.03</td>\n      <td>2770.368421</td>\n    </tr>\n    <tr>\n      <th>Aston Martin DB5</th>\n      <td>Motor Diesel</td>\n      <td>1996</td>\n      <td>7685.0</td>\n      <td>False</td>\n      <td>['Ar condicionado', '4 X 4', 'Câmbio automátic...</td>\n      <td>122110.90</td>\n      <td>307.400000</td>\n    </tr>\n    <tr>\n      <th>Macan</th>\n      <td>Motor Diesel V6</td>\n      <td>1992</td>\n      <td>50188.0</td>\n      <td>False</td>\n      <td>['Central multimídia', 'Teto panorâmico', 'Vid...</td>\n      <td>90381.47</td>\n      <td>1730.620690</td>\n    </tr>\n  </tbody>\n</table>\n<p>258 rows × 7 columns</p>\n</div>"
     },
     "execution_count": 35,
     "metadata": {},
     "output_type": "execute_result"
    }
   ],
   "source": [
    "dataset"
   ],
   "metadata": {
    "collapsed": false,
    "pycharm": {
     "name": "#%%\n"
    }
   }
  },
  {
   "cell_type": "code",
   "execution_count": 36,
   "outputs": [
    {
     "data": {
      "text/plain": "                                Motor   Ano  Quilometragem  Zero_km  \\\nNome                                                                  \nDS5                   Motor 2.4 Turbo  2019            0.0     True   \nA5                    Motor 4.0 Turbo  2019            0.0     True   \nJ5                           Motor V6  2019            0.0     True   \nA3                       Motor 1.0 8v  2019            0.0     True   \nSérie 1 M                    Motor V8  2019            0.0     True   \n...                               ...   ...            ...      ...   \nLamborghini Reventón  Motor 4.0 Turbo  2019            0.0     True   \nBenni Mini                   Motor V8  2019            0.0     True   \nUno                   Motor Diesel V6  2019            0.0     True   \nSanta Fe                Motor 3.0 32v  2019            0.0     True   \nXC60                  Motor 4.0 Turbo  2019            0.0     True   \n\n                                                             Acessórios  \\\nNome                                                                      \nDS5                   ['Travas elétricas', '4 X 4', 'Vidros elétrico...   \nA5                    ['Câmbio automático', 'Câmera de estacionament...   \nJ5                    ['Sensor crepuscular', 'Painel digital', 'Roda...   \nA3                    ['4 X 4', 'Piloto automático', 'Central multim...   \nSérie 1 M             ['Controle de estabilidade', 'Central multimíd...   \n...                                                                 ...   \nLamborghini Reventón  ['Controle de tração', 'Ar condicionado', 'Cen...   \nBenni Mini            ['Sensor crepuscular', 'Câmbio automático', 'C...   \nUno                   ['Central multimídia', 'Sensor crepuscular', '...   \nSanta Fe              ['Travas elétricas', 'Ar condicionado', '4 X 4...   \nXC60                  ['Painel digital', 'Piloto automático', 'Centr...   \n\n                          Valor  Km_media  \nNome                                       \nDS5                   124549.07       0.0  \nA5                     56445.20       0.0  \nJ5                     53183.38       0.0  \nA3                     88552.39       0.0  \nSérie 1 M              94564.40       0.0  \n...                         ...       ...  \nLamborghini Reventón   67664.86       0.0  \nBenni Mini            126247.84       0.0  \nUno                   128852.21       0.0  \nSanta Fe              129415.33       0.0  \nXC60                   77675.79       0.0  \n\n[61 rows x 7 columns]",
      "text/html": "<div>\n<style scoped>\n    .dataframe tbody tr th:only-of-type {\n        vertical-align: middle;\n    }\n\n    .dataframe tbody tr th {\n        vertical-align: top;\n    }\n\n    .dataframe thead th {\n        text-align: right;\n    }\n</style>\n<table border=\"1\" class=\"dataframe\">\n  <thead>\n    <tr style=\"text-align: right;\">\n      <th></th>\n      <th>Motor</th>\n      <th>Ano</th>\n      <th>Quilometragem</th>\n      <th>Zero_km</th>\n      <th>Acessórios</th>\n      <th>Valor</th>\n      <th>Km_media</th>\n    </tr>\n    <tr>\n      <th>Nome</th>\n      <th></th>\n      <th></th>\n      <th></th>\n      <th></th>\n      <th></th>\n      <th></th>\n      <th></th>\n    </tr>\n  </thead>\n  <tbody>\n    <tr>\n      <th>DS5</th>\n      <td>Motor 2.4 Turbo</td>\n      <td>2019</td>\n      <td>0.0</td>\n      <td>True</td>\n      <td>['Travas elétricas', '4 X 4', 'Vidros elétrico...</td>\n      <td>124549.07</td>\n      <td>0.0</td>\n    </tr>\n    <tr>\n      <th>A5</th>\n      <td>Motor 4.0 Turbo</td>\n      <td>2019</td>\n      <td>0.0</td>\n      <td>True</td>\n      <td>['Câmbio automático', 'Câmera de estacionament...</td>\n      <td>56445.20</td>\n      <td>0.0</td>\n    </tr>\n    <tr>\n      <th>J5</th>\n      <td>Motor V6</td>\n      <td>2019</td>\n      <td>0.0</td>\n      <td>True</td>\n      <td>['Sensor crepuscular', 'Painel digital', 'Roda...</td>\n      <td>53183.38</td>\n      <td>0.0</td>\n    </tr>\n    <tr>\n      <th>A3</th>\n      <td>Motor 1.0 8v</td>\n      <td>2019</td>\n      <td>0.0</td>\n      <td>True</td>\n      <td>['4 X 4', 'Piloto automático', 'Central multim...</td>\n      <td>88552.39</td>\n      <td>0.0</td>\n    </tr>\n    <tr>\n      <th>Série 1 M</th>\n      <td>Motor V8</td>\n      <td>2019</td>\n      <td>0.0</td>\n      <td>True</td>\n      <td>['Controle de estabilidade', 'Central multimíd...</td>\n      <td>94564.40</td>\n      <td>0.0</td>\n    </tr>\n    <tr>\n      <th>...</th>\n      <td>...</td>\n      <td>...</td>\n      <td>...</td>\n      <td>...</td>\n      <td>...</td>\n      <td>...</td>\n      <td>...</td>\n    </tr>\n    <tr>\n      <th>Lamborghini Reventón</th>\n      <td>Motor 4.0 Turbo</td>\n      <td>2019</td>\n      <td>0.0</td>\n      <td>True</td>\n      <td>['Controle de tração', 'Ar condicionado', 'Cen...</td>\n      <td>67664.86</td>\n      <td>0.0</td>\n    </tr>\n    <tr>\n      <th>Benni Mini</th>\n      <td>Motor V8</td>\n      <td>2019</td>\n      <td>0.0</td>\n      <td>True</td>\n      <td>['Sensor crepuscular', 'Câmbio automático', 'C...</td>\n      <td>126247.84</td>\n      <td>0.0</td>\n    </tr>\n    <tr>\n      <th>Uno</th>\n      <td>Motor Diesel V6</td>\n      <td>2019</td>\n      <td>0.0</td>\n      <td>True</td>\n      <td>['Central multimídia', 'Sensor crepuscular', '...</td>\n      <td>128852.21</td>\n      <td>0.0</td>\n    </tr>\n    <tr>\n      <th>Santa Fe</th>\n      <td>Motor 3.0 32v</td>\n      <td>2019</td>\n      <td>0.0</td>\n      <td>True</td>\n      <td>['Travas elétricas', 'Ar condicionado', '4 X 4...</td>\n      <td>129415.33</td>\n      <td>0.0</td>\n    </tr>\n    <tr>\n      <th>XC60</th>\n      <td>Motor 4.0 Turbo</td>\n      <td>2019</td>\n      <td>0.0</td>\n      <td>True</td>\n      <td>['Painel digital', 'Piloto automático', 'Centr...</td>\n      <td>77675.79</td>\n      <td>0.0</td>\n    </tr>\n  </tbody>\n</table>\n<p>61 rows × 7 columns</p>\n</div>"
     },
     "execution_count": 36,
     "metadata": {},
     "output_type": "execute_result"
    }
   ],
   "source": [
    "dataset.query('Zero_km == True')"
   ],
   "metadata": {
    "collapsed": false,
    "pycharm": {
     "name": "#%%\n"
    }
   }
  },
  {
   "cell_type": "code",
   "execution_count": null,
   "outputs": [],
   "source": [],
   "metadata": {
    "collapsed": false,
    "pycharm": {
     "name": "#%%\n"
    }
   }
  },
  {
   "cell_type": "code",
   "execution_count": null,
   "outputs": [],
   "source": [],
   "metadata": {
    "collapsed": false,
    "pycharm": {
     "name": "#%%\n"
    }
   }
  },
  {
   "cell_type": "code",
   "execution_count": null,
   "outputs": [],
   "source": [],
   "metadata": {
    "collapsed": false,
    "pycharm": {
     "name": "#%%\n"
    }
   }
  },
  {
   "cell_type": "code",
   "execution_count": null,
   "outputs": [],
   "source": [],
   "metadata": {
    "collapsed": false,
    "pycharm": {
     "name": "#%%\n"
    }
   }
  },
  {
   "cell_type": "code",
   "execution_count": null,
   "outputs": [],
   "source": [],
   "metadata": {
    "collapsed": false,
    "pycharm": {
     "name": "#%%\n"
    }
   }
  },
  {
   "cell_type": "code",
   "execution_count": null,
   "outputs": [],
   "source": [],
   "metadata": {
    "collapsed": false,
    "pycharm": {
     "name": "#%%\n"
    }
   }
  },
  {
   "cell_type": "code",
   "execution_count": null,
   "outputs": [],
   "source": [],
   "metadata": {
    "collapsed": false,
    "pycharm": {
     "name": "#%%\n"
    }
   }
  },
  {
   "cell_type": "markdown",
   "source": [],
   "metadata": {
    "collapsed": false
   }
  }
 ],
 "metadata": {
  "kernelspec": {
   "display_name": "Python 3",
   "language": "python",
   "name": "python3"
  },
  "language_info": {
   "codemirror_mode": {
    "name": "ipython",
    "version": 2
   },
   "file_extension": ".py",
   "mimetype": "text/x-python",
   "name": "python",
   "nbconvert_exporter": "python",
   "pygments_lexer": "ipython2",
   "version": "2.7.6"
  }
 },
 "nbformat": 4,
 "nbformat_minor": 0
}