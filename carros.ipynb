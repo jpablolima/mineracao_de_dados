{
 "cells": [
  {
   "cell_type": "markdown",
   "source": [
    "Analise de Dados com Pandas"
   ],
   "metadata": {
    "collapsed": false
   }
  },
  {
   "cell_type": "code",
   "execution_count": 1,
   "metadata": {
    "collapsed": true
   },
   "outputs": [],
   "source": [
    "import pandas as pd"
   ]
  },
  {
   "cell_type": "code",
   "execution_count": 2,
   "outputs": [],
   "source": [
    "dataset = pd.read_csv(\"dados/db.csv\", sep=';', index_col = 0)"
   ],
   "metadata": {
    "collapsed": false,
    "pycharm": {
     "name": "#%%\n"
    }
   }
  },
  {
   "cell_type": "code",
   "execution_count": 3,
   "outputs": [
    {
     "data": {
      "text/plain": "                            Motor   Ano  Quilometragem  Zero_km  \\\nNome                                                              \nJetta Variant     Motor 4.0 Turbo  2003        44410.0    False   \nPassat               Motor Diesel  1991         5712.0    False   \nCrossfox          Motor Diesel V8  1990        37123.0    False   \nDS5               Motor 2.4 Turbo  2019            NaN     True   \nAston Martin DB4  Motor 2.4 Turbo  2006        25757.0    False   \n\n                                                         Acessórios      Valor  \nNome                                                                            \nJetta Variant     ['Rodas de liga', 'Travas elétricas', 'Piloto ...   88078.64  \nPassat            ['Central multimídia', 'Teto panorâmico', 'Fre...  106161.94  \nCrossfox          ['Piloto automático', 'Controle de estabilidad...   72832.16  \nDS5               ['Travas elétricas', '4 X 4', 'Vidros elétrico...  124549.07  \nAston Martin DB4  ['Rodas de liga', '4 X 4', 'Central multimídia...   92612.10  ",
      "text/html": "<div>\n<style scoped>\n    .dataframe tbody tr th:only-of-type {\n        vertical-align: middle;\n    }\n\n    .dataframe tbody tr th {\n        vertical-align: top;\n    }\n\n    .dataframe thead th {\n        text-align: right;\n    }\n</style>\n<table border=\"1\" class=\"dataframe\">\n  <thead>\n    <tr style=\"text-align: right;\">\n      <th></th>\n      <th>Motor</th>\n      <th>Ano</th>\n      <th>Quilometragem</th>\n      <th>Zero_km</th>\n      <th>Acessórios</th>\n      <th>Valor</th>\n    </tr>\n    <tr>\n      <th>Nome</th>\n      <th></th>\n      <th></th>\n      <th></th>\n      <th></th>\n      <th></th>\n      <th></th>\n    </tr>\n  </thead>\n  <tbody>\n    <tr>\n      <th>Jetta Variant</th>\n      <td>Motor 4.0 Turbo</td>\n      <td>2003</td>\n      <td>44410.0</td>\n      <td>False</td>\n      <td>['Rodas de liga', 'Travas elétricas', 'Piloto ...</td>\n      <td>88078.64</td>\n    </tr>\n    <tr>\n      <th>Passat</th>\n      <td>Motor Diesel</td>\n      <td>1991</td>\n      <td>5712.0</td>\n      <td>False</td>\n      <td>['Central multimídia', 'Teto panorâmico', 'Fre...</td>\n      <td>106161.94</td>\n    </tr>\n    <tr>\n      <th>Crossfox</th>\n      <td>Motor Diesel V8</td>\n      <td>1990</td>\n      <td>37123.0</td>\n      <td>False</td>\n      <td>['Piloto automático', 'Controle de estabilidad...</td>\n      <td>72832.16</td>\n    </tr>\n    <tr>\n      <th>DS5</th>\n      <td>Motor 2.4 Turbo</td>\n      <td>2019</td>\n      <td>NaN</td>\n      <td>True</td>\n      <td>['Travas elétricas', '4 X 4', 'Vidros elétrico...</td>\n      <td>124549.07</td>\n    </tr>\n    <tr>\n      <th>Aston Martin DB4</th>\n      <td>Motor 2.4 Turbo</td>\n      <td>2006</td>\n      <td>25757.0</td>\n      <td>False</td>\n      <td>['Rodas de liga', '4 X 4', 'Central multimídia...</td>\n      <td>92612.10</td>\n    </tr>\n  </tbody>\n</table>\n</div>"
     },
     "execution_count": 3,
     "metadata": {},
     "output_type": "execute_result"
    }
   ],
   "source": [
    "dataset.head()"
   ],
   "metadata": {
    "collapsed": false,
    "pycharm": {
     "name": "#%%\n"
    }
   }
  },
  {
   "cell_type": "code",
   "execution_count": 4,
   "outputs": [
    {
     "data": {
      "text/plain": "Nome\nJetta Variant             88078.64\nPassat                   106161.94\nCrossfox                  72832.16\nDS5                      124549.07\nAston Martin DB4          92612.10\n                           ...    \nPhantom 2013              51759.58\nCadillac Ciel concept     51667.06\nClasse GLK                68934.03\nAston Martin DB5         122110.90\nMacan                     90381.47\nName: Valor, Length: 258, dtype: float64"
     },
     "execution_count": 4,
     "metadata": {},
     "output_type": "execute_result"
    }
   ],
   "source": [
    "dataset['Valor']"
   ],
   "metadata": {
    "collapsed": false,
    "pycharm": {
     "name": "#%%\n"
    }
   }
  },
  {
   "cell_type": "code",
   "execution_count": 5,
   "outputs": [
    {
     "data": {
      "text/plain": "                         Motor   Ano  Quilometragem  Zero_km  \\\nNome                                                           \nJetta Variant  Motor 4.0 Turbo  2003        44410.0    False   \nPassat            Motor Diesel  1991         5712.0    False   \nCrossfox       Motor Diesel V8  1990        37123.0    False   \n\n                                                      Acessórios      Valor  \nNome                                                                         \nJetta Variant  ['Rodas de liga', 'Travas elétricas', 'Piloto ...   88078.64  \nPassat         ['Central multimídia', 'Teto panorâmico', 'Fre...  106161.94  \nCrossfox       ['Piloto automático', 'Controle de estabilidad...   72832.16  ",
      "text/html": "<div>\n<style scoped>\n    .dataframe tbody tr th:only-of-type {\n        vertical-align: middle;\n    }\n\n    .dataframe tbody tr th {\n        vertical-align: top;\n    }\n\n    .dataframe thead th {\n        text-align: right;\n    }\n</style>\n<table border=\"1\" class=\"dataframe\">\n  <thead>\n    <tr style=\"text-align: right;\">\n      <th></th>\n      <th>Motor</th>\n      <th>Ano</th>\n      <th>Quilometragem</th>\n      <th>Zero_km</th>\n      <th>Acessórios</th>\n      <th>Valor</th>\n    </tr>\n    <tr>\n      <th>Nome</th>\n      <th></th>\n      <th></th>\n      <th></th>\n      <th></th>\n      <th></th>\n      <th></th>\n    </tr>\n  </thead>\n  <tbody>\n    <tr>\n      <th>Jetta Variant</th>\n      <td>Motor 4.0 Turbo</td>\n      <td>2003</td>\n      <td>44410.0</td>\n      <td>False</td>\n      <td>['Rodas de liga', 'Travas elétricas', 'Piloto ...</td>\n      <td>88078.64</td>\n    </tr>\n    <tr>\n      <th>Passat</th>\n      <td>Motor Diesel</td>\n      <td>1991</td>\n      <td>5712.0</td>\n      <td>False</td>\n      <td>['Central multimídia', 'Teto panorâmico', 'Fre...</td>\n      <td>106161.94</td>\n    </tr>\n    <tr>\n      <th>Crossfox</th>\n      <td>Motor Diesel V8</td>\n      <td>1990</td>\n      <td>37123.0</td>\n      <td>False</td>\n      <td>['Piloto automático', 'Controle de estabilidad...</td>\n      <td>72832.16</td>\n    </tr>\n  </tbody>\n</table>\n</div>"
     },
     "execution_count": 5,
     "metadata": {},
     "output_type": "execute_result"
    }
   ],
   "source": [
    "dataset[0:3]"
   ],
   "metadata": {
    "collapsed": false,
    "pycharm": {
     "name": "#%%\n"
    }
   }
  },
  {
   "cell_type": "code",
   "execution_count": 6,
   "outputs": [
    {
     "data": {
      "text/plain": "               Nome   Ano\n0     Jetta Variant  2003\n1            Passat  1991\n2          Crossfox  1990\n3               DS5  2019\n4  Aston Martin DB4  2006",
      "text/html": "<div>\n<style scoped>\n    .dataframe tbody tr th:only-of-type {\n        vertical-align: middle;\n    }\n\n    .dataframe tbody tr th {\n        vertical-align: top;\n    }\n\n    .dataframe thead th {\n        text-align: right;\n    }\n</style>\n<table border=\"1\" class=\"dataframe\">\n  <thead>\n    <tr style=\"text-align: right;\">\n      <th></th>\n      <th>Nome</th>\n      <th>Ano</th>\n    </tr>\n  </thead>\n  <tbody>\n    <tr>\n      <th>0</th>\n      <td>Jetta Variant</td>\n      <td>2003</td>\n    </tr>\n    <tr>\n      <th>1</th>\n      <td>Passat</td>\n      <td>1991</td>\n    </tr>\n    <tr>\n      <th>2</th>\n      <td>Crossfox</td>\n      <td>1990</td>\n    </tr>\n    <tr>\n      <th>3</th>\n      <td>DS5</td>\n      <td>2019</td>\n    </tr>\n    <tr>\n      <th>4</th>\n      <td>Aston Martin DB4</td>\n      <td>2006</td>\n    </tr>\n  </tbody>\n</table>\n</div>"
     },
     "execution_count": 6,
     "metadata": {},
     "output_type": "execute_result"
    }
   ],
   "source": [
    "pd.read_csv(\"dados/db.csv\", sep=\";\", usecols=[\"Nome\", \"Ano\"]).head()"
   ],
   "metadata": {
    "collapsed": false,
    "pycharm": {
     "name": "#%%\n"
    }
   }
  },
  {
   "cell_type": "code",
   "execution_count": 7,
   "outputs": [
    {
     "data": {
      "text/plain": "Motor                                              Motor 2.4 Turbo\nAno                                                           2019\nQuilometragem                                                  NaN\nZero_km                                                       True\nAcessórios       ['Travas elétricas', '4 X 4', 'Vidros elétrico...\nValor                                                       124549\nName: DS5, dtype: object"
     },
     "execution_count": 7,
     "metadata": {},
     "output_type": "execute_result"
    }
   ],
   "source": [
    "dataset.loc[\"DS5\"]"
   ],
   "metadata": {
    "collapsed": false,
    "pycharm": {
     "name": "#%%\n"
    }
   }
  },
  {
   "cell_type": "code",
   "execution_count": 8,
   "outputs": [
    {
     "data": {
      "text/plain": "                  Motor   Ano  Quilometragem  Zero_km  \\\nNome                                                    \nDS5     Motor 2.4 Turbo  2019            NaN     True   \nPassat     Motor Diesel  1991         5712.0    False   \n\n                                               Acessórios      Valor  \nNome                                                                  \nDS5     ['Travas elétricas', '4 X 4', 'Vidros elétrico...  124549.07  \nPassat  ['Central multimídia', 'Teto panorâmico', 'Fre...  106161.94  ",
      "text/html": "<div>\n<style scoped>\n    .dataframe tbody tr th:only-of-type {\n        vertical-align: middle;\n    }\n\n    .dataframe tbody tr th {\n        vertical-align: top;\n    }\n\n    .dataframe thead th {\n        text-align: right;\n    }\n</style>\n<table border=\"1\" class=\"dataframe\">\n  <thead>\n    <tr style=\"text-align: right;\">\n      <th></th>\n      <th>Motor</th>\n      <th>Ano</th>\n      <th>Quilometragem</th>\n      <th>Zero_km</th>\n      <th>Acessórios</th>\n      <th>Valor</th>\n    </tr>\n    <tr>\n      <th>Nome</th>\n      <th></th>\n      <th></th>\n      <th></th>\n      <th></th>\n      <th></th>\n      <th></th>\n    </tr>\n  </thead>\n  <tbody>\n    <tr>\n      <th>DS5</th>\n      <td>Motor 2.4 Turbo</td>\n      <td>2019</td>\n      <td>NaN</td>\n      <td>True</td>\n      <td>['Travas elétricas', '4 X 4', 'Vidros elétrico...</td>\n      <td>124549.07</td>\n    </tr>\n    <tr>\n      <th>Passat</th>\n      <td>Motor Diesel</td>\n      <td>1991</td>\n      <td>5712.0</td>\n      <td>False</td>\n      <td>['Central multimídia', 'Teto panorâmico', 'Fre...</td>\n      <td>106161.94</td>\n    </tr>\n  </tbody>\n</table>\n</div>"
     },
     "execution_count": 8,
     "metadata": {},
     "output_type": "execute_result"
    }
   ],
   "source": [
    "dataset.loc[[\"DS5\", \"Passat\"]]"
   ],
   "metadata": {
    "collapsed": false,
    "pycharm": {
     "name": "#%%\n"
    }
   }
  },
  {
   "cell_type": "code",
   "execution_count": 9,
   "outputs": [
    {
     "data": {
      "text/plain": "                  Motor      Valor\nNome                              \nDS5     Motor 2.4 Turbo  124549.07\nPassat     Motor Diesel  106161.94",
      "text/html": "<div>\n<style scoped>\n    .dataframe tbody tr th:only-of-type {\n        vertical-align: middle;\n    }\n\n    .dataframe tbody tr th {\n        vertical-align: top;\n    }\n\n    .dataframe thead th {\n        text-align: right;\n    }\n</style>\n<table border=\"1\" class=\"dataframe\">\n  <thead>\n    <tr style=\"text-align: right;\">\n      <th></th>\n      <th>Motor</th>\n      <th>Valor</th>\n    </tr>\n    <tr>\n      <th>Nome</th>\n      <th></th>\n      <th></th>\n    </tr>\n  </thead>\n  <tbody>\n    <tr>\n      <th>DS5</th>\n      <td>Motor 2.4 Turbo</td>\n      <td>124549.07</td>\n    </tr>\n    <tr>\n      <th>Passat</th>\n      <td>Motor Diesel</td>\n      <td>106161.94</td>\n    </tr>\n  </tbody>\n</table>\n</div>"
     },
     "execution_count": 9,
     "metadata": {},
     "output_type": "execute_result"
    }
   ],
   "source": [
    "dataset.loc[[\"DS5\", \"Passat\"], [\"Motor\",\"Valor\"]]"
   ],
   "metadata": {
    "collapsed": false,
    "pycharm": {
     "name": "#%%\n"
    }
   }
  },
  {
   "cell_type": "code",
   "execution_count": 10,
   "outputs": [
    {
     "data": {
      "text/plain": "                         Motor      Valor\nNome                                     \nJetta Variant  Motor 4.0 Turbo   88078.64\nDS5            Motor 2.4 Turbo  124549.07\nPassat            Motor Diesel  106161.94",
      "text/html": "<div>\n<style scoped>\n    .dataframe tbody tr th:only-of-type {\n        vertical-align: middle;\n    }\n\n    .dataframe tbody tr th {\n        vertical-align: top;\n    }\n\n    .dataframe thead th {\n        text-align: right;\n    }\n</style>\n<table border=\"1\" class=\"dataframe\">\n  <thead>\n    <tr style=\"text-align: right;\">\n      <th></th>\n      <th>Motor</th>\n      <th>Valor</th>\n    </tr>\n    <tr>\n      <th>Nome</th>\n      <th></th>\n      <th></th>\n    </tr>\n  </thead>\n  <tbody>\n    <tr>\n      <th>Jetta Variant</th>\n      <td>Motor 4.0 Turbo</td>\n      <td>88078.64</td>\n    </tr>\n    <tr>\n      <th>DS5</th>\n      <td>Motor 2.4 Turbo</td>\n      <td>124549.07</td>\n    </tr>\n    <tr>\n      <th>Passat</th>\n      <td>Motor Diesel</td>\n      <td>106161.94</td>\n    </tr>\n  </tbody>\n</table>\n</div>"
     },
     "execution_count": 10,
     "metadata": {},
     "output_type": "execute_result"
    }
   ],
   "source": [
    "dataset.loc[[\"Jetta Variant\",\"DS5\", \"Passat\"], [\"Motor\",\"Valor\"]]"
   ],
   "metadata": {
    "collapsed": false,
    "pycharm": {
     "name": "#%%\n"
    }
   }
  },
  {
   "cell_type": "code",
   "execution_count": 11,
   "outputs": [
    {
     "data": {
      "text/plain": "                     Motor   Ano  Quilometragem  Zero_km  \\\nNome                                                       \nDS5        Motor 2.4 Turbo  2019            NaN     True   \nFord Edge  Motor Diesel V6  2002        12859.0    False   \n\n                                                  Acessórios      Valor  \nNome                                                                     \nDS5        ['Travas elétricas', '4 X 4', 'Vidros elétrico...  124549.07  \nFord Edge  ['Sensor crepuscular', 'Rodas de liga', 'Teto ...   71647.59  ",
      "text/html": "<div>\n<style scoped>\n    .dataframe tbody tr th:only-of-type {\n        vertical-align: middle;\n    }\n\n    .dataframe tbody tr th {\n        vertical-align: top;\n    }\n\n    .dataframe thead th {\n        text-align: right;\n    }\n</style>\n<table border=\"1\" class=\"dataframe\">\n  <thead>\n    <tr style=\"text-align: right;\">\n      <th></th>\n      <th>Motor</th>\n      <th>Ano</th>\n      <th>Quilometragem</th>\n      <th>Zero_km</th>\n      <th>Acessórios</th>\n      <th>Valor</th>\n    </tr>\n    <tr>\n      <th>Nome</th>\n      <th></th>\n      <th></th>\n      <th></th>\n      <th></th>\n      <th></th>\n      <th></th>\n    </tr>\n  </thead>\n  <tbody>\n    <tr>\n      <th>DS5</th>\n      <td>Motor 2.4 Turbo</td>\n      <td>2019</td>\n      <td>NaN</td>\n      <td>True</td>\n      <td>['Travas elétricas', '4 X 4', 'Vidros elétrico...</td>\n      <td>124549.07</td>\n    </tr>\n    <tr>\n      <th>Ford Edge</th>\n      <td>Motor Diesel V6</td>\n      <td>2002</td>\n      <td>12859.0</td>\n      <td>False</td>\n      <td>['Sensor crepuscular', 'Rodas de liga', 'Teto ...</td>\n      <td>71647.59</td>\n    </tr>\n  </tbody>\n</table>\n</div>"
     },
     "execution_count": 11,
     "metadata": {},
     "output_type": "execute_result"
    }
   ],
   "source": [
    "dataset.iloc[[3,10]]"
   ],
   "metadata": {
    "collapsed": false,
    "pycharm": {
     "name": "#%%\n"
    }
   }
  },
  {
   "cell_type": "code",
   "execution_count": 12,
   "outputs": [
    {
     "data": {
      "text/plain": "                  Quilometragem  Zero_km  \\\nNome                                       \nDS5                         NaN     True   \nAston Martin DB4        25757.0    False   \nPalio Weekend           10728.0    False   \nA5                          NaN     True   \nSérie 3 Cabrio          77599.0    False   \nDodge Jorney            99197.0    False   \nCarens                  37978.0    False   \n\n                                                         Acessórios      Valor  \nNome                                                                            \nDS5               ['Travas elétricas', '4 X 4', 'Vidros elétrico...  124549.07  \nAston Martin DB4  ['Rodas de liga', '4 X 4', 'Central multimídia...   92612.10  \nPalio Weekend     ['Sensor de estacionamento', 'Teto panorâmico'...   97497.73  \nA5                ['Câmbio automático', 'Câmera de estacionament...   56445.20  \nSérie 3 Cabrio    ['Controle de estabilidade', 'Sensor crepuscul...  112310.44  \nDodge Jorney      ['Vidros elétricos', 'Piloto automático', 'Tet...  120716.27  \nCarens            ['Ar condicionado', 'Painel digital', 'Central...   76566.49  ",
      "text/html": "<div>\n<style scoped>\n    .dataframe tbody tr th:only-of-type {\n        vertical-align: middle;\n    }\n\n    .dataframe tbody tr th {\n        vertical-align: top;\n    }\n\n    .dataframe thead th {\n        text-align: right;\n    }\n</style>\n<table border=\"1\" class=\"dataframe\">\n  <thead>\n    <tr style=\"text-align: right;\">\n      <th></th>\n      <th>Quilometragem</th>\n      <th>Zero_km</th>\n      <th>Acessórios</th>\n      <th>Valor</th>\n    </tr>\n    <tr>\n      <th>Nome</th>\n      <th></th>\n      <th></th>\n      <th></th>\n      <th></th>\n    </tr>\n  </thead>\n  <tbody>\n    <tr>\n      <th>DS5</th>\n      <td>NaN</td>\n      <td>True</td>\n      <td>['Travas elétricas', '4 X 4', 'Vidros elétrico...</td>\n      <td>124549.07</td>\n    </tr>\n    <tr>\n      <th>Aston Martin DB4</th>\n      <td>25757.0</td>\n      <td>False</td>\n      <td>['Rodas de liga', '4 X 4', 'Central multimídia...</td>\n      <td>92612.10</td>\n    </tr>\n    <tr>\n      <th>Palio Weekend</th>\n      <td>10728.0</td>\n      <td>False</td>\n      <td>['Sensor de estacionamento', 'Teto panorâmico'...</td>\n      <td>97497.73</td>\n    </tr>\n    <tr>\n      <th>A5</th>\n      <td>NaN</td>\n      <td>True</td>\n      <td>['Câmbio automático', 'Câmera de estacionament...</td>\n      <td>56445.20</td>\n    </tr>\n    <tr>\n      <th>Série 3 Cabrio</th>\n      <td>77599.0</td>\n      <td>False</td>\n      <td>['Controle de estabilidade', 'Sensor crepuscul...</td>\n      <td>112310.44</td>\n    </tr>\n    <tr>\n      <th>Dodge Jorney</th>\n      <td>99197.0</td>\n      <td>False</td>\n      <td>['Vidros elétricos', 'Piloto automático', 'Tet...</td>\n      <td>120716.27</td>\n    </tr>\n    <tr>\n      <th>Carens</th>\n      <td>37978.0</td>\n      <td>False</td>\n      <td>['Ar condicionado', 'Painel digital', 'Central...</td>\n      <td>76566.49</td>\n    </tr>\n  </tbody>\n</table>\n</div>"
     },
     "execution_count": 12,
     "metadata": {},
     "output_type": "execute_result"
    }
   ],
   "source": [
    "dataset.iloc[3:10, [2, 3,4, 5]]"
   ],
   "metadata": {
    "collapsed": false,
    "pycharm": {
     "name": "#%%\n"
    }
   }
  },
  {
   "cell_type": "code",
   "execution_count": 13,
   "outputs": [
    {
     "data": {
      "text/plain": "           Quilometragem  Zero_km  \\\nNome                                \nDS5                  NaN     True   \nFord Edge        12859.0    False   \n\n                                                  Acessórios      Valor  \nNome                                                                     \nDS5        ['Travas elétricas', '4 X 4', 'Vidros elétrico...  124549.07  \nFord Edge  ['Sensor crepuscular', 'Rodas de liga', 'Teto ...   71647.59  ",
      "text/html": "<div>\n<style scoped>\n    .dataframe tbody tr th:only-of-type {\n        vertical-align: middle;\n    }\n\n    .dataframe tbody tr th {\n        vertical-align: top;\n    }\n\n    .dataframe thead th {\n        text-align: right;\n    }\n</style>\n<table border=\"1\" class=\"dataframe\">\n  <thead>\n    <tr style=\"text-align: right;\">\n      <th></th>\n      <th>Quilometragem</th>\n      <th>Zero_km</th>\n      <th>Acessórios</th>\n      <th>Valor</th>\n    </tr>\n    <tr>\n      <th>Nome</th>\n      <th></th>\n      <th></th>\n      <th></th>\n      <th></th>\n    </tr>\n  </thead>\n  <tbody>\n    <tr>\n      <th>DS5</th>\n      <td>NaN</td>\n      <td>True</td>\n      <td>['Travas elétricas', '4 X 4', 'Vidros elétrico...</td>\n      <td>124549.07</td>\n    </tr>\n    <tr>\n      <th>Ford Edge</th>\n      <td>12859.0</td>\n      <td>False</td>\n      <td>['Sensor crepuscular', 'Rodas de liga', 'Teto ...</td>\n      <td>71647.59</td>\n    </tr>\n  </tbody>\n</table>\n</div>"
     },
     "execution_count": 13,
     "metadata": {},
     "output_type": "execute_result"
    }
   ],
   "source": [
    "dataset.iloc[[3,10], [2, 3,4, 5]]"
   ],
   "metadata": {
    "collapsed": false,
    "pycharm": {
     "name": "#%%\n"
    }
   }
  },
  {
   "cell_type": "markdown",
   "source": [
    " Queries com DataFrame - Pandas"
   ],
   "metadata": {
    "collapsed": false
   }
  },
  {
   "cell_type": "code",
   "execution_count": 14,
   "outputs": [],
   "source": [
    "datasetCarros = pd.read_csv(\"dados/db.csv.\", sep=\";\", index_col=0)"
   ],
   "metadata": {
    "collapsed": false,
    "pycharm": {
     "name": "#%%\n"
    }
   }
  },
  {
   "cell_type": "code",
   "execution_count": 15,
   "outputs": [
    {
     "data": {
      "text/plain": "                            Motor   Ano  Quilometragem  Zero_km  \\\nNome                                                              \nJetta Variant     Motor 4.0 Turbo  2003        44410.0    False   \nPassat               Motor Diesel  1991         5712.0    False   \nCrossfox          Motor Diesel V8  1990        37123.0    False   \nDS5               Motor 2.4 Turbo  2019            NaN     True   \nAston Martin DB4  Motor 2.4 Turbo  2006        25757.0    False   \n\n                                                         Acessórios      Valor  \nNome                                                                            \nJetta Variant     ['Rodas de liga', 'Travas elétricas', 'Piloto ...   88078.64  \nPassat            ['Central multimídia', 'Teto panorâmico', 'Fre...  106161.94  \nCrossfox          ['Piloto automático', 'Controle de estabilidad...   72832.16  \nDS5               ['Travas elétricas', '4 X 4', 'Vidros elétrico...  124549.07  \nAston Martin DB4  ['Rodas de liga', '4 X 4', 'Central multimídia...   92612.10  ",
      "text/html": "<div>\n<style scoped>\n    .dataframe tbody tr th:only-of-type {\n        vertical-align: middle;\n    }\n\n    .dataframe tbody tr th {\n        vertical-align: top;\n    }\n\n    .dataframe thead th {\n        text-align: right;\n    }\n</style>\n<table border=\"1\" class=\"dataframe\">\n  <thead>\n    <tr style=\"text-align: right;\">\n      <th></th>\n      <th>Motor</th>\n      <th>Ano</th>\n      <th>Quilometragem</th>\n      <th>Zero_km</th>\n      <th>Acessórios</th>\n      <th>Valor</th>\n    </tr>\n    <tr>\n      <th>Nome</th>\n      <th></th>\n      <th></th>\n      <th></th>\n      <th></th>\n      <th></th>\n      <th></th>\n    </tr>\n  </thead>\n  <tbody>\n    <tr>\n      <th>Jetta Variant</th>\n      <td>Motor 4.0 Turbo</td>\n      <td>2003</td>\n      <td>44410.0</td>\n      <td>False</td>\n      <td>['Rodas de liga', 'Travas elétricas', 'Piloto ...</td>\n      <td>88078.64</td>\n    </tr>\n    <tr>\n      <th>Passat</th>\n      <td>Motor Diesel</td>\n      <td>1991</td>\n      <td>5712.0</td>\n      <td>False</td>\n      <td>['Central multimídia', 'Teto panorâmico', 'Fre...</td>\n      <td>106161.94</td>\n    </tr>\n    <tr>\n      <th>Crossfox</th>\n      <td>Motor Diesel V8</td>\n      <td>1990</td>\n      <td>37123.0</td>\n      <td>False</td>\n      <td>['Piloto automático', 'Controle de estabilidad...</td>\n      <td>72832.16</td>\n    </tr>\n    <tr>\n      <th>DS5</th>\n      <td>Motor 2.4 Turbo</td>\n      <td>2019</td>\n      <td>NaN</td>\n      <td>True</td>\n      <td>['Travas elétricas', '4 X 4', 'Vidros elétrico...</td>\n      <td>124549.07</td>\n    </tr>\n    <tr>\n      <th>Aston Martin DB4</th>\n      <td>Motor 2.4 Turbo</td>\n      <td>2006</td>\n      <td>25757.0</td>\n      <td>False</td>\n      <td>['Rodas de liga', '4 X 4', 'Central multimídia...</td>\n      <td>92612.10</td>\n    </tr>\n  </tbody>\n</table>\n</div>"
     },
     "execution_count": 15,
     "metadata": {},
     "output_type": "execute_result"
    }
   ],
   "source": [
    "datasetCarros.head()"
   ],
   "metadata": {
    "collapsed": false,
    "pycharm": {
     "name": "#%%\n"
    }
   }
  },
  {
   "cell_type": "code",
   "execution_count": 16,
   "outputs": [
    {
     "data": {
      "text/plain": "Nome\nJetta Variant                  Motor 4.0 Turbo\nPassat                            Motor Diesel\nCrossfox                       Motor Diesel V8\nDS5                            Motor 2.4 Turbo\nAston Martin DB4               Motor 2.4 Turbo\n                                 ...          \nPhantom 2013                          Motor V8\nCadillac Ciel concept                 Motor V8\nClasse GLK               Motor 5.0 V8 Bi-Turbo\nAston Martin DB5                  Motor Diesel\nMacan                          Motor Diesel V6\nName: Motor, Length: 258, dtype: object"
     },
     "execution_count": 16,
     "metadata": {},
     "output_type": "execute_result"
    }
   ],
   "source": [
    "datasetCarros.Motor"
   ],
   "metadata": {
    "collapsed": false,
    "pycharm": {
     "name": "#%%\n"
    }
   }
  },
  {
   "cell_type": "code",
   "execution_count": 17,
   "outputs": [],
   "source": [
    "selectMotorTurbo = datasetCarros == \"Motor 2.4 Turbo\""
   ],
   "metadata": {
    "collapsed": false,
    "pycharm": {
     "name": "#%%\n"
    }
   }
  },
  {
   "cell_type": "code",
   "execution_count": 18,
   "outputs": [
    {
     "data": {
      "text/plain": "pandas.core.frame.DataFrame"
     },
     "execution_count": 18,
     "metadata": {},
     "output_type": "execute_result"
    }
   ],
   "source": [
    "type(selectMotorTurbo)"
   ],
   "metadata": {
    "collapsed": false,
    "pycharm": {
     "name": "#%%\n"
    }
   }
  },
  {
   "cell_type": "code",
   "execution_count": 19,
   "outputs": [
    {
     "data": {
      "text/plain": "                                 Motor  Ano  Quilometragem  Zero_km  \\\nNome                                                                  \nJetta Variant                      NaN  NaN            NaN      NaN   \nPassat                             NaN  NaN            NaN      NaN   \nCrossfox                           NaN  NaN            NaN      NaN   \nDS5                    Motor 2.4 Turbo  NaN            NaN      NaN   \nAston Martin DB4       Motor 2.4 Turbo  NaN            NaN      NaN   \n...                                ...  ...            ...      ...   \nPhantom 2013                       NaN  NaN            NaN      NaN   \nCadillac Ciel concept              NaN  NaN            NaN      NaN   \nClasse GLK                         NaN  NaN            NaN      NaN   \nAston Martin DB5                   NaN  NaN            NaN      NaN   \nMacan                              NaN  NaN            NaN      NaN   \n\n                      Acessórios  Valor  \nNome                                     \nJetta Variant                NaN    NaN  \nPassat                       NaN    NaN  \nCrossfox                     NaN    NaN  \nDS5                          NaN    NaN  \nAston Martin DB4             NaN    NaN  \n...                          ...    ...  \nPhantom 2013                 NaN    NaN  \nCadillac Ciel concept        NaN    NaN  \nClasse GLK                   NaN    NaN  \nAston Martin DB5             NaN    NaN  \nMacan                        NaN    NaN  \n\n[258 rows x 6 columns]",
      "text/html": "<div>\n<style scoped>\n    .dataframe tbody tr th:only-of-type {\n        vertical-align: middle;\n    }\n\n    .dataframe tbody tr th {\n        vertical-align: top;\n    }\n\n    .dataframe thead th {\n        text-align: right;\n    }\n</style>\n<table border=\"1\" class=\"dataframe\">\n  <thead>\n    <tr style=\"text-align: right;\">\n      <th></th>\n      <th>Motor</th>\n      <th>Ano</th>\n      <th>Quilometragem</th>\n      <th>Zero_km</th>\n      <th>Acessórios</th>\n      <th>Valor</th>\n    </tr>\n    <tr>\n      <th>Nome</th>\n      <th></th>\n      <th></th>\n      <th></th>\n      <th></th>\n      <th></th>\n      <th></th>\n    </tr>\n  </thead>\n  <tbody>\n    <tr>\n      <th>Jetta Variant</th>\n      <td>NaN</td>\n      <td>NaN</td>\n      <td>NaN</td>\n      <td>NaN</td>\n      <td>NaN</td>\n      <td>NaN</td>\n    </tr>\n    <tr>\n      <th>Passat</th>\n      <td>NaN</td>\n      <td>NaN</td>\n      <td>NaN</td>\n      <td>NaN</td>\n      <td>NaN</td>\n      <td>NaN</td>\n    </tr>\n    <tr>\n      <th>Crossfox</th>\n      <td>NaN</td>\n      <td>NaN</td>\n      <td>NaN</td>\n      <td>NaN</td>\n      <td>NaN</td>\n      <td>NaN</td>\n    </tr>\n    <tr>\n      <th>DS5</th>\n      <td>Motor 2.4 Turbo</td>\n      <td>NaN</td>\n      <td>NaN</td>\n      <td>NaN</td>\n      <td>NaN</td>\n      <td>NaN</td>\n    </tr>\n    <tr>\n      <th>Aston Martin DB4</th>\n      <td>Motor 2.4 Turbo</td>\n      <td>NaN</td>\n      <td>NaN</td>\n      <td>NaN</td>\n      <td>NaN</td>\n      <td>NaN</td>\n    </tr>\n    <tr>\n      <th>...</th>\n      <td>...</td>\n      <td>...</td>\n      <td>...</td>\n      <td>...</td>\n      <td>...</td>\n      <td>...</td>\n    </tr>\n    <tr>\n      <th>Phantom 2013</th>\n      <td>NaN</td>\n      <td>NaN</td>\n      <td>NaN</td>\n      <td>NaN</td>\n      <td>NaN</td>\n      <td>NaN</td>\n    </tr>\n    <tr>\n      <th>Cadillac Ciel concept</th>\n      <td>NaN</td>\n      <td>NaN</td>\n      <td>NaN</td>\n      <td>NaN</td>\n      <td>NaN</td>\n      <td>NaN</td>\n    </tr>\n    <tr>\n      <th>Classe GLK</th>\n      <td>NaN</td>\n      <td>NaN</td>\n      <td>NaN</td>\n      <td>NaN</td>\n      <td>NaN</td>\n      <td>NaN</td>\n    </tr>\n    <tr>\n      <th>Aston Martin DB5</th>\n      <td>NaN</td>\n      <td>NaN</td>\n      <td>NaN</td>\n      <td>NaN</td>\n      <td>NaN</td>\n      <td>NaN</td>\n    </tr>\n    <tr>\n      <th>Macan</th>\n      <td>NaN</td>\n      <td>NaN</td>\n      <td>NaN</td>\n      <td>NaN</td>\n      <td>NaN</td>\n      <td>NaN</td>\n    </tr>\n  </tbody>\n</table>\n<p>258 rows × 6 columns</p>\n</div>"
     },
     "execution_count": 19,
     "metadata": {},
     "output_type": "execute_result"
    }
   ],
   "source": [
    "datasetCarros[selectMotorTurbo]"
   ],
   "metadata": {
    "collapsed": false,
    "pycharm": {
     "name": "#%%\n"
    }
   }
  },
  {
   "cell_type": "code",
   "execution_count": 19,
   "outputs": [],
   "source": [],
   "metadata": {
    "collapsed": false,
    "pycharm": {
     "name": "#%%\n"
    }
   }
  },
  {
   "cell_type": "markdown",
   "source": [],
   "metadata": {
    "collapsed": false
   }
  }
 ],
 "metadata": {
  "kernelspec": {
   "display_name": "Python 3",
   "language": "python",
   "name": "python3"
  },
  "language_info": {
   "codemirror_mode": {
    "name": "ipython",
    "version": 2
   },
   "file_extension": ".py",
   "mimetype": "text/x-python",
   "name": "python",
   "nbconvert_exporter": "python",
   "pygments_lexer": "ipython2",
   "version": "2.7.6"
  }
 },
 "nbformat": 4,
 "nbformat_minor": 0
}