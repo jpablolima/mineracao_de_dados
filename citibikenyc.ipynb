{
 "cells": [
  {
   "cell_type": "markdown",
   "metadata": {
    "collapsed": true,
    "pycharm": {
     "name": "#%% md\n"
    }
   },
   "source": [
    "# Citi Bike Trip Histories -  Citi Bike NYC"
   ]
  },
  {
   "cell_type": "code",
   "execution_count": 5,
   "outputs": [],
   "source": [
    "import  pandas as pd"
   ],
   "metadata": {
    "collapsed": false,
    "pycharm": {
     "name": "#%%\n"
    }
   }
  },
  {
   "cell_type": "code",
   "execution_count": 13,
   "outputs": [
    {
     "data": {
      "text/plain": "                  ride_id rideable_type           started_at  \\\n0        353AEA9949A68D49  classic_bike  2021-10-16 12:27:00   \n1        4E99F036F7FE3B62  classic_bike  2021-10-18 16:51:23   \n2        2CE9D0504402418A  classic_bike  2021-10-05 13:31:27   \n3        354BB2C25D2FE2DB  classic_bike  2021-10-15 08:28:43   \n4        0211ADD9F91AC315  classic_bike  2021-10-10 00:25:16   \n...                   ...           ...                  ...   \n3069234  2105A371F0916AF6  classic_bike  2021-10-28 19:00:26   \n3069235  3EE01D46D6630901  classic_bike  2021-10-06 13:34:04   \n3069236  5CA072FFC3C97825  classic_bike  2021-10-27 05:48:47   \n3069237  7CEB5F9904D96DFB  classic_bike  2021-10-12 21:10:01   \n3069238  5F3820B36473D307  classic_bike  2021-10-21 14:42:16   \n\n                    ended_at             start_station_name start_station_id  \\\n0        2021-10-16 12:45:24        University Pl & E 14 St          5905.14   \n1        2021-10-18 17:19:29         Broadway & Roebling St          5125.07   \n2        2021-10-05 13:47:07        University Pl & E 14 St          5905.14   \n3        2021-10-15 08:36:37        University Pl & E 14 St          5905.14   \n4        2021-10-10 01:04:26  Metropolitan Ave & Meeker Ave          5300.05   \n...                      ...                            ...              ...   \n3069234  2021-10-28 19:03:54              6 Ave & Broome St          5610.09   \n3069235  2021-10-06 13:35:28              6 Ave & Broome St          5610.09   \n3069236  2021-10-27 06:02:20         Carlton Ave & Park Ave          4732.04   \n3069237  2021-10-12 21:20:47              6 Ave & Broome St          5610.09   \n3069238  2021-10-21 14:44:15              6 Ave & Broome St          5610.09   \n\n                 end_station_name end_station_id  start_lat  start_lng  \\\n0        Franklin St & W Broadway        5430.08  40.734814 -73.992085   \n1                   Sands St Gate        4812.04  40.709248 -73.960631   \n2        Franklin St & W Broadway        5430.08  40.734814 -73.992085   \n3                 8 Ave & W 16 St        6072.11  40.734814 -73.992085   \n4                   Sands St Gate        4812.04  40.714133 -73.952344   \n...                           ...            ...        ...        ...   \n3069234      Grand St & Greene St        5500.02  40.724310 -74.004730   \n3069235      Grand St & Greene St        5500.02  40.724310 -74.004730   \n3069236   Boerum Pl\\t& Pacific St        4488.09  40.695807 -73.973556   \n3069237          W 20 St & 10 Ave        6306.01  40.724310 -74.004730   \n3069238      Grand St & Greene St        5500.02  40.724310 -74.004730   \n\n           end_lat    end_lng member_casual  \n0        40.719116 -74.006667        casual  \n1        40.699569 -73.979827        casual  \n2        40.719116 -74.006667        casual  \n3        40.740983 -74.001702        casual  \n4        40.699569 -73.979827        casual  \n...            ...        ...           ...  \n3069234  40.721700 -74.002381        member  \n3069235  40.721700 -74.002381        member  \n3069236  40.688489 -73.991160        member  \n3069237  40.745686 -74.005141        member  \n3069238  40.721700 -74.002381        member  \n\n[3069239 rows x 13 columns]",
      "text/html": "<div>\n<style scoped>\n    .dataframe tbody tr th:only-of-type {\n        vertical-align: middle;\n    }\n\n    .dataframe tbody tr th {\n        vertical-align: top;\n    }\n\n    .dataframe thead th {\n        text-align: right;\n    }\n</style>\n<table border=\"1\" class=\"dataframe\">\n  <thead>\n    <tr style=\"text-align: right;\">\n      <th></th>\n      <th>ride_id</th>\n      <th>rideable_type</th>\n      <th>started_at</th>\n      <th>ended_at</th>\n      <th>start_station_name</th>\n      <th>start_station_id</th>\n      <th>end_station_name</th>\n      <th>end_station_id</th>\n      <th>start_lat</th>\n      <th>start_lng</th>\n      <th>end_lat</th>\n      <th>end_lng</th>\n      <th>member_casual</th>\n    </tr>\n  </thead>\n  <tbody>\n    <tr>\n      <th>0</th>\n      <td>353AEA9949A68D49</td>\n      <td>classic_bike</td>\n      <td>2021-10-16 12:27:00</td>\n      <td>2021-10-16 12:45:24</td>\n      <td>University Pl &amp; E 14 St</td>\n      <td>5905.14</td>\n      <td>Franklin St &amp; W Broadway</td>\n      <td>5430.08</td>\n      <td>40.734814</td>\n      <td>-73.992085</td>\n      <td>40.719116</td>\n      <td>-74.006667</td>\n      <td>casual</td>\n    </tr>\n    <tr>\n      <th>1</th>\n      <td>4E99F036F7FE3B62</td>\n      <td>classic_bike</td>\n      <td>2021-10-18 16:51:23</td>\n      <td>2021-10-18 17:19:29</td>\n      <td>Broadway &amp; Roebling St</td>\n      <td>5125.07</td>\n      <td>Sands St Gate</td>\n      <td>4812.04</td>\n      <td>40.709248</td>\n      <td>-73.960631</td>\n      <td>40.699569</td>\n      <td>-73.979827</td>\n      <td>casual</td>\n    </tr>\n    <tr>\n      <th>2</th>\n      <td>2CE9D0504402418A</td>\n      <td>classic_bike</td>\n      <td>2021-10-05 13:31:27</td>\n      <td>2021-10-05 13:47:07</td>\n      <td>University Pl &amp; E 14 St</td>\n      <td>5905.14</td>\n      <td>Franklin St &amp; W Broadway</td>\n      <td>5430.08</td>\n      <td>40.734814</td>\n      <td>-73.992085</td>\n      <td>40.719116</td>\n      <td>-74.006667</td>\n      <td>casual</td>\n    </tr>\n    <tr>\n      <th>3</th>\n      <td>354BB2C25D2FE2DB</td>\n      <td>classic_bike</td>\n      <td>2021-10-15 08:28:43</td>\n      <td>2021-10-15 08:36:37</td>\n      <td>University Pl &amp; E 14 St</td>\n      <td>5905.14</td>\n      <td>8 Ave &amp; W 16 St</td>\n      <td>6072.11</td>\n      <td>40.734814</td>\n      <td>-73.992085</td>\n      <td>40.740983</td>\n      <td>-74.001702</td>\n      <td>casual</td>\n    </tr>\n    <tr>\n      <th>4</th>\n      <td>0211ADD9F91AC315</td>\n      <td>classic_bike</td>\n      <td>2021-10-10 00:25:16</td>\n      <td>2021-10-10 01:04:26</td>\n      <td>Metropolitan Ave &amp; Meeker Ave</td>\n      <td>5300.05</td>\n      <td>Sands St Gate</td>\n      <td>4812.04</td>\n      <td>40.714133</td>\n      <td>-73.952344</td>\n      <td>40.699569</td>\n      <td>-73.979827</td>\n      <td>casual</td>\n    </tr>\n    <tr>\n      <th>...</th>\n      <td>...</td>\n      <td>...</td>\n      <td>...</td>\n      <td>...</td>\n      <td>...</td>\n      <td>...</td>\n      <td>...</td>\n      <td>...</td>\n      <td>...</td>\n      <td>...</td>\n      <td>...</td>\n      <td>...</td>\n      <td>...</td>\n    </tr>\n    <tr>\n      <th>3069234</th>\n      <td>2105A371F0916AF6</td>\n      <td>classic_bike</td>\n      <td>2021-10-28 19:00:26</td>\n      <td>2021-10-28 19:03:54</td>\n      <td>6 Ave &amp; Broome St</td>\n      <td>5610.09</td>\n      <td>Grand St &amp; Greene St</td>\n      <td>5500.02</td>\n      <td>40.724310</td>\n      <td>-74.004730</td>\n      <td>40.721700</td>\n      <td>-74.002381</td>\n      <td>member</td>\n    </tr>\n    <tr>\n      <th>3069235</th>\n      <td>3EE01D46D6630901</td>\n      <td>classic_bike</td>\n      <td>2021-10-06 13:34:04</td>\n      <td>2021-10-06 13:35:28</td>\n      <td>6 Ave &amp; Broome St</td>\n      <td>5610.09</td>\n      <td>Grand St &amp; Greene St</td>\n      <td>5500.02</td>\n      <td>40.724310</td>\n      <td>-74.004730</td>\n      <td>40.721700</td>\n      <td>-74.002381</td>\n      <td>member</td>\n    </tr>\n    <tr>\n      <th>3069236</th>\n      <td>5CA072FFC3C97825</td>\n      <td>classic_bike</td>\n      <td>2021-10-27 05:48:47</td>\n      <td>2021-10-27 06:02:20</td>\n      <td>Carlton Ave &amp; Park Ave</td>\n      <td>4732.04</td>\n      <td>Boerum Pl\\t&amp; Pacific St</td>\n      <td>4488.09</td>\n      <td>40.695807</td>\n      <td>-73.973556</td>\n      <td>40.688489</td>\n      <td>-73.991160</td>\n      <td>member</td>\n    </tr>\n    <tr>\n      <th>3069237</th>\n      <td>7CEB5F9904D96DFB</td>\n      <td>classic_bike</td>\n      <td>2021-10-12 21:10:01</td>\n      <td>2021-10-12 21:20:47</td>\n      <td>6 Ave &amp; Broome St</td>\n      <td>5610.09</td>\n      <td>W 20 St &amp; 10 Ave</td>\n      <td>6306.01</td>\n      <td>40.724310</td>\n      <td>-74.004730</td>\n      <td>40.745686</td>\n      <td>-74.005141</td>\n      <td>member</td>\n    </tr>\n    <tr>\n      <th>3069238</th>\n      <td>5F3820B36473D307</td>\n      <td>classic_bike</td>\n      <td>2021-10-21 14:42:16</td>\n      <td>2021-10-21 14:44:15</td>\n      <td>6 Ave &amp; Broome St</td>\n      <td>5610.09</td>\n      <td>Grand St &amp; Greene St</td>\n      <td>5500.02</td>\n      <td>40.724310</td>\n      <td>-74.004730</td>\n      <td>40.721700</td>\n      <td>-74.002381</td>\n      <td>member</td>\n    </tr>\n  </tbody>\n</table>\n<p>3069239 rows × 13 columns</p>\n</div>"
     },
     "execution_count": 13,
     "metadata": {},
     "output_type": "execute_result"
    }
   ],
   "source": [
    "# Precisa Converter em DataFrame\n",
    "pd.read_csv('dados/202110-citibike-tripdata.csv',low_memory=False,  sep=',')"
   ],
   "metadata": {
    "collapsed": false,
    "pycharm": {
     "name": "#%%\n"
    }
   }
  },
  {
   "cell_type": "code",
   "execution_count": 90,
   "outputs": [
    {
     "data": {
      "text/plain": "module"
     },
     "execution_count": 90,
     "metadata": {},
     "output_type": "execute_result"
    }
   ],
   "source": [
    "type(pd)"
   ],
   "metadata": {
    "collapsed": false,
    "pycharm": {
     "name": "#%%\n"
    }
   }
  },
  {
   "cell_type": "code",
   "execution_count": 15,
   "outputs": [],
   "source": [
    "dados = pd.read_csv('dados/202110-citibike-tripdata.csv', low_memory=False, sep=',').head(10)"
   ],
   "metadata": {
    "collapsed": false,
    "pycharm": {
     "name": "#%%\n"
    }
   }
  },
  {
   "cell_type": "code",
   "execution_count": 16,
   "outputs": [],
   "source": [
    "tipos_de_dados = pd.DataFrame(dados.dtypes, columns = [\"Tipos de Dados\"])"
   ],
   "metadata": {
    "collapsed": false,
    "pycharm": {
     "name": "#%%\n"
    }
   }
  },
  {
   "cell_type": "code",
   "execution_count": 91,
   "outputs": [
    {
     "data": {
      "text/plain": "pandas.core.frame.DataFrame"
     },
     "execution_count": 91,
     "metadata": {},
     "output_type": "execute_result"
    }
   ],
   "source": [
    "type(dados)"
   ],
   "metadata": {
    "collapsed": false,
    "pycharm": {
     "name": "#%%\n"
    }
   }
  },
  {
   "cell_type": "code",
   "execution_count": 18,
   "outputs": [],
   "source": [
    "tipos_de_dados.columns.name = \"Variáveis\""
   ],
   "metadata": {
    "collapsed": false,
    "pycharm": {
     "name": "#%%\n"
    }
   }
  },
  {
   "cell_type": "code",
   "execution_count": 19,
   "outputs": [
    {
     "data": {
      "text/plain": "Variáveis          Tipos de Dados\nride_id                    object\nrideable_type              object\nstarted_at                 object\nended_at                   object\nstart_station_name         object\nstart_station_id           object\nend_station_name           object\nend_station_id             object\nstart_lat                 float64\nstart_lng                 float64\nend_lat                   float64\nend_lng                   float64\nmember_casual              object",
      "text/html": "<div>\n<style scoped>\n    .dataframe tbody tr th:only-of-type {\n        vertical-align: middle;\n    }\n\n    .dataframe tbody tr th {\n        vertical-align: top;\n    }\n\n    .dataframe thead th {\n        text-align: right;\n    }\n</style>\n<table border=\"1\" class=\"dataframe\">\n  <thead>\n    <tr style=\"text-align: right;\">\n      <th>Variáveis</th>\n      <th>Tipos de Dados</th>\n    </tr>\n  </thead>\n  <tbody>\n    <tr>\n      <th>ride_id</th>\n      <td>object</td>\n    </tr>\n    <tr>\n      <th>rideable_type</th>\n      <td>object</td>\n    </tr>\n    <tr>\n      <th>started_at</th>\n      <td>object</td>\n    </tr>\n    <tr>\n      <th>ended_at</th>\n      <td>object</td>\n    </tr>\n    <tr>\n      <th>start_station_name</th>\n      <td>object</td>\n    </tr>\n    <tr>\n      <th>start_station_id</th>\n      <td>object</td>\n    </tr>\n    <tr>\n      <th>end_station_name</th>\n      <td>object</td>\n    </tr>\n    <tr>\n      <th>end_station_id</th>\n      <td>object</td>\n    </tr>\n    <tr>\n      <th>start_lat</th>\n      <td>float64</td>\n    </tr>\n    <tr>\n      <th>start_lng</th>\n      <td>float64</td>\n    </tr>\n    <tr>\n      <th>end_lat</th>\n      <td>float64</td>\n    </tr>\n    <tr>\n      <th>end_lng</th>\n      <td>float64</td>\n    </tr>\n    <tr>\n      <th>member_casual</th>\n      <td>object</td>\n    </tr>\n  </tbody>\n</table>\n</div>"
     },
     "execution_count": 19,
     "metadata": {},
     "output_type": "execute_result"
    }
   ],
   "source": [
    "tipos_de_dados"
   ],
   "metadata": {
    "collapsed": false,
    "pycharm": {
     "name": "#%%\n"
    }
   }
  },
  {
   "cell_type": "code",
   "execution_count": 29,
   "outputs": [
    {
     "data": {
      "text/plain": "0          University Pl & E 14 St\n1           Broadway & Roebling St\n2          University Pl & E 14 St\n3          University Pl & E 14 St\n4    Metropolitan Ave & Meeker Ave\n5    Metropolitan Ave & Meeker Ave\n6          University Pl & E 14 St\n7               E 14 St & Avenue B\n8               E 14 St & Avenue B\n9            Lafayette St & E 8 St\nName: start_station_name, dtype: object"
     },
     "execution_count": 29,
     "metadata": {},
     "output_type": "execute_result"
    }
   ],
   "source": [
    "# Estação Inicial\n",
    "dados['start_station_name']"
   ],
   "metadata": {
    "collapsed": false,
    "pycharm": {
     "name": "#%%\n"
    }
   }
  },
  {
   "cell_type": "code",
   "execution_count": 27,
   "outputs": [
    {
     "data": {
      "text/plain": "                   Estação Inicial\nride_id                     object\nrideable_type               object\nstarted_at                  object\nended_at                    object\nstart_station_name          object\nstart_station_id            object\nend_station_name            object\nend_station_id              object\nstart_lat                  float64\nstart_lng                  float64\nend_lat                    float64\nend_lng                    float64\nmember_casual               object",
      "text/html": "<div>\n<style scoped>\n    .dataframe tbody tr th:only-of-type {\n        vertical-align: middle;\n    }\n\n    .dataframe tbody tr th {\n        vertical-align: top;\n    }\n\n    .dataframe thead th {\n        text-align: right;\n    }\n</style>\n<table border=\"1\" class=\"dataframe\">\n  <thead>\n    <tr style=\"text-align: right;\">\n      <th></th>\n      <th>Estação Inicial</th>\n    </tr>\n  </thead>\n  <tbody>\n    <tr>\n      <th>ride_id</th>\n      <td>object</td>\n    </tr>\n    <tr>\n      <th>rideable_type</th>\n      <td>object</td>\n    </tr>\n    <tr>\n      <th>started_at</th>\n      <td>object</td>\n    </tr>\n    <tr>\n      <th>ended_at</th>\n      <td>object</td>\n    </tr>\n    <tr>\n      <th>start_station_name</th>\n      <td>object</td>\n    </tr>\n    <tr>\n      <th>start_station_id</th>\n      <td>object</td>\n    </tr>\n    <tr>\n      <th>end_station_name</th>\n      <td>object</td>\n    </tr>\n    <tr>\n      <th>end_station_id</th>\n      <td>object</td>\n    </tr>\n    <tr>\n      <th>start_lat</th>\n      <td>float64</td>\n    </tr>\n    <tr>\n      <th>start_lng</th>\n      <td>float64</td>\n    </tr>\n    <tr>\n      <th>end_lat</th>\n      <td>float64</td>\n    </tr>\n    <tr>\n      <th>end_lng</th>\n      <td>float64</td>\n    </tr>\n    <tr>\n      <th>member_casual</th>\n      <td>object</td>\n    </tr>\n  </tbody>\n</table>\n</div>"
     },
     "execution_count": 27,
     "metadata": {},
     "output_type": "execute_result"
    }
   ],
   "source": [],
   "metadata": {
    "collapsed": false,
    "pycharm": {
     "name": "#%%\n"
    }
   }
  },
  {
   "cell_type": "code",
   "execution_count": 72,
   "outputs": [],
   "source": [
    "estacoes = pd.read_csv(\"dados/202110-citibike-tripdata.csv\", sep=',', usecols=[\"start_station_name\", \"end_station_name\"], index_col=0)"
   ],
   "metadata": {
    "collapsed": false,
    "pycharm": {
     "name": "#%%\n"
    }
   }
  },
  {
   "cell_type": "code",
   "execution_count": 92,
   "outputs": [
    {
     "data": {
      "text/plain": "pandas.core.frame.DataFrame"
     },
     "execution_count": 92,
     "metadata": {},
     "output_type": "execute_result"
    }
   ],
   "source": [
    "type(estacoes)"
   ],
   "metadata": {
    "collapsed": false,
    "pycharm": {
     "name": "#%%\n"
    }
   }
  },
  {
   "cell_type": "code",
   "execution_count": 88,
   "outputs": [
    {
     "ename": "IndexError",
     "evalue": "only integers, slices (`:`), ellipsis (`...`), numpy.newaxis (`None`) and integer or boolean arrays are valid indices",
     "output_type": "error",
     "traceback": [
      "\u001B[1;31m---------------------------------------------------------------------------\u001B[0m",
      "\u001B[1;31mIndexError\u001B[0m                                Traceback (most recent call last)",
      "\u001B[1;32m<ipython-input-88-927745c5e3a8>\u001B[0m in \u001B[0;36m<module>\u001B[1;34m\u001B[0m\n\u001B[1;32m----> 1\u001B[1;33m \u001B[0mnome_estacoes\u001B[0m \u001B[1;33m=\u001B[0m \u001B[0mestacoes\u001B[0m\u001B[1;33m.\u001B[0m\u001B[0mcolumns\u001B[0m\u001B[1;33m[\u001B[0m\u001B[1;34m'estacao_inicial'\u001B[0m\u001B[1;33m,\u001B[0m\u001B[1;34m'estacao_final'\u001B[0m\u001B[1;33m]\u001B[0m\u001B[1;33m\u001B[0m\u001B[1;33m\u001B[0m\u001B[0m\n\u001B[0m\u001B[0;32m      2\u001B[0m \u001B[1;31m#nome_estacoes = estacoes.rename(columns={'start_station_name': 'estacao_inicial', 'end_station_name': 'estacao_final'})\u001B[0m\u001B[1;33m\u001B[0m\u001B[1;33m\u001B[0m\u001B[1;33m\u001B[0m\u001B[0m\n\u001B[0;32m      3\u001B[0m \u001B[1;31m#df = df.rename(columns={'oldName1': 'newName1', 'oldName2': 'newName2'})\u001B[0m\u001B[1;33m\u001B[0m\u001B[1;33m\u001B[0m\u001B[1;33m\u001B[0m\u001B[0m\n",
      "\u001B[1;32m~\\anaconda3\\lib\\site-packages\\pandas\\core\\indexes\\base.py\u001B[0m in \u001B[0;36m__getitem__\u001B[1;34m(self, key)\u001B[0m\n\u001B[0;32m   4109\u001B[0m             \u001B[0mkey\u001B[0m \u001B[1;33m=\u001B[0m \u001B[0mnp\u001B[0m\u001B[1;33m.\u001B[0m\u001B[0masarray\u001B[0m\u001B[1;33m(\u001B[0m\u001B[0mkey\u001B[0m\u001B[1;33m,\u001B[0m \u001B[0mdtype\u001B[0m\u001B[1;33m=\u001B[0m\u001B[0mbool\u001B[0m\u001B[1;33m)\u001B[0m\u001B[1;33m\u001B[0m\u001B[1;33m\u001B[0m\u001B[0m\n\u001B[0;32m   4110\u001B[0m \u001B[1;33m\u001B[0m\u001B[0m\n\u001B[1;32m-> 4111\u001B[1;33m         \u001B[0mresult\u001B[0m \u001B[1;33m=\u001B[0m \u001B[0mgetitem\u001B[0m\u001B[1;33m(\u001B[0m\u001B[0mkey\u001B[0m\u001B[1;33m)\u001B[0m\u001B[1;33m\u001B[0m\u001B[1;33m\u001B[0m\u001B[0m\n\u001B[0m\u001B[0;32m   4112\u001B[0m         \u001B[1;32mif\u001B[0m \u001B[1;32mnot\u001B[0m \u001B[0mis_scalar\u001B[0m\u001B[1;33m(\u001B[0m\u001B[0mresult\u001B[0m\u001B[1;33m)\u001B[0m\u001B[1;33m:\u001B[0m\u001B[1;33m\u001B[0m\u001B[1;33m\u001B[0m\u001B[0m\n\u001B[0;32m   4113\u001B[0m             \u001B[1;32mif\u001B[0m \u001B[0mnp\u001B[0m\u001B[1;33m.\u001B[0m\u001B[0mndim\u001B[0m\u001B[1;33m(\u001B[0m\u001B[0mresult\u001B[0m\u001B[1;33m)\u001B[0m \u001B[1;33m>\u001B[0m \u001B[1;36m1\u001B[0m\u001B[1;33m:\u001B[0m\u001B[1;33m\u001B[0m\u001B[1;33m\u001B[0m\u001B[0m\n",
      "\u001B[1;31mIndexError\u001B[0m: only integers, slices (`:`), ellipsis (`...`), numpy.newaxis (`None`) and integer or boolean arrays are valid indices"
     ]
    }
   ],
   "source": [
    "nome_estacoes = estacoes.columns['estacao_inicial','estacao_final']\n",
    "#nome_estacoes = estacoes.rename(columns={'start_station_name': 'estacao_inicial', 'end_station_name': 'estacao_final'})\n",
    "#df = df.rename(columns={'oldName1': 'newName1', 'oldName2': 'newName2'})"
   ],
   "metadata": {
    "collapsed": false,
    "pycharm": {
     "name": "#%%\n"
    }
   }
  },
  {
   "cell_type": "code",
   "execution_count": 87,
   "outputs": [
    {
     "data": {
      "text/plain": "                                          estacao_final\nstart_station_name                                     \nUniversity Pl & E 14 St        Franklin St & W Broadway\nBroadway & Roebling St                    Sands St Gate\nUniversity Pl & E 14 St        Franklin St & W Broadway\nUniversity Pl & E 14 St                 8 Ave & W 16 St\nMetropolitan Ave & Meeker Ave             Sands St Gate\n...                                                 ...\n6 Ave & Broome St                  Grand St & Greene St\n6 Ave & Broome St                  Grand St & Greene St\nCarlton Ave & Park Ave          Boerum Pl\\t& Pacific St\n6 Ave & Broome St                      W 20 St & 10 Ave\n6 Ave & Broome St                  Grand St & Greene St\n\n[3069239 rows x 1 columns]",
      "text/html": "<div>\n<style scoped>\n    .dataframe tbody tr th:only-of-type {\n        vertical-align: middle;\n    }\n\n    .dataframe tbody tr th {\n        vertical-align: top;\n    }\n\n    .dataframe thead th {\n        text-align: right;\n    }\n</style>\n<table border=\"1\" class=\"dataframe\">\n  <thead>\n    <tr style=\"text-align: right;\">\n      <th></th>\n      <th>estacao_final</th>\n    </tr>\n    <tr>\n      <th>start_station_name</th>\n      <th></th>\n    </tr>\n  </thead>\n  <tbody>\n    <tr>\n      <th>University Pl &amp; E 14 St</th>\n      <td>Franklin St &amp; W Broadway</td>\n    </tr>\n    <tr>\n      <th>Broadway &amp; Roebling St</th>\n      <td>Sands St Gate</td>\n    </tr>\n    <tr>\n      <th>University Pl &amp; E 14 St</th>\n      <td>Franklin St &amp; W Broadway</td>\n    </tr>\n    <tr>\n      <th>University Pl &amp; E 14 St</th>\n      <td>8 Ave &amp; W 16 St</td>\n    </tr>\n    <tr>\n      <th>Metropolitan Ave &amp; Meeker Ave</th>\n      <td>Sands St Gate</td>\n    </tr>\n    <tr>\n      <th>...</th>\n      <td>...</td>\n    </tr>\n    <tr>\n      <th>6 Ave &amp; Broome St</th>\n      <td>Grand St &amp; Greene St</td>\n    </tr>\n    <tr>\n      <th>6 Ave &amp; Broome St</th>\n      <td>Grand St &amp; Greene St</td>\n    </tr>\n    <tr>\n      <th>Carlton Ave &amp; Park Ave</th>\n      <td>Boerum Pl\\t&amp; Pacific St</td>\n    </tr>\n    <tr>\n      <th>6 Ave &amp; Broome St</th>\n      <td>W 20 St &amp; 10 Ave</td>\n    </tr>\n    <tr>\n      <th>6 Ave &amp; Broome St</th>\n      <td>Grand St &amp; Greene St</td>\n    </tr>\n  </tbody>\n</table>\n<p>3069239 rows × 1 columns</p>\n</div>"
     },
     "execution_count": 87,
     "metadata": {},
     "output_type": "execute_result"
    }
   ],
   "source": [
    "nome_estacoes"
   ],
   "metadata": {
    "collapsed": false,
    "pycharm": {
     "name": "#%%\n"
    }
   }
  },
  {
   "cell_type": "code",
   "execution_count": 83,
   "outputs": [
    {
     "data": {
      "text/plain": "(3069239, 1)"
     },
     "execution_count": 83,
     "metadata": {},
     "output_type": "execute_result"
    }
   ],
   "source": [
    "estacoes.shape"
   ],
   "metadata": {
    "collapsed": false,
    "pycharm": {
     "name": "#%%\n"
    }
   }
  },
  {
   "cell_type": "code",
   "execution_count": 70,
   "outputs": [],
   "source": [],
   "metadata": {
    "collapsed": false,
    "pycharm": {
     "name": "#%%\n"
    }
   }
  },
  {
   "cell_type": "code",
   "execution_count": null,
   "outputs": [],
   "source": [],
   "metadata": {
    "collapsed": false,
    "pycharm": {
     "name": "#%%\n"
    }
   }
  }
 ],
 "metadata": {
  "kernelspec": {
   "display_name": "Python 3",
   "language": "python",
   "name": "python3"
  },
  "language_info": {
   "codemirror_mode": {
    "name": "ipython",
    "version": 2
   },
   "file_extension": ".py",
   "mimetype": "text/x-python",
   "name": "python",
   "nbconvert_exporter": "python",
   "pygments_lexer": "ipython2",
   "version": "2.7.6"
  }
 },
 "nbformat": 4,
 "nbformat_minor": 0
}