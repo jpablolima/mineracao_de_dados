{
 "cells": [
  {
   "cell_type": "markdown",
   "metadata": {
    "collapsed": true,
    "pycharm": {
     "name": "#%% md\n"
    }
   },
   "source": [
    "# Agrupamento"
   ]
  },
  {
   "cell_type": "code",
   "execution_count": 1,
   "outputs": [],
   "source": [
    "import pandas as pd"
   ],
   "metadata": {
    "collapsed": false,
    "pycharm": {
     "name": "#%%\n"
    }
   }
  },
  {
   "cell_type": "code",
   "execution_count": 1,
   "outputs": [],
   "source": [],
   "metadata": {
    "collapsed": false,
    "pycharm": {
     "name": "#%%\n"
    }
   }
  },
  {
   "cell_type": "code",
   "execution_count": 2,
   "outputs": [],
   "source": [
    "dados = pd.read_csv('dados/aluguel_residencial.csv', sep=';')\n"
   ],
   "metadata": {
    "collapsed": false,
    "pycharm": {
     "name": "#%%\n"
    }
   }
  },
  {
   "cell_type": "code",
   "execution_count": 3,
   "outputs": [
    {
     "data": {
      "text/plain": "       Unnamed: 0         Tipo                Bairro  Quartos  Vagas  Suites  \\\n0               0    Quitinete            Copacabana        1      0       0   \n1               1         Casa       Jardim Botânico        2      0       1   \n2               3  Apartamento                Centro        1      0       0   \n3               4  Apartamento          Higienópolis        1      0       0   \n4               5  Apartamento          Vista Alegre        3      1       0   \n...           ...          ...                   ...      ...    ...     ...   \n22575       32953  Apartamento                 Méier        2      0       0   \n22576       32955    Quitinete                Centro        0      0       0   \n22577       32956  Apartamento           Jacarepaguá        3      1       2   \n22578       32957  Apartamento  São Francisco Xavier        2      1       0   \n22579       32958  Apartamento                Leblon        2      0       0   \n\n       Area   Valor  Condominio  IPTU  \n0        40  1700.0       500.0  60.0  \n1       100  7000.0         NaN   NaN  \n2        15   800.0       390.0  20.0  \n3        48   800.0       230.0   NaN  \n4        70  1200.0         NaN   NaN  \n...     ...     ...         ...   ...  \n22575    70   900.0       490.0  48.0  \n22576    27   800.0       350.0  25.0  \n22577    78  1800.0       800.0  40.0  \n22578    48  1400.0       509.0  37.0  \n22579    70  3000.0       760.0   NaN  \n\n[22580 rows x 10 columns]",
      "text/html": "<div>\n<style scoped>\n    .dataframe tbody tr th:only-of-type {\n        vertical-align: middle;\n    }\n\n    .dataframe tbody tr th {\n        vertical-align: top;\n    }\n\n    .dataframe thead th {\n        text-align: right;\n    }\n</style>\n<table border=\"1\" class=\"dataframe\">\n  <thead>\n    <tr style=\"text-align: right;\">\n      <th></th>\n      <th>Unnamed: 0</th>\n      <th>Tipo</th>\n      <th>Bairro</th>\n      <th>Quartos</th>\n      <th>Vagas</th>\n      <th>Suites</th>\n      <th>Area</th>\n      <th>Valor</th>\n      <th>Condominio</th>\n      <th>IPTU</th>\n    </tr>\n  </thead>\n  <tbody>\n    <tr>\n      <th>0</th>\n      <td>0</td>\n      <td>Quitinete</td>\n      <td>Copacabana</td>\n      <td>1</td>\n      <td>0</td>\n      <td>0</td>\n      <td>40</td>\n      <td>1700.0</td>\n      <td>500.0</td>\n      <td>60.0</td>\n    </tr>\n    <tr>\n      <th>1</th>\n      <td>1</td>\n      <td>Casa</td>\n      <td>Jardim Botânico</td>\n      <td>2</td>\n      <td>0</td>\n      <td>1</td>\n      <td>100</td>\n      <td>7000.0</td>\n      <td>NaN</td>\n      <td>NaN</td>\n    </tr>\n    <tr>\n      <th>2</th>\n      <td>3</td>\n      <td>Apartamento</td>\n      <td>Centro</td>\n      <td>1</td>\n      <td>0</td>\n      <td>0</td>\n      <td>15</td>\n      <td>800.0</td>\n      <td>390.0</td>\n      <td>20.0</td>\n    </tr>\n    <tr>\n      <th>3</th>\n      <td>4</td>\n      <td>Apartamento</td>\n      <td>Higienópolis</td>\n      <td>1</td>\n      <td>0</td>\n      <td>0</td>\n      <td>48</td>\n      <td>800.0</td>\n      <td>230.0</td>\n      <td>NaN</td>\n    </tr>\n    <tr>\n      <th>4</th>\n      <td>5</td>\n      <td>Apartamento</td>\n      <td>Vista Alegre</td>\n      <td>3</td>\n      <td>1</td>\n      <td>0</td>\n      <td>70</td>\n      <td>1200.0</td>\n      <td>NaN</td>\n      <td>NaN</td>\n    </tr>\n    <tr>\n      <th>...</th>\n      <td>...</td>\n      <td>...</td>\n      <td>...</td>\n      <td>...</td>\n      <td>...</td>\n      <td>...</td>\n      <td>...</td>\n      <td>...</td>\n      <td>...</td>\n      <td>...</td>\n    </tr>\n    <tr>\n      <th>22575</th>\n      <td>32953</td>\n      <td>Apartamento</td>\n      <td>Méier</td>\n      <td>2</td>\n      <td>0</td>\n      <td>0</td>\n      <td>70</td>\n      <td>900.0</td>\n      <td>490.0</td>\n      <td>48.0</td>\n    </tr>\n    <tr>\n      <th>22576</th>\n      <td>32955</td>\n      <td>Quitinete</td>\n      <td>Centro</td>\n      <td>0</td>\n      <td>0</td>\n      <td>0</td>\n      <td>27</td>\n      <td>800.0</td>\n      <td>350.0</td>\n      <td>25.0</td>\n    </tr>\n    <tr>\n      <th>22577</th>\n      <td>32956</td>\n      <td>Apartamento</td>\n      <td>Jacarepaguá</td>\n      <td>3</td>\n      <td>1</td>\n      <td>2</td>\n      <td>78</td>\n      <td>1800.0</td>\n      <td>800.0</td>\n      <td>40.0</td>\n    </tr>\n    <tr>\n      <th>22578</th>\n      <td>32957</td>\n      <td>Apartamento</td>\n      <td>São Francisco Xavier</td>\n      <td>2</td>\n      <td>1</td>\n      <td>0</td>\n      <td>48</td>\n      <td>1400.0</td>\n      <td>509.0</td>\n      <td>37.0</td>\n    </tr>\n    <tr>\n      <th>22579</th>\n      <td>32958</td>\n      <td>Apartamento</td>\n      <td>Leblon</td>\n      <td>2</td>\n      <td>0</td>\n      <td>0</td>\n      <td>70</td>\n      <td>3000.0</td>\n      <td>760.0</td>\n      <td>NaN</td>\n    </tr>\n  </tbody>\n</table>\n<p>22580 rows × 10 columns</p>\n</div>"
     },
     "execution_count": 3,
     "metadata": {},
     "output_type": "execute_result"
    }
   ],
   "source": [
    "dados"
   ],
   "metadata": {
    "collapsed": false,
    "pycharm": {
     "name": "#%%\n"
    }
   }
  },
  {
   "cell_type": "code",
   "execution_count": 4,
   "outputs": [
    {
     "data": {
      "text/plain": "4985.730140445705"
     },
     "execution_count": 4,
     "metadata": {},
     "output_type": "execute_result"
    }
   ],
   "source": [
    "dados['Valor'].mean()"
   ],
   "metadata": {
    "collapsed": false,
    "pycharm": {
     "name": "#%%\n"
    }
   }
  },
  {
   "cell_type": "code",
   "execution_count": 6,
   "outputs": [],
   "source": [
    "bairros = ['Barra da Tijuca','Copacabana', 'Ipanema', 'Leblon', 'Botafogo', 'Flamengo', 'Tijuca']\n",
    "selecao = dados['Bairro'].isin(bairros)\n",
    "dados = dados[selecao]"
   ],
   "metadata": {
    "collapsed": false,
    "pycharm": {
     "name": "#%%\n"
    }
   }
  },
  {
   "cell_type": "code",
   "execution_count": 7,
   "outputs": [
    {
     "data": {
      "text/plain": "0          Copacabana\n6     Barra da Tijuca\n17             Tijuca\n21            Ipanema\n25           Botafogo\n29             Leblon\n81           Flamengo\nName: Bairro, dtype: object"
     },
     "execution_count": 7,
     "metadata": {},
     "output_type": "execute_result"
    }
   ],
   "source": [
    "dados['Bairro'].drop_duplicates()"
   ],
   "metadata": {
    "collapsed": false,
    "pycharm": {
     "name": "#%%\n"
    }
   }
  },
  {
   "cell_type": "code",
   "execution_count": 8,
   "outputs": [],
   "source": [
    "grupo_bairro = dados.groupby('Bairro')"
   ],
   "metadata": {
    "collapsed": false,
    "pycharm": {
     "name": "#%%\n"
    }
   }
  },
  {
   "cell_type": "code",
   "execution_count": 9,
   "outputs": [
    {
     "data": {
      "text/plain": "pandas.core.groupby.generic.DataFrameGroupBy"
     },
     "execution_count": 9,
     "metadata": {},
     "output_type": "execute_result"
    }
   ],
   "source": [
    "type(grupo_bairro)"
   ],
   "metadata": {
    "collapsed": false,
    "pycharm": {
     "name": "#%%\n"
    }
   }
  },
  {
   "cell_type": "code",
   "execution_count": 10,
   "outputs": [
    {
     "data": {
      "text/plain": "{'Barra da Tijuca': [6, 16, 18, 23, 32, 34, 37, 44, 45, 58, 63, 64, 67, 71, 77, 82, 97, 111, 114, 116, 122, 133, 136, 138, 142, 156, 159, 161, 171, 172, 180, 195, 198, 217, 224, 231, 234, 243, 246, 249, 254, 269, 275, 285, 287, 302, 303, 304, 306, 313, 319, 322, 336, 346, 347, 356, 371, 377, 379, 385, 391, 398, 400, 411, 423, 444, 445, 447, 448, 451, 461, 463, 474, 475, 477, 485, 488, 497, 508, 514, 518, 526, 553, 554, 555, 556, 559, 563, 568, 570, 571, 572, 601, 605, 606, 608, 612, 614, 619, 629, ...], 'Botafogo': [25, 50, 91, 92, 115, 124, 132, 140, 206, 210, 235, 345, 373, 426, 427, 512, 539, 541, 561, 611, 669, 706, 740, 777, 786, 846, 851, 885, 940, 949, 953, 1036, 1073, 1110, 1121, 1140, 1147, 1158, 1171, 1197, 1235, 1239, 1258, 1285, 1318, 1332, 1341, 1355, 1386, 1421, 1453, 1458, 1496, 1559, 1572, 1623, 1676, 1704, 1720, 1750, 1794, 1795, 1843, 1869, 1878, 1881, 1908, 1978, 1987, 2012, 2014, 2029, 2041, 2051, 2092, 2130, 2133, 2145, 2147, 2148, 2152, 2161, 2216, 2217, 2233, 2247, 2266, 2313, 2318, 2369, 2425, 2454, 2469, 2486, 2504, 2506, 2543, 2585, 2595, 2608, ...], 'Copacabana': [0, 11, 12, 13, 26, 27, 30, 33, 90, 95, 108, 113, 130, 135, 146, 148, 149, 157, 168, 181, 192, 201, 203, 216, 233, 259, 273, 286, 289, 292, 300, 301, 312, 318, 330, 338, 340, 359, 370, 376, 382, 383, 399, 407, 415, 437, 438, 449, 470, 472, 498, 499, 500, 511, 545, 547, 550, 573, 580, 589, 590, 600, 604, 624, 628, 630, 633, 651, 670, 679, 687, 688, 699, 708, 710, 715, 722, 734, 751, 757, 760, 793, 832, 848, 860, 896, 904, 906, 919, 923, 932, 937, 942, 944, 946, 947, 954, 977, 989, 990, ...], 'Flamengo': [81, 144, 228, 295, 332, 358, 367, 372, 380, 404, 433, 442, 454, 489, 560, 597, 638, 690, 747, 785, 819, 879, 911, 916, 925, 968, 993, 1074, 1129, 1159, 1168, 1244, 1269, 1276, 1397, 1436, 1439, 1549, 1555, 1568, 1579, 1589, 1599, 1647, 1650, 1730, 1746, 1813, 1816, 1889, 1899, 1927, 1996, 2030, 2067, 2072, 2098, 2288, 2297, 2335, 2345, 2383, 2406, 2435, 2447, 2499, 2534, 2605, 2606, 2615, 2619, 2644, 2671, 2703, 2714, 2783, 2791, 2796, 2855, 2859, 2953, 2967, 3011, 3030, 3048, 3069, 3131, 3182, 3197, 3224, 3226, 3235, 3273, 3359, 3386, 3423, 3502, 3508, 3520, 3529, ...], 'Ipanema': [21, 41, 42, 47, 54, 55, 76, 88, 96, 119, 126, 134, 147, 165, 185, 187, 226, 227, 240, 252, 255, 280, 294, 337, 349, 352, 381, 388, 397, 403, 416, 456, 494, 502, 530, 538, 551, 585, 592, 593, 594, 596, 607, 609, 632, 642, 646, 667, 668, 676, 692, 702, 711, 729, 731, 738, 746, 750, 752, 767, 768, 774, 778, 801, 805, 816, 824, 834, 836, 840, 853, 883, 884, 901, 913, 930, 931, 948, 952, 963, 976, 978, 996, 1012, 1014, 1023, 1031, 1040, 1052, 1057, 1063, 1079, 1080, 1082, 1084, 1088, 1090, 1108, 1116, 1122, ...], 'Leblon': [29, 62, 94, 101, 120, 139, 167, 173, 177, 193, 223, 229, 258, 325, 326, 335, 363, 364, 406, 418, 432, 455, 460, 471, 476, 478, 482, 503, 510, 515, 524, 534, 566, 615, 617, 621, 658, 659, 678, 707, 724, 732, 754, 770, 796, 806, 843, 852, 857, 858, 863, 867, 892, 898, 924, 956, 958, 970, 985, 991, 1083, 1089, 1099, 1100, 1102, 1105, 1118, 1134, 1173, 1187, 1193, 1198, 1227, 1238, 1241, 1249, 1251, 1271, 1313, 1314, 1320, 1338, 1339, 1374, 1376, 1384, 1406, 1447, 1450, 1454, 1467, 1545, 1569, 1583, 1590, 1595, 1604, 1631, 1634, 1668, ...], 'Tijuca': [17, 20, 22, 84, 86, 131, 151, 155, 164, 170, 183, 188, 190, 194, 207, 212, 268, 348, 353, 365, 374, 450, 462, 481, 491, 519, 528, 542, 548, 581, 584, 616, 618, 645, 655, 656, 673, 695, 759, 764, 765, 783, 797, 810, 815, 818, 820, 835, 862, 865, 875, 895, 899, 910, 950, 972, 994, 1001, 1016, 1019, 1050, 1061, 1068, 1091, 1150, 1211, 1214, 1232, 1298, 1312, 1410, 1470, 1475, 1498, 1520, 1573, 1577, 1607, 1609, 1618, 1625, 1680, 1685, 1707, 1729, 1753, 1755, 1769, 1782, 1804, 1833, 1837, 1845, 1875, 1885, 1886, 1891, 1922, 1932, 1956, ...]}"
     },
     "execution_count": 10,
     "metadata": {},
     "output_type": "execute_result"
    }
   ],
   "source": [
    "grupo_bairro.groups"
   ],
   "metadata": {
    "collapsed": false,
    "pycharm": {
     "name": "#%%\n"
    }
   }
  },
  {
   "cell_type": "code",
   "execution_count": 11,
   "outputs": [
    {
     "name": "stdout",
     "output_type": "stream",
     "text": [
      "Barra da Tijuca\n",
      "Botafogo\n",
      "Copacabana\n",
      "Flamengo\n",
      "Ipanema\n",
      "Leblon\n",
      "Tijuca\n"
     ]
    }
   ],
   "source": [
    "for bairro, dados in grupo_bairro:\n",
    "    print(bairro)"
   ],
   "metadata": {
    "collapsed": false,
    "pycharm": {
     "name": "#%%\n"
    }
   }
  },
  {
   "cell_type": "code",
   "execution_count": 12,
   "outputs": [
    {
     "name": "stdout",
     "output_type": "stream",
     "text": [
      "       Unnamed: 0                Tipo           Bairro  Quartos  Vagas  \\\n",
      "6               7  Casa de Condomínio  Barra da Tijuca        5      4   \n",
      "16             20         Apartamento  Barra da Tijuca        2      1   \n",
      "18             22  Casa de Condomínio  Barra da Tijuca        4      3   \n",
      "23             30         Apartamento  Barra da Tijuca        3      3   \n",
      "32             41         Apartamento  Barra da Tijuca        3      1   \n",
      "...           ...                 ...              ...      ...    ...   \n",
      "22555       32924  Casa de Condomínio  Barra da Tijuca        3      5   \n",
      "22565       32940         Apartamento  Barra da Tijuca        2      1   \n",
      "22566       32941         Apartamento  Barra da Tijuca        3      2   \n",
      "22567       32943         Apartamento  Barra da Tijuca        3      2   \n",
      "22574       32952  Casa de Condomínio  Barra da Tijuca        5      3   \n",
      "\n",
      "       Suites  Area    Valor  Condominio    IPTU  \n",
      "6           5   750  22000.0         NaN     NaN  \n",
      "16          1    67   1700.0       589.0   147.0  \n",
      "18          2   466   7500.0      2695.0     NaN  \n",
      "23          1   175   4200.0      1500.0   500.0  \n",
      "32          2    70   1800.0      1095.0   140.0  \n",
      "...       ...   ...      ...         ...     ...  \n",
      "22555       3  1000  20000.0      3000.0     NaN  \n",
      "22565       1    85   2250.0      1561.0   197.0  \n",
      "22566       0    98   2300.0       887.0   177.0  \n",
      "22567       2   140   5500.0      1900.0   700.0  \n",
      "22574       4   450  15000.0      1711.0  2332.0  \n",
      "\n",
      "[3922 rows x 10 columns]\n",
      "       Unnamed: 0         Tipo    Bairro  Quartos  Vagas  Suites  Area  \\\n",
      "25             32  Apartamento  Botafogo        2      1       0    76   \n",
      "50             66  Apartamento  Botafogo        3      1       1   108   \n",
      "91            124  Apartamento  Botafogo        2      1       1    83   \n",
      "92            125  Apartamento  Botafogo        2      1       1    80   \n",
      "115           164  Apartamento  Botafogo        3      1       1   100   \n",
      "...           ...          ...       ...      ...    ...     ...   ...   \n",
      "22413       32724  Apartamento  Botafogo        2      0       0    60   \n",
      "22419       32731  Apartamento  Botafogo        1      0       0    51   \n",
      "22468       32803  Apartamento  Botafogo        2      1       1    52   \n",
      "22500       32842  Apartamento  Botafogo        2      1       2    84   \n",
      "22544       32907  Apartamento  Botafogo        3      2       1   100   \n",
      "\n",
      "        Valor  Condominio   IPTU  \n",
      "25     2500.0       740.0    NaN  \n",
      "50     5950.0      1405.0  289.0  \n",
      "91     2800.0       560.0  138.0  \n",
      "92     4300.0      1178.0  187.0  \n",
      "115    5500.0      1300.0  220.0  \n",
      "...       ...         ...    ...  \n",
      "22413  1900.0       900.0   75.0  \n",
      "22419  2000.0       590.0   26.0  \n",
      "22468  3100.0      1700.0  330.0  \n",
      "22500  4230.0      1130.0  260.0  \n",
      "22544  4500.0      1600.0  205.0  \n",
      "\n",
      "[890 rows x 10 columns]\n",
      "       Unnamed: 0         Tipo      Bairro  Quartos  Vagas  Suites  Area  \\\n",
      "0               0    Quitinete  Copacabana        1      0       0    40   \n",
      "11             13  Apartamento  Copacabana        1      0       1    40   \n",
      "12             14    Quitinete  Copacabana        1      0       0    27   \n",
      "13             15  Apartamento  Copacabana        4      3       1   243   \n",
      "26             33  Apartamento  Copacabana        3      1       2   378   \n",
      "...           ...          ...         ...      ...    ...     ...   ...   \n",
      "22537       32900  Apartamento  Copacabana        1      0       0    60   \n",
      "22549       32916  Apartamento  Copacabana        2      0       0    67   \n",
      "22563       32936  Apartamento  Copacabana        2      0       1    70   \n",
      "22564       32938  Apartamento  Copacabana        1      0       0    50   \n",
      "22569       32945    Quitinete  Copacabana        1      0       0    22   \n",
      "\n",
      "         Valor  Condominio   IPTU  \n",
      "0       1700.0       500.0   60.0  \n",
      "11      2000.0       561.0   50.0  \n",
      "12      1800.0       501.0    NaN  \n",
      "13     13000.0      2000.0  803.0  \n",
      "26     10000.0      2150.0  700.0  \n",
      "...        ...         ...    ...  \n",
      "22537   2400.0       530.0   78.0  \n",
      "22549   2450.0       679.0   80.0  \n",
      "22563   4100.0       700.0   90.0  \n",
      "22564   1950.0       450.0   70.0  \n",
      "22569   1500.0       286.0  200.0  \n",
      "\n",
      "[2760 rows x 10 columns]\n",
      "       Unnamed: 0         Tipo    Bairro  Quartos  Vagas  Suites  Area  \\\n",
      "81            110    Quitinete  Flamengo        0      0       0    28   \n",
      "144           206  Apartamento  Flamengo        1      0       0    40   \n",
      "228           322  Apartamento  Flamengo        1      1       0    48   \n",
      "295           431  Apartamento  Flamengo        2      0       0    85   \n",
      "332           487  Apartamento  Flamengo        2      1       0    57   \n",
      "...           ...          ...       ...      ...    ...     ...   ...   \n",
      "22457       32785  Apartamento  Flamengo        2      0       0    77   \n",
      "22482       32818    Quitinete  Flamengo        1      0       0    23   \n",
      "22485       32821  Apartamento  Flamengo        3      1       0   169   \n",
      "22494       32830  Apartamento  Flamengo        3      0       1   115   \n",
      "22548       32915  Apartamento  Flamengo        1      0       0    48   \n",
      "\n",
      "        Valor  Condominio    IPTU  \n",
      "81     1000.0       581.0    53.0  \n",
      "144    1900.0       430.0    54.0  \n",
      "228    2100.0       580.0    70.0  \n",
      "295    2700.0       800.0  1150.0  \n",
      "332    2800.0       832.0    98.0  \n",
      "...       ...         ...     ...  \n",
      "22457  1700.0       900.0   131.0  \n",
      "22482   900.0       605.0     NaN  \n",
      "22485  5200.0      1584.0   386.0  \n",
      "22494  3500.0       970.0   130.0  \n",
      "22548  2200.0       478.0     NaN  \n",
      "\n",
      "[723 rows x 10 columns]\n",
      "       Unnamed: 0         Tipo   Bairro  Quartos  Vagas  Suites  Area  \\\n",
      "21             27  Apartamento  Ipanema        3      1       1   125   \n",
      "41             55  Apartamento  Ipanema        1      0       0    35   \n",
      "42             56  Apartamento  Ipanema        1      0       0    38   \n",
      "47             63  Apartamento  Ipanema        3      1       0    87   \n",
      "54             71  Apartamento  Ipanema        3      2       1   150   \n",
      "...           ...          ...      ...      ...    ...     ...   ...   \n",
      "22499       32841  Apartamento  Ipanema        4      2       3   203   \n",
      "22508       32856  Apartamento  Ipanema        3      1       1   140   \n",
      "22542       32905  Apartamento  Ipanema        3      1       1   118   \n",
      "22550       32918  Apartamento  Ipanema        1      0       0    55   \n",
      "22571       32949  Apartamento  Ipanema        3      1       2   150   \n",
      "\n",
      "         Valor  Condominio   IPTU  \n",
      "21      7000.0      2100.0  463.0  \n",
      "41      2000.0       650.0   75.0  \n",
      "42      1400.0       530.0   77.0  \n",
      "47      3200.0      1305.0  217.0  \n",
      "54      8000.0      2400.0    NaN  \n",
      "...        ...         ...    ...  \n",
      "22499  12000.0      1650.0  538.0  \n",
      "22508   7200.0      2900.0  850.0  \n",
      "22542   6000.0       980.0  250.0  \n",
      "22550   2000.0       630.0   19.0  \n",
      "22571  15000.0      1400.0  600.0  \n",
      "\n",
      "[1800 rows x 10 columns]\n",
      "       Unnamed: 0         Tipo  Bairro  Quartos  Vagas  Suites  Area    Valor  \\\n",
      "29             37  Apartamento  Leblon        3      1       0   110   3900.0   \n",
      "62             88  Apartamento  Leblon        2      1       1    80   3500.0   \n",
      "94            131  Apartamento  Leblon        3      2       1   147   7500.0   \n",
      "101           139  Apartamento  Leblon        3      1       0    85   3900.0   \n",
      "120           173  Apartamento  Leblon        4      4       4   380  40000.0   \n",
      "...           ...          ...     ...      ...    ...     ...   ...      ...   \n",
      "22540       32903  Apartamento  Leblon        3      2       1   200  16000.0   \n",
      "22541       32904  Apartamento  Leblon        4      3       2   280  10000.0   \n",
      "22562       32935  Apartamento  Leblon        1      1       1    50   4300.0   \n",
      "22570       32947  Apartamento  Leblon        3      0       1    80   3000.0   \n",
      "22579       32958  Apartamento  Leblon        2      0       0    70   3000.0   \n",
      "\n",
      "       Condominio    IPTU  \n",
      "29         1500.0   120.0  \n",
      "62          990.0   245.0  \n",
      "94         1028.0   247.0  \n",
      "101         800.0  1211.0  \n",
      "120        4700.0  1500.0  \n",
      "...           ...     ...  \n",
      "22540      4200.0   850.0  \n",
      "22541      3315.0   770.0  \n",
      "22562      1730.0   259.0  \n",
      "22570      1010.0   249.0  \n",
      "22579       760.0     NaN  \n",
      "\n",
      "[1277 rows x 10 columns]\n",
      "       Unnamed: 0         Tipo  Bairro  Quartos  Vagas  Suites  Area   Valor  \\\n",
      "17             21  Apartamento  Tijuca        2      1       0   110  1900.0   \n",
      "20             24  Apartamento  Tijuca        2      1       0    78  2000.0   \n",
      "22             28  Apartamento  Tijuca        1      0       0    48   750.0   \n",
      "84            114  Apartamento  Tijuca        2      1       0    80  1800.0   \n",
      "86            118  Apartamento  Tijuca        3      1       0   172  2700.0   \n",
      "...           ...          ...     ...      ...    ...     ...   ...     ...   \n",
      "22428       32742  Apartamento  Tijuca        2      1       0    78  1800.0   \n",
      "22467       32800  Apartamento  Tijuca        2      0       0    69  1700.0   \n",
      "22483       32819  Apartamento  Tijuca        2      3       0    70  1680.0   \n",
      "22527       32878  Apartamento  Tijuca        3      1       0    75  1900.0   \n",
      "22572       32950  Apartamento  Tijuca        1      0       0    28  1000.0   \n",
      "\n",
      "       Condominio   IPTU  \n",
      "17          700.0  138.0  \n",
      "20          700.0    NaN  \n",
      "22          772.0   25.0  \n",
      "84         1100.0   84.0  \n",
      "86          780.0  170.0  \n",
      "...           ...    ...  \n",
      "22428       620.0   62.0  \n",
      "22467       760.0   62.0  \n",
      "22483       230.0   45.0  \n",
      "22527       860.0  141.0  \n",
      "22572       360.0   25.0  \n",
      "\n",
      "[1113 rows x 10 columns]\n"
     ]
    }
   ],
   "source": [
    "for bairro, dados in grupo_bairro:\n",
    "    print(dados)"
   ],
   "metadata": {
    "collapsed": false,
    "pycharm": {
     "name": "#%%\n"
    }
   }
  },
  {
   "cell_type": "code",
   "execution_count": 13,
   "outputs": [
    {
     "name": "stdout",
     "output_type": "stream",
     "text": [
      "<class 'pandas.core.frame.DataFrame'>\n",
      "<class 'pandas.core.frame.DataFrame'>\n",
      "<class 'pandas.core.frame.DataFrame'>\n",
      "<class 'pandas.core.frame.DataFrame'>\n",
      "<class 'pandas.core.frame.DataFrame'>\n",
      "<class 'pandas.core.frame.DataFrame'>\n",
      "<class 'pandas.core.frame.DataFrame'>\n"
     ]
    }
   ],
   "source": [
    "for bairro, dados in grupo_bairro:\n",
    "    print(type(dados))"
   ],
   "metadata": {
    "collapsed": false,
    "pycharm": {
     "name": "#%%\n"
    }
   }
  },
  {
   "cell_type": "code",
   "execution_count": 14,
   "outputs": [
    {
     "name": "stdout",
     "output_type": "stream",
     "text": [
      "Barra da Tijuca -> 7073.721754654425\n",
      "Botafogo -> 8690.962879640045\n",
      "Copacabana -> 4137.4135556361\n",
      "Flamengo -> 4148.489626556016\n",
      "Ipanema -> 9375.905\n",
      "Leblon -> 8757.75411119812\n",
      "Tijuca -> 2042.1940700808625\n"
     ]
    }
   ],
   "source": [
    "for bairro, dados in grupo_bairro:\n",
    "    print('{} -> {}'.format(bairro, dados.Valor.mean()))"
   ],
   "metadata": {
    "collapsed": false,
    "pycharm": {
     "name": "#%%\n"
    }
   }
  },
  {
   "cell_type": "code",
   "execution_count": 16,
   "outputs": [
    {
     "data": {
      "text/plain": "Bairro\nBarra da Tijuca    7073.72\nBotafogo           8690.96\nCopacabana         4137.41\nFlamengo           4148.49\nIpanema            9375.91\nLeblon             8757.75\nTijuca             2042.19\nName: Valor, dtype: float64"
     },
     "execution_count": 16,
     "metadata": {},
     "output_type": "execute_result"
    }
   ],
   "source": [
    "grupo_bairro['Valor'].mean().round(2)"
   ],
   "metadata": {
    "collapsed": false,
    "pycharm": {
     "name": "#%%\n"
    }
   }
  },
  {
   "cell_type": "code",
   "execution_count": null,
   "outputs": [],
   "source": [],
   "metadata": {
    "collapsed": false,
    "pycharm": {
     "name": "#%%\n"
    }
   }
  }
 ],
 "metadata": {
  "kernelspec": {
   "display_name": "Python 3",
   "language": "python",
   "name": "python3"
  },
  "language_info": {
   "codemirror_mode": {
    "name": "ipython",
    "version": 2
   },
   "file_extension": ".py",
   "mimetype": "text/x-python",
   "name": "python",
   "nbconvert_exporter": "python",
   "pygments_lexer": "ipython2",
   "version": "2.7.6"
  }
 },
 "nbformat": 4,
 "nbformat_minor": 0
}