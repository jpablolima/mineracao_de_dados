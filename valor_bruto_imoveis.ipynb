{
 "cells": [
  {
   "cell_type": "markdown",
   "metadata": {
    "collapsed": true,
    "pycharm": {
     "name": "#%% md\n"
    }
   },
   "source": [
    "# Novos Valores"
   ]
  },
  {
   "cell_type": "code",
   "execution_count": 1,
   "outputs": [],
   "source": [
    "import  pandas as pd"
   ],
   "metadata": {
    "collapsed": false,
    "pycharm": {
     "name": "#%%\n"
    }
   }
  },
  {
   "cell_type": "code",
   "execution_count": 2,
   "outputs": [
    {
     "data": {
      "text/plain": "   Unnamed: 0         Tipo           Bairro  Quartos  Vagas  Suites  Area  \\\n0           0    Quitinete       Copacabana        1      0       0    40   \n1           1         Casa  Jardim Botânico        2      0       1   100   \n2           3  Apartamento           Centro        1      0       0    15   \n3           4  Apartamento     Higienópolis        1      0       0    48   \n4           5  Apartamento     Vista Alegre        3      1       0    70   \n\n    Valor  Condominio  IPTU  \n0  1700.0       500.0  60.0  \n1  7000.0         NaN   NaN  \n2   800.0       390.0  20.0  \n3   800.0       230.0   NaN  \n4  1200.0         NaN   NaN  ",
      "text/html": "<div>\n<style scoped>\n    .dataframe tbody tr th:only-of-type {\n        vertical-align: middle;\n    }\n\n    .dataframe tbody tr th {\n        vertical-align: top;\n    }\n\n    .dataframe thead th {\n        text-align: right;\n    }\n</style>\n<table border=\"1\" class=\"dataframe\">\n  <thead>\n    <tr style=\"text-align: right;\">\n      <th></th>\n      <th>Unnamed: 0</th>\n      <th>Tipo</th>\n      <th>Bairro</th>\n      <th>Quartos</th>\n      <th>Vagas</th>\n      <th>Suites</th>\n      <th>Area</th>\n      <th>Valor</th>\n      <th>Condominio</th>\n      <th>IPTU</th>\n    </tr>\n  </thead>\n  <tbody>\n    <tr>\n      <th>0</th>\n      <td>0</td>\n      <td>Quitinete</td>\n      <td>Copacabana</td>\n      <td>1</td>\n      <td>0</td>\n      <td>0</td>\n      <td>40</td>\n      <td>1700.0</td>\n      <td>500.0</td>\n      <td>60.0</td>\n    </tr>\n    <tr>\n      <th>1</th>\n      <td>1</td>\n      <td>Casa</td>\n      <td>Jardim Botânico</td>\n      <td>2</td>\n      <td>0</td>\n      <td>1</td>\n      <td>100</td>\n      <td>7000.0</td>\n      <td>NaN</td>\n      <td>NaN</td>\n    </tr>\n    <tr>\n      <th>2</th>\n      <td>3</td>\n      <td>Apartamento</td>\n      <td>Centro</td>\n      <td>1</td>\n      <td>0</td>\n      <td>0</td>\n      <td>15</td>\n      <td>800.0</td>\n      <td>390.0</td>\n      <td>20.0</td>\n    </tr>\n    <tr>\n      <th>3</th>\n      <td>4</td>\n      <td>Apartamento</td>\n      <td>Higienópolis</td>\n      <td>1</td>\n      <td>0</td>\n      <td>0</td>\n      <td>48</td>\n      <td>800.0</td>\n      <td>230.0</td>\n      <td>NaN</td>\n    </tr>\n    <tr>\n      <th>4</th>\n      <td>5</td>\n      <td>Apartamento</td>\n      <td>Vista Alegre</td>\n      <td>3</td>\n      <td>1</td>\n      <td>0</td>\n      <td>70</td>\n      <td>1200.0</td>\n      <td>NaN</td>\n      <td>NaN</td>\n    </tr>\n  </tbody>\n</table>\n</div>"
     },
     "execution_count": 2,
     "metadata": {},
     "output_type": "execute_result"
    }
   ],
   "source": [
    "dados = pd.read_csv('dados/aluguel_residencial.csv', sep=\";\")\n",
    "dados.head()"
   ],
   "metadata": {
    "collapsed": false,
    "pycharm": {
     "name": "#%%\n"
    }
   }
  },
  {
   "cell_type": "code",
   "execution_count": 3,
   "outputs": [],
   "source": [
    "dados['Valor Bruto'] = dados['Valor'] + dados['Condominio'] + dados ['IPTU']"
   ],
   "metadata": {
    "collapsed": false,
    "pycharm": {
     "name": "#%%\n"
    }
   }
  },
  {
   "cell_type": "code",
   "execution_count": 4,
   "outputs": [
    {
     "data": {
      "text/plain": "   Unnamed: 0         Tipo           Bairro  Quartos  Vagas  Suites  Area  \\\n0           0    Quitinete       Copacabana        1      0       0    40   \n1           1         Casa  Jardim Botânico        2      0       1   100   \n2           3  Apartamento           Centro        1      0       0    15   \n3           4  Apartamento     Higienópolis        1      0       0    48   \n4           5  Apartamento     Vista Alegre        3      1       0    70   \n\n    Valor  Condominio  IPTU  Valor Bruto  \n0  1700.0       500.0  60.0       2260.0  \n1  7000.0         NaN   NaN          NaN  \n2   800.0       390.0  20.0       1210.0  \n3   800.0       230.0   NaN          NaN  \n4  1200.0         NaN   NaN          NaN  ",
      "text/html": "<div>\n<style scoped>\n    .dataframe tbody tr th:only-of-type {\n        vertical-align: middle;\n    }\n\n    .dataframe tbody tr th {\n        vertical-align: top;\n    }\n\n    .dataframe thead th {\n        text-align: right;\n    }\n</style>\n<table border=\"1\" class=\"dataframe\">\n  <thead>\n    <tr style=\"text-align: right;\">\n      <th></th>\n      <th>Unnamed: 0</th>\n      <th>Tipo</th>\n      <th>Bairro</th>\n      <th>Quartos</th>\n      <th>Vagas</th>\n      <th>Suites</th>\n      <th>Area</th>\n      <th>Valor</th>\n      <th>Condominio</th>\n      <th>IPTU</th>\n      <th>Valor Bruto</th>\n    </tr>\n  </thead>\n  <tbody>\n    <tr>\n      <th>0</th>\n      <td>0</td>\n      <td>Quitinete</td>\n      <td>Copacabana</td>\n      <td>1</td>\n      <td>0</td>\n      <td>0</td>\n      <td>40</td>\n      <td>1700.0</td>\n      <td>500.0</td>\n      <td>60.0</td>\n      <td>2260.0</td>\n    </tr>\n    <tr>\n      <th>1</th>\n      <td>1</td>\n      <td>Casa</td>\n      <td>Jardim Botânico</td>\n      <td>2</td>\n      <td>0</td>\n      <td>1</td>\n      <td>100</td>\n      <td>7000.0</td>\n      <td>NaN</td>\n      <td>NaN</td>\n      <td>NaN</td>\n    </tr>\n    <tr>\n      <th>2</th>\n      <td>3</td>\n      <td>Apartamento</td>\n      <td>Centro</td>\n      <td>1</td>\n      <td>0</td>\n      <td>0</td>\n      <td>15</td>\n      <td>800.0</td>\n      <td>390.0</td>\n      <td>20.0</td>\n      <td>1210.0</td>\n    </tr>\n    <tr>\n      <th>3</th>\n      <td>4</td>\n      <td>Apartamento</td>\n      <td>Higienópolis</td>\n      <td>1</td>\n      <td>0</td>\n      <td>0</td>\n      <td>48</td>\n      <td>800.0</td>\n      <td>230.0</td>\n      <td>NaN</td>\n      <td>NaN</td>\n    </tr>\n    <tr>\n      <th>4</th>\n      <td>5</td>\n      <td>Apartamento</td>\n      <td>Vista Alegre</td>\n      <td>3</td>\n      <td>1</td>\n      <td>0</td>\n      <td>70</td>\n      <td>1200.0</td>\n      <td>NaN</td>\n      <td>NaN</td>\n      <td>NaN</td>\n    </tr>\n  </tbody>\n</table>\n</div>"
     },
     "execution_count": 4,
     "metadata": {},
     "output_type": "execute_result"
    }
   ],
   "source": [
    "dados.head()"
   ],
   "metadata": {
    "collapsed": false,
    "pycharm": {
     "name": "#%%\n"
    }
   }
  },
  {
   "cell_type": "code",
   "execution_count": 5,
   "outputs": [],
   "source": [
    "dados['Valor m2'] = dados['Valor'] / dados['Area']\n"
   ],
   "metadata": {
    "collapsed": false,
    "pycharm": {
     "name": "#%%\n"
    }
   }
  },
  {
   "cell_type": "code",
   "execution_count": 6,
   "outputs": [
    {
     "data": {
      "text/plain": "       Unnamed: 0         Tipo                Bairro  Quartos  Vagas  Suites  \\\n0               0    Quitinete            Copacabana        1      0       0   \n1               1         Casa       Jardim Botânico        2      0       1   \n2               3  Apartamento                Centro        1      0       0   \n3               4  Apartamento          Higienópolis        1      0       0   \n4               5  Apartamento          Vista Alegre        3      1       0   \n...           ...          ...                   ...      ...    ...     ...   \n22575       32953  Apartamento                 Méier        2      0       0   \n22576       32955    Quitinete                Centro        0      0       0   \n22577       32956  Apartamento           Jacarepaguá        3      1       2   \n22578       32957  Apartamento  São Francisco Xavier        2      1       0   \n22579       32958  Apartamento                Leblon        2      0       0   \n\n       Area   Valor  Condominio  IPTU  Valor Bruto  Valor m2  \n0        40  1700.0       500.0  60.0       2260.0     42.50  \n1       100  7000.0         NaN   NaN          NaN     70.00  \n2        15   800.0       390.0  20.0       1210.0     53.33  \n3        48   800.0       230.0   NaN          NaN     16.67  \n4        70  1200.0         NaN   NaN          NaN     17.14  \n...     ...     ...         ...   ...          ...       ...  \n22575    70   900.0       490.0  48.0       1438.0     12.86  \n22576    27   800.0       350.0  25.0       1175.0     29.63  \n22577    78  1800.0       800.0  40.0       2640.0     23.08  \n22578    48  1400.0       509.0  37.0       1946.0     29.17  \n22579    70  3000.0       760.0   NaN          NaN     42.86  \n\n[22580 rows x 12 columns]",
      "text/html": "<div>\n<style scoped>\n    .dataframe tbody tr th:only-of-type {\n        vertical-align: middle;\n    }\n\n    .dataframe tbody tr th {\n        vertical-align: top;\n    }\n\n    .dataframe thead th {\n        text-align: right;\n    }\n</style>\n<table border=\"1\" class=\"dataframe\">\n  <thead>\n    <tr style=\"text-align: right;\">\n      <th></th>\n      <th>Unnamed: 0</th>\n      <th>Tipo</th>\n      <th>Bairro</th>\n      <th>Quartos</th>\n      <th>Vagas</th>\n      <th>Suites</th>\n      <th>Area</th>\n      <th>Valor</th>\n      <th>Condominio</th>\n      <th>IPTU</th>\n      <th>Valor Bruto</th>\n      <th>Valor m2</th>\n    </tr>\n  </thead>\n  <tbody>\n    <tr>\n      <th>0</th>\n      <td>0</td>\n      <td>Quitinete</td>\n      <td>Copacabana</td>\n      <td>1</td>\n      <td>0</td>\n      <td>0</td>\n      <td>40</td>\n      <td>1700.0</td>\n      <td>500.0</td>\n      <td>60.0</td>\n      <td>2260.0</td>\n      <td>42.50</td>\n    </tr>\n    <tr>\n      <th>1</th>\n      <td>1</td>\n      <td>Casa</td>\n      <td>Jardim Botânico</td>\n      <td>2</td>\n      <td>0</td>\n      <td>1</td>\n      <td>100</td>\n      <td>7000.0</td>\n      <td>NaN</td>\n      <td>NaN</td>\n      <td>NaN</td>\n      <td>70.00</td>\n    </tr>\n    <tr>\n      <th>2</th>\n      <td>3</td>\n      <td>Apartamento</td>\n      <td>Centro</td>\n      <td>1</td>\n      <td>0</td>\n      <td>0</td>\n      <td>15</td>\n      <td>800.0</td>\n      <td>390.0</td>\n      <td>20.0</td>\n      <td>1210.0</td>\n      <td>53.33</td>\n    </tr>\n    <tr>\n      <th>3</th>\n      <td>4</td>\n      <td>Apartamento</td>\n      <td>Higienópolis</td>\n      <td>1</td>\n      <td>0</td>\n      <td>0</td>\n      <td>48</td>\n      <td>800.0</td>\n      <td>230.0</td>\n      <td>NaN</td>\n      <td>NaN</td>\n      <td>16.67</td>\n    </tr>\n    <tr>\n      <th>4</th>\n      <td>5</td>\n      <td>Apartamento</td>\n      <td>Vista Alegre</td>\n      <td>3</td>\n      <td>1</td>\n      <td>0</td>\n      <td>70</td>\n      <td>1200.0</td>\n      <td>NaN</td>\n      <td>NaN</td>\n      <td>NaN</td>\n      <td>17.14</td>\n    </tr>\n    <tr>\n      <th>...</th>\n      <td>...</td>\n      <td>...</td>\n      <td>...</td>\n      <td>...</td>\n      <td>...</td>\n      <td>...</td>\n      <td>...</td>\n      <td>...</td>\n      <td>...</td>\n      <td>...</td>\n      <td>...</td>\n      <td>...</td>\n    </tr>\n    <tr>\n      <th>22575</th>\n      <td>32953</td>\n      <td>Apartamento</td>\n      <td>Méier</td>\n      <td>2</td>\n      <td>0</td>\n      <td>0</td>\n      <td>70</td>\n      <td>900.0</td>\n      <td>490.0</td>\n      <td>48.0</td>\n      <td>1438.0</td>\n      <td>12.86</td>\n    </tr>\n    <tr>\n      <th>22576</th>\n      <td>32955</td>\n      <td>Quitinete</td>\n      <td>Centro</td>\n      <td>0</td>\n      <td>0</td>\n      <td>0</td>\n      <td>27</td>\n      <td>800.0</td>\n      <td>350.0</td>\n      <td>25.0</td>\n      <td>1175.0</td>\n      <td>29.63</td>\n    </tr>\n    <tr>\n      <th>22577</th>\n      <td>32956</td>\n      <td>Apartamento</td>\n      <td>Jacarepaguá</td>\n      <td>3</td>\n      <td>1</td>\n      <td>2</td>\n      <td>78</td>\n      <td>1800.0</td>\n      <td>800.0</td>\n      <td>40.0</td>\n      <td>2640.0</td>\n      <td>23.08</td>\n    </tr>\n    <tr>\n      <th>22578</th>\n      <td>32957</td>\n      <td>Apartamento</td>\n      <td>São Francisco Xavier</td>\n      <td>2</td>\n      <td>1</td>\n      <td>0</td>\n      <td>48</td>\n      <td>1400.0</td>\n      <td>509.0</td>\n      <td>37.0</td>\n      <td>1946.0</td>\n      <td>29.17</td>\n    </tr>\n    <tr>\n      <th>22579</th>\n      <td>32958</td>\n      <td>Apartamento</td>\n      <td>Leblon</td>\n      <td>2</td>\n      <td>0</td>\n      <td>0</td>\n      <td>70</td>\n      <td>3000.0</td>\n      <td>760.0</td>\n      <td>NaN</td>\n      <td>NaN</td>\n      <td>42.86</td>\n    </tr>\n  </tbody>\n</table>\n<p>22580 rows × 12 columns</p>\n</div>"
     },
     "execution_count": 6,
     "metadata": {},
     "output_type": "execute_result"
    }
   ],
   "source": [
    "dados['Valor m2'] = dados['Valor m2'].round(2)\n",
    "dados"
   ],
   "metadata": {
    "collapsed": false,
    "pycharm": {
     "name": "#%%\n"
    }
   }
  },
  {
   "cell_type": "code",
   "execution_count": 7,
   "outputs": [
    {
     "data": {
      "text/plain": "       Unnamed: 0         Tipo                Bairro  Quartos  Vagas  Suites  \\\n0               0    Quitinete            Copacabana        1      0       0   \n1               1         Casa       Jardim Botânico        2      0       1   \n2               3  Apartamento                Centro        1      0       0   \n3               4  Apartamento          Higienópolis        1      0       0   \n4               5  Apartamento          Vista Alegre        3      1       0   \n...           ...          ...                   ...      ...    ...     ...   \n22575       32953  Apartamento                 Méier        2      0       0   \n22576       32955    Quitinete                Centro        0      0       0   \n22577       32956  Apartamento           Jacarepaguá        3      1       2   \n22578       32957  Apartamento  São Francisco Xavier        2      1       0   \n22579       32958  Apartamento                Leblon        2      0       0   \n\n       Area   Valor  Condominio  IPTU  Valor Bruto  Valor m2  Valor Bruto m2  \n0        40  1700.0       500.0  60.0       2260.0     42.50           56.50  \n1       100  7000.0         NaN   NaN          NaN     70.00             NaN  \n2        15   800.0       390.0  20.0       1210.0     53.33           80.67  \n3        48   800.0       230.0   NaN          NaN     16.67             NaN  \n4        70  1200.0         NaN   NaN          NaN     17.14             NaN  \n...     ...     ...         ...   ...          ...       ...             ...  \n22575    70   900.0       490.0  48.0       1438.0     12.86           20.54  \n22576    27   800.0       350.0  25.0       1175.0     29.63           43.52  \n22577    78  1800.0       800.0  40.0       2640.0     23.08           33.85  \n22578    48  1400.0       509.0  37.0       1946.0     29.17           40.54  \n22579    70  3000.0       760.0   NaN          NaN     42.86             NaN  \n\n[22580 rows x 13 columns]",
      "text/html": "<div>\n<style scoped>\n    .dataframe tbody tr th:only-of-type {\n        vertical-align: middle;\n    }\n\n    .dataframe tbody tr th {\n        vertical-align: top;\n    }\n\n    .dataframe thead th {\n        text-align: right;\n    }\n</style>\n<table border=\"1\" class=\"dataframe\">\n  <thead>\n    <tr style=\"text-align: right;\">\n      <th></th>\n      <th>Unnamed: 0</th>\n      <th>Tipo</th>\n      <th>Bairro</th>\n      <th>Quartos</th>\n      <th>Vagas</th>\n      <th>Suites</th>\n      <th>Area</th>\n      <th>Valor</th>\n      <th>Condominio</th>\n      <th>IPTU</th>\n      <th>Valor Bruto</th>\n      <th>Valor m2</th>\n      <th>Valor Bruto m2</th>\n    </tr>\n  </thead>\n  <tbody>\n    <tr>\n      <th>0</th>\n      <td>0</td>\n      <td>Quitinete</td>\n      <td>Copacabana</td>\n      <td>1</td>\n      <td>0</td>\n      <td>0</td>\n      <td>40</td>\n      <td>1700.0</td>\n      <td>500.0</td>\n      <td>60.0</td>\n      <td>2260.0</td>\n      <td>42.50</td>\n      <td>56.50</td>\n    </tr>\n    <tr>\n      <th>1</th>\n      <td>1</td>\n      <td>Casa</td>\n      <td>Jardim Botânico</td>\n      <td>2</td>\n      <td>0</td>\n      <td>1</td>\n      <td>100</td>\n      <td>7000.0</td>\n      <td>NaN</td>\n      <td>NaN</td>\n      <td>NaN</td>\n      <td>70.00</td>\n      <td>NaN</td>\n    </tr>\n    <tr>\n      <th>2</th>\n      <td>3</td>\n      <td>Apartamento</td>\n      <td>Centro</td>\n      <td>1</td>\n      <td>0</td>\n      <td>0</td>\n      <td>15</td>\n      <td>800.0</td>\n      <td>390.0</td>\n      <td>20.0</td>\n      <td>1210.0</td>\n      <td>53.33</td>\n      <td>80.67</td>\n    </tr>\n    <tr>\n      <th>3</th>\n      <td>4</td>\n      <td>Apartamento</td>\n      <td>Higienópolis</td>\n      <td>1</td>\n      <td>0</td>\n      <td>0</td>\n      <td>48</td>\n      <td>800.0</td>\n      <td>230.0</td>\n      <td>NaN</td>\n      <td>NaN</td>\n      <td>16.67</td>\n      <td>NaN</td>\n    </tr>\n    <tr>\n      <th>4</th>\n      <td>5</td>\n      <td>Apartamento</td>\n      <td>Vista Alegre</td>\n      <td>3</td>\n      <td>1</td>\n      <td>0</td>\n      <td>70</td>\n      <td>1200.0</td>\n      <td>NaN</td>\n      <td>NaN</td>\n      <td>NaN</td>\n      <td>17.14</td>\n      <td>NaN</td>\n    </tr>\n    <tr>\n      <th>...</th>\n      <td>...</td>\n      <td>...</td>\n      <td>...</td>\n      <td>...</td>\n      <td>...</td>\n      <td>...</td>\n      <td>...</td>\n      <td>...</td>\n      <td>...</td>\n      <td>...</td>\n      <td>...</td>\n      <td>...</td>\n      <td>...</td>\n    </tr>\n    <tr>\n      <th>22575</th>\n      <td>32953</td>\n      <td>Apartamento</td>\n      <td>Méier</td>\n      <td>2</td>\n      <td>0</td>\n      <td>0</td>\n      <td>70</td>\n      <td>900.0</td>\n      <td>490.0</td>\n      <td>48.0</td>\n      <td>1438.0</td>\n      <td>12.86</td>\n      <td>20.54</td>\n    </tr>\n    <tr>\n      <th>22576</th>\n      <td>32955</td>\n      <td>Quitinete</td>\n      <td>Centro</td>\n      <td>0</td>\n      <td>0</td>\n      <td>0</td>\n      <td>27</td>\n      <td>800.0</td>\n      <td>350.0</td>\n      <td>25.0</td>\n      <td>1175.0</td>\n      <td>29.63</td>\n      <td>43.52</td>\n    </tr>\n    <tr>\n      <th>22577</th>\n      <td>32956</td>\n      <td>Apartamento</td>\n      <td>Jacarepaguá</td>\n      <td>3</td>\n      <td>1</td>\n      <td>2</td>\n      <td>78</td>\n      <td>1800.0</td>\n      <td>800.0</td>\n      <td>40.0</td>\n      <td>2640.0</td>\n      <td>23.08</td>\n      <td>33.85</td>\n    </tr>\n    <tr>\n      <th>22578</th>\n      <td>32957</td>\n      <td>Apartamento</td>\n      <td>São Francisco Xavier</td>\n      <td>2</td>\n      <td>1</td>\n      <td>0</td>\n      <td>48</td>\n      <td>1400.0</td>\n      <td>509.0</td>\n      <td>37.0</td>\n      <td>1946.0</td>\n      <td>29.17</td>\n      <td>40.54</td>\n    </tr>\n    <tr>\n      <th>22579</th>\n      <td>32958</td>\n      <td>Apartamento</td>\n      <td>Leblon</td>\n      <td>2</td>\n      <td>0</td>\n      <td>0</td>\n      <td>70</td>\n      <td>3000.0</td>\n      <td>760.0</td>\n      <td>NaN</td>\n      <td>NaN</td>\n      <td>42.86</td>\n      <td>NaN</td>\n    </tr>\n  </tbody>\n</table>\n<p>22580 rows × 13 columns</p>\n</div>"
     },
     "execution_count": 7,
     "metadata": {},
     "output_type": "execute_result"
    }
   ],
   "source": [
    "dados['Valor Bruto m2'] = (dados['Valor Bruto'] / dados['Area']).round(2)\n",
    "dados"
   ],
   "metadata": {
    "collapsed": false,
    "pycharm": {
     "name": "#%%\n"
    }
   }
  },
  {
   "cell_type": "code",
   "execution_count": 8,
   "outputs": [],
   "source": [
    "casa  = ['Casa', 'Casa de Condomínio','Casa de Vila']"
   ],
   "metadata": {
    "collapsed": false,
    "pycharm": {
     "name": "#%%\n"
    }
   }
  },
  {
   "cell_type": "code",
   "execution_count": 9,
   "outputs": [],
   "source": [
    "dados['Tipo Agregado'] = dados['Tipo'].apply(lambda x: 'Casa' if x in casa else 'Apartamento')"
   ],
   "metadata": {
    "collapsed": false,
    "pycharm": {
     "name": "#%%\n"
    }
   }
  },
  {
   "cell_type": "code",
   "execution_count": 10,
   "outputs": [
    {
     "data": {
      "text/plain": "       Unnamed: 0         Tipo                Bairro  Quartos  Vagas  Suites  \\\n0               0    Quitinete            Copacabana        1      0       0   \n1               1         Casa       Jardim Botânico        2      0       1   \n2               3  Apartamento                Centro        1      0       0   \n3               4  Apartamento          Higienópolis        1      0       0   \n4               5  Apartamento          Vista Alegre        3      1       0   \n...           ...          ...                   ...      ...    ...     ...   \n22575       32953  Apartamento                 Méier        2      0       0   \n22576       32955    Quitinete                Centro        0      0       0   \n22577       32956  Apartamento           Jacarepaguá        3      1       2   \n22578       32957  Apartamento  São Francisco Xavier        2      1       0   \n22579       32958  Apartamento                Leblon        2      0       0   \n\n       Area   Valor  Condominio  IPTU  Valor Bruto  Valor m2  Valor Bruto m2  \\\n0        40  1700.0       500.0  60.0       2260.0     42.50           56.50   \n1       100  7000.0         NaN   NaN          NaN     70.00             NaN   \n2        15   800.0       390.0  20.0       1210.0     53.33           80.67   \n3        48   800.0       230.0   NaN          NaN     16.67             NaN   \n4        70  1200.0         NaN   NaN          NaN     17.14             NaN   \n...     ...     ...         ...   ...          ...       ...             ...   \n22575    70   900.0       490.0  48.0       1438.0     12.86           20.54   \n22576    27   800.0       350.0  25.0       1175.0     29.63           43.52   \n22577    78  1800.0       800.0  40.0       2640.0     23.08           33.85   \n22578    48  1400.0       509.0  37.0       1946.0     29.17           40.54   \n22579    70  3000.0       760.0   NaN          NaN     42.86             NaN   \n\n      Tipo Agregado  \n0       Apartamento  \n1              Casa  \n2       Apartamento  \n3       Apartamento  \n4       Apartamento  \n...             ...  \n22575   Apartamento  \n22576   Apartamento  \n22577   Apartamento  \n22578   Apartamento  \n22579   Apartamento  \n\n[22580 rows x 14 columns]",
      "text/html": "<div>\n<style scoped>\n    .dataframe tbody tr th:only-of-type {\n        vertical-align: middle;\n    }\n\n    .dataframe tbody tr th {\n        vertical-align: top;\n    }\n\n    .dataframe thead th {\n        text-align: right;\n    }\n</style>\n<table border=\"1\" class=\"dataframe\">\n  <thead>\n    <tr style=\"text-align: right;\">\n      <th></th>\n      <th>Unnamed: 0</th>\n      <th>Tipo</th>\n      <th>Bairro</th>\n      <th>Quartos</th>\n      <th>Vagas</th>\n      <th>Suites</th>\n      <th>Area</th>\n      <th>Valor</th>\n      <th>Condominio</th>\n      <th>IPTU</th>\n      <th>Valor Bruto</th>\n      <th>Valor m2</th>\n      <th>Valor Bruto m2</th>\n      <th>Tipo Agregado</th>\n    </tr>\n  </thead>\n  <tbody>\n    <tr>\n      <th>0</th>\n      <td>0</td>\n      <td>Quitinete</td>\n      <td>Copacabana</td>\n      <td>1</td>\n      <td>0</td>\n      <td>0</td>\n      <td>40</td>\n      <td>1700.0</td>\n      <td>500.0</td>\n      <td>60.0</td>\n      <td>2260.0</td>\n      <td>42.50</td>\n      <td>56.50</td>\n      <td>Apartamento</td>\n    </tr>\n    <tr>\n      <th>1</th>\n      <td>1</td>\n      <td>Casa</td>\n      <td>Jardim Botânico</td>\n      <td>2</td>\n      <td>0</td>\n      <td>1</td>\n      <td>100</td>\n      <td>7000.0</td>\n      <td>NaN</td>\n      <td>NaN</td>\n      <td>NaN</td>\n      <td>70.00</td>\n      <td>NaN</td>\n      <td>Casa</td>\n    </tr>\n    <tr>\n      <th>2</th>\n      <td>3</td>\n      <td>Apartamento</td>\n      <td>Centro</td>\n      <td>1</td>\n      <td>0</td>\n      <td>0</td>\n      <td>15</td>\n      <td>800.0</td>\n      <td>390.0</td>\n      <td>20.0</td>\n      <td>1210.0</td>\n      <td>53.33</td>\n      <td>80.67</td>\n      <td>Apartamento</td>\n    </tr>\n    <tr>\n      <th>3</th>\n      <td>4</td>\n      <td>Apartamento</td>\n      <td>Higienópolis</td>\n      <td>1</td>\n      <td>0</td>\n      <td>0</td>\n      <td>48</td>\n      <td>800.0</td>\n      <td>230.0</td>\n      <td>NaN</td>\n      <td>NaN</td>\n      <td>16.67</td>\n      <td>NaN</td>\n      <td>Apartamento</td>\n    </tr>\n    <tr>\n      <th>4</th>\n      <td>5</td>\n      <td>Apartamento</td>\n      <td>Vista Alegre</td>\n      <td>3</td>\n      <td>1</td>\n      <td>0</td>\n      <td>70</td>\n      <td>1200.0</td>\n      <td>NaN</td>\n      <td>NaN</td>\n      <td>NaN</td>\n      <td>17.14</td>\n      <td>NaN</td>\n      <td>Apartamento</td>\n    </tr>\n    <tr>\n      <th>...</th>\n      <td>...</td>\n      <td>...</td>\n      <td>...</td>\n      <td>...</td>\n      <td>...</td>\n      <td>...</td>\n      <td>...</td>\n      <td>...</td>\n      <td>...</td>\n      <td>...</td>\n      <td>...</td>\n      <td>...</td>\n      <td>...</td>\n      <td>...</td>\n    </tr>\n    <tr>\n      <th>22575</th>\n      <td>32953</td>\n      <td>Apartamento</td>\n      <td>Méier</td>\n      <td>2</td>\n      <td>0</td>\n      <td>0</td>\n      <td>70</td>\n      <td>900.0</td>\n      <td>490.0</td>\n      <td>48.0</td>\n      <td>1438.0</td>\n      <td>12.86</td>\n      <td>20.54</td>\n      <td>Apartamento</td>\n    </tr>\n    <tr>\n      <th>22576</th>\n      <td>32955</td>\n      <td>Quitinete</td>\n      <td>Centro</td>\n      <td>0</td>\n      <td>0</td>\n      <td>0</td>\n      <td>27</td>\n      <td>800.0</td>\n      <td>350.0</td>\n      <td>25.0</td>\n      <td>1175.0</td>\n      <td>29.63</td>\n      <td>43.52</td>\n      <td>Apartamento</td>\n    </tr>\n    <tr>\n      <th>22577</th>\n      <td>32956</td>\n      <td>Apartamento</td>\n      <td>Jacarepaguá</td>\n      <td>3</td>\n      <td>1</td>\n      <td>2</td>\n      <td>78</td>\n      <td>1800.0</td>\n      <td>800.0</td>\n      <td>40.0</td>\n      <td>2640.0</td>\n      <td>23.08</td>\n      <td>33.85</td>\n      <td>Apartamento</td>\n    </tr>\n    <tr>\n      <th>22578</th>\n      <td>32957</td>\n      <td>Apartamento</td>\n      <td>São Francisco Xavier</td>\n      <td>2</td>\n      <td>1</td>\n      <td>0</td>\n      <td>48</td>\n      <td>1400.0</td>\n      <td>509.0</td>\n      <td>37.0</td>\n      <td>1946.0</td>\n      <td>29.17</td>\n      <td>40.54</td>\n      <td>Apartamento</td>\n    </tr>\n    <tr>\n      <th>22579</th>\n      <td>32958</td>\n      <td>Apartamento</td>\n      <td>Leblon</td>\n      <td>2</td>\n      <td>0</td>\n      <td>0</td>\n      <td>70</td>\n      <td>3000.0</td>\n      <td>760.0</td>\n      <td>NaN</td>\n      <td>NaN</td>\n      <td>42.86</td>\n      <td>NaN</td>\n      <td>Apartamento</td>\n    </tr>\n  </tbody>\n</table>\n<p>22580 rows × 14 columns</p>\n</div>"
     },
     "execution_count": 10,
     "metadata": {},
     "output_type": "execute_result"
    }
   ],
   "source": [
    "dados"
   ],
   "metadata": {
    "collapsed": false,
    "pycharm": {
     "name": "#%%\n"
    }
   }
  },
  {
   "cell_type": "code",
   "execution_count": 11,
   "outputs": [],
   "source": [
    "dados.dropna(subset=['Condominio'], inplace= True)"
   ],
   "metadata": {
    "collapsed": false,
    "pycharm": {
     "name": "#%%\n"
    }
   }
  },
  {
   "cell_type": "code",
   "execution_count": 12,
   "outputs": [],
   "source": [
    "dados.dropna(subset=['IPTU'], inplace=True)"
   ],
   "metadata": {
    "collapsed": false,
    "pycharm": {
     "name": "#%%\n"
    }
   }
  },
  {
   "cell_type": "code",
   "execution_count": 13,
   "outputs": [],
   "source": [
    "#dados.dropna(subset=['Valor'], inplace=True)\n",
    "dados.dropna(subset=['Valor Bruto'], inplace=True)\n",
    "dados.dropna(subset=['Valor m2'], inplace=True)\n",
    "dados.dropna(subset=['Valor Bruto m2'], inplace=True)"
   ],
   "metadata": {
    "collapsed": false,
    "pycharm": {
     "name": "#%%\n"
    }
   }
  },
  {
   "cell_type": "code",
   "execution_count": 14,
   "outputs": [
    {
     "data": {
      "text/plain": "Unnamed: 0        0\nTipo              0\nBairro            0\nQuartos           0\nVagas             0\nSuites            0\nArea              0\nValor             0\nCondominio        0\nIPTU              0\nValor Bruto       0\nValor m2          0\nValor Bruto m2    0\nTipo Agregado     0\ndtype: int64"
     },
     "execution_count": 14,
     "metadata": {},
     "output_type": "execute_result"
    }
   ],
   "source": [
    "dados.isnull().sum()"
   ],
   "metadata": {
    "collapsed": false,
    "pycharm": {
     "name": "#%%\n"
    }
   }
  },
  {
   "cell_type": "code",
   "execution_count": 15,
   "outputs": [
    {
     "name": "stdout",
     "output_type": "stream",
     "text": [
      "<class 'pandas.core.frame.DataFrame'>\n",
      "Int64Index: 15346 entries, 0 to 22578\n",
      "Data columns (total 14 columns):\n",
      " #   Column          Non-Null Count  Dtype  \n",
      "---  ------          --------------  -----  \n",
      " 0   Unnamed: 0      15346 non-null  int64  \n",
      " 1   Tipo            15346 non-null  object \n",
      " 2   Bairro          15346 non-null  object \n",
      " 3   Quartos         15346 non-null  int64  \n",
      " 4   Vagas           15346 non-null  int64  \n",
      " 5   Suites          15346 non-null  int64  \n",
      " 6   Area            15346 non-null  int64  \n",
      " 7   Valor           15346 non-null  float64\n",
      " 8   Condominio      15346 non-null  float64\n",
      " 9   IPTU            15346 non-null  float64\n",
      " 10  Valor Bruto     15346 non-null  float64\n",
      " 11  Valor m2        15346 non-null  float64\n",
      " 12  Valor Bruto m2  15346 non-null  float64\n",
      " 13  Tipo Agregado   15346 non-null  object \n",
      "dtypes: float64(6), int64(5), object(3)\n",
      "memory usage: 1.8+ MB\n"
     ]
    }
   ],
   "source": [
    "dados.info()"
   ],
   "metadata": {
    "collapsed": false,
    "pycharm": {
     "name": "#%%\n"
    }
   }
  },
  {
   "cell_type": "code",
   "execution_count": 15,
   "outputs": [],
   "source": [],
   "metadata": {
    "collapsed": false,
    "pycharm": {
     "name": "#%%\n"
    }
   }
  },
  {
   "cell_type": "code",
   "execution_count": 15,
   "outputs": [],
   "source": [],
   "metadata": {
    "collapsed": false,
    "pycharm": {
     "name": "#%%\n"
    }
   }
  }
 ],
 "metadata": {
  "kernelspec": {
   "display_name": "Python 3",
   "language": "python",
   "name": "python3"
  },
  "language_info": {
   "codemirror_mode": {
    "name": "ipython",
    "version": 2
   },
   "file_extension": ".py",
   "mimetype": "text/x-python",
   "name": "python",
   "nbconvert_exporter": "python",
   "pygments_lexer": "ipython2",
   "version": "2.7.6"
  }
 },
 "nbformat": 4,
 "nbformat_minor": 0
}