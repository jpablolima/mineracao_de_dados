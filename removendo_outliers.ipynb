{
 "cells": [
  {
   "cell_type": "code",
   "execution_count": 35,
   "outputs": [],
   "source": [
    "%matplotlib inline\n",
    "import pandas as pd\n",
    "import  matplotlib.pyplot as plt\n",
    "plt.rc('figure', figsize = (14,6))"
   ],
   "metadata": {
    "collapsed": false,
    "pycharm": {
     "name": "#%%\n"
    }
   }
  },
  {
   "cell_type": "code",
   "execution_count": 36,
   "outputs": [],
   "source": [
    "dados = pd.read_csv('dados/aluguel_residencial.csv', sep=';')"
   ],
   "metadata": {
    "collapsed": false,
    "pycharm": {
     "name": "#%%\n"
    }
   }
  },
  {
   "cell_type": "code",
   "execution_count": 37,
   "outputs": [
    {
     "data": {
      "text/plain": "<AxesSubplot:>"
     },
     "execution_count": 37,
     "metadata": {},
     "output_type": "execute_result"
    },
    {
     "data": {
      "text/plain": "<Figure size 1008x432 with 1 Axes>",
      "image/png": "[encoded data removed]"
     },
     "metadata": {
      "needs_background": "light"
     },
     "output_type": "display_data"
    }
   ],
   "source": [
    "dados.boxplot(['Valor'])"
   ],
   "metadata": {
    "collapsed": false,
    "pycharm": {
     "name": "#%%\n"
    }
   }
  },
  {
   "cell_type": "code",
   "execution_count": 38,
   "outputs": [
    {
     "data": {
      "text/plain": "       Unnamed: 0                Tipo                    Bairro  Quartos  \\\n7894        11712         Apartamento           Barra da Tijuca        1   \n11013       16206  Casa de Condomínio   Freguesia (Jacarepaguá)        4   \n13099       19256         Apartamento   Freguesia (Jacarepaguá)        2   \n14325       21024         Apartamento  Recreio dos Bandeirantes        3   \n16056       23491         Apartamento                  Botafogo        4   \n\n       Vagas  Suites  Area      Valor  Condominio   IPTU  \n7894       1       0    65   600000.0       980.0  120.0  \n11013      2       3   163   800000.0       900.0    NaN  \n13099      2       1   150   550000.0       850.0  150.0  \n14325      2       1   167  1250000.0      1186.0  320.0  \n16056      1       1   300  4500000.0      1100.0    NaN  ",
      "text/html": "<div>\n<style scoped>\n    .dataframe tbody tr th:only-of-type {\n        vertical-align: middle;\n    }\n\n    .dataframe tbody tr th {\n        vertical-align: top;\n    }\n\n    .dataframe thead th {\n        text-align: right;\n    }\n</style>\n<table border=\"1\" class=\"dataframe\">\n  <thead>\n    <tr style=\"text-align: right;\">\n      <th></th>\n      <th>Unnamed: 0</th>\n      <th>Tipo</th>\n      <th>Bairro</th>\n      <th>Quartos</th>\n      <th>Vagas</th>\n      <th>Suites</th>\n      <th>Area</th>\n      <th>Valor</th>\n      <th>Condominio</th>\n      <th>IPTU</th>\n    </tr>\n  </thead>\n  <tbody>\n    <tr>\n      <th>7894</th>\n      <td>11712</td>\n      <td>Apartamento</td>\n      <td>Barra da Tijuca</td>\n      <td>1</td>\n      <td>1</td>\n      <td>0</td>\n      <td>65</td>\n      <td>600000.0</td>\n      <td>980.0</td>\n      <td>120.0</td>\n    </tr>\n    <tr>\n      <th>11013</th>\n      <td>16206</td>\n      <td>Casa de Condomínio</td>\n      <td>Freguesia (Jacarepaguá)</td>\n      <td>4</td>\n      <td>2</td>\n      <td>3</td>\n      <td>163</td>\n      <td>800000.0</td>\n      <td>900.0</td>\n      <td>NaN</td>\n    </tr>\n    <tr>\n      <th>13099</th>\n      <td>19256</td>\n      <td>Apartamento</td>\n      <td>Freguesia (Jacarepaguá)</td>\n      <td>2</td>\n      <td>2</td>\n      <td>1</td>\n      <td>150</td>\n      <td>550000.0</td>\n      <td>850.0</td>\n      <td>150.0</td>\n    </tr>\n    <tr>\n      <th>14325</th>\n      <td>21024</td>\n      <td>Apartamento</td>\n      <td>Recreio dos Bandeirantes</td>\n      <td>3</td>\n      <td>2</td>\n      <td>1</td>\n      <td>167</td>\n      <td>1250000.0</td>\n      <td>1186.0</td>\n      <td>320.0</td>\n    </tr>\n    <tr>\n      <th>16056</th>\n      <td>23491</td>\n      <td>Apartamento</td>\n      <td>Botafogo</td>\n      <td>4</td>\n      <td>1</td>\n      <td>1</td>\n      <td>300</td>\n      <td>4500000.0</td>\n      <td>1100.0</td>\n      <td>NaN</td>\n    </tr>\n  </tbody>\n</table>\n</div>"
     },
     "execution_count": 38,
     "metadata": {},
     "output_type": "execute_result"
    }
   ],
   "source": [
    "dados[dados['Valor'] >= 500000]"
   ],
   "metadata": {
    "collapsed": false,
    "pycharm": {
     "name": "#%%\n"
    }
   }
  },
  {
   "cell_type": "code",
   "execution_count": 39,
   "outputs": [],
   "source": [
    "valor = dados['Valor']"
   ],
   "metadata": {
    "collapsed": false,
    "pycharm": {
     "name": "#%%\n"
    }
   }
  },
  {
   "cell_type": "code",
   "execution_count": 40,
   "outputs": [],
   "source": [
    "Q1 = valor.quantile(.25)\n",
    "Q3 = valor.quantile(.75)\n",
    "IIQ = Q3 = Q1\n",
    "limite_inferior = Q1 - 1.5 * IIQ\n",
    "limite_superior = Q3 + 1.5 * IIQ"
   ],
   "metadata": {
    "collapsed": false,
    "pycharm": {
     "name": "#%%\n"
    }
   }
  },
  {
   "cell_type": "code",
   "execution_count": 41,
   "outputs": [],
   "source": [
    "selecao = (valor >= limite_inferior) & (valor <= limite_superior)\n",
    "dados_new = dados[selecao]"
   ],
   "metadata": {
    "collapsed": false,
    "pycharm": {
     "name": "#%%\n"
    }
   }
  },
  {
   "cell_type": "code",
   "execution_count": 42,
   "outputs": [
    {
     "data": {
      "text/plain": "<AxesSubplot:>"
     },
     "execution_count": 42,
     "metadata": {},
     "output_type": "execute_result"
    },
    {
     "data": {
      "text/plain": "<Figure size 1008x432 with 1 Axes>",
      "image/png": "[encoded data removed]"
     },
     "metadata": {
      "needs_background": "light"
     },
     "output_type": "display_data"
    }
   ],
   "source": [
    "dados_new.boxplot(['Valor'])"
   ],
   "metadata": {
    "collapsed": false,
    "pycharm": {
     "name": "#%%\n"
    }
   }
  },
  {
   "cell_type": "code",
   "execution_count": null,
   "outputs": [],
   "source": [],
   "metadata": {
    "collapsed": false,
    "pycharm": {
     "name": "#%%\n"
    }
   }
  }
 ],
 "metadata": {
  "kernelspec": {
   "display_name": "Python 3",
   "language": "python",
   "name": "python3"
  },
  "language_info": {
   "codemirror_mode": {
    "name": "ipython",
    "version": 2
   },
   "file_extension": ".py",
   "mimetype": "text/x-python",
   "name": "python",
   "nbconvert_exporter": "python",
   "pygments_lexer": "ipython2",
   "version": "2.7.6"
  },
  "pycharm": {
   "stem_cell": {
    "cell_type": "raw",
    "source": [
     "a#%% md# Removendo Outliers"
    ],
    "metadata": {
     "collapsed": false
    }
   }
  }
 },
 "nbformat": 4,
 "nbformat_minor": 0
}