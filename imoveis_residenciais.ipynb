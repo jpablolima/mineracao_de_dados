{
 "cells": [
  {
   "cell_type": "markdown",
   "metadata": {
    "collapsed": true,
    "pycharm": {
     "name": "#%% md\n"
    }
   },
   "source": [
    "## Imóveis Residenciais"
   ]
  },
  {
   "cell_type": "code",
   "execution_count": 2,
   "outputs": [],
   "source": [
    "import pandas as pd"
   ],
   "metadata": {
    "collapsed": false,
    "pycharm": {
     "name": "#%%\n"
    }
   }
  },
  {
   "cell_type": "code",
   "execution_count": 4,
   "outputs": [],
   "source": [
    "dados = pd.read_csv('dados/aluguel.csv', sep=';')"
   ],
   "metadata": {
    "collapsed": false,
    "pycharm": {
     "name": "#%%\n"
    }
   }
  },
  {
   "cell_type": "code",
   "execution_count": 5,
   "outputs": [
    {
     "data": {
      "text/plain": "                      Tipo           Bairro  Quartos  Vagas  Suites  Area  \\\n0                Quitinete       Copacabana        1      0       0    40   \n1                     Casa  Jardim Botânico        2      0       1   100   \n2  Conjunto Comercial/Sala  Barra da Tijuca        0      4       0   150   \n3              Apartamento           Centro        1      0       0    15   \n4              Apartamento     Higienópolis        1      0       0    48   \n\n    Valor  Condominio    IPTU  \n0  1700.0       500.0    60.0  \n1  7000.0         NaN     NaN  \n2  5200.0      4020.0  1111.0  \n3   800.0       390.0    20.0  \n4   800.0       230.0     NaN  ",
      "text/html": "<div>\n<style scoped>\n    .dataframe tbody tr th:only-of-type {\n        vertical-align: middle;\n    }\n\n    .dataframe tbody tr th {\n        vertical-align: top;\n    }\n\n    .dataframe thead th {\n        text-align: right;\n    }\n</style>\n<table border=\"1\" class=\"dataframe\">\n  <thead>\n    <tr style=\"text-align: right;\">\n      <th></th>\n      <th>Tipo</th>\n      <th>Bairro</th>\n      <th>Quartos</th>\n      <th>Vagas</th>\n      <th>Suites</th>\n      <th>Area</th>\n      <th>Valor</th>\n      <th>Condominio</th>\n      <th>IPTU</th>\n    </tr>\n  </thead>\n  <tbody>\n    <tr>\n      <th>0</th>\n      <td>Quitinete</td>\n      <td>Copacabana</td>\n      <td>1</td>\n      <td>0</td>\n      <td>0</td>\n      <td>40</td>\n      <td>1700.0</td>\n      <td>500.0</td>\n      <td>60.0</td>\n    </tr>\n    <tr>\n      <th>1</th>\n      <td>Casa</td>\n      <td>Jardim Botânico</td>\n      <td>2</td>\n      <td>0</td>\n      <td>1</td>\n      <td>100</td>\n      <td>7000.0</td>\n      <td>NaN</td>\n      <td>NaN</td>\n    </tr>\n    <tr>\n      <th>2</th>\n      <td>Conjunto Comercial/Sala</td>\n      <td>Barra da Tijuca</td>\n      <td>0</td>\n      <td>4</td>\n      <td>0</td>\n      <td>150</td>\n      <td>5200.0</td>\n      <td>4020.0</td>\n      <td>1111.0</td>\n    </tr>\n    <tr>\n      <th>3</th>\n      <td>Apartamento</td>\n      <td>Centro</td>\n      <td>1</td>\n      <td>0</td>\n      <td>0</td>\n      <td>15</td>\n      <td>800.0</td>\n      <td>390.0</td>\n      <td>20.0</td>\n    </tr>\n    <tr>\n      <th>4</th>\n      <td>Apartamento</td>\n      <td>Higienópolis</td>\n      <td>1</td>\n      <td>0</td>\n      <td>0</td>\n      <td>48</td>\n      <td>800.0</td>\n      <td>230.0</td>\n      <td>NaN</td>\n    </tr>\n  </tbody>\n</table>\n</div>"
     },
     "execution_count": 5,
     "metadata": {},
     "output_type": "execute_result"
    }
   ],
   "source": [
    "dados.head()"
   ],
   "metadata": {
    "collapsed": false,
    "pycharm": {
     "name": "#%%\n"
    }
   }
  },
  {
   "cell_type": "code",
   "execution_count": 6,
   "outputs": [
    {
     "data": {
      "text/plain": "['Quitinete',\n 'Casa',\n 'Conjunto Comercial/Sala',\n 'Apartamento',\n 'Casa de Condomínio',\n 'Prédio Inteiro',\n 'Flat',\n 'Loja/Salão',\n 'Galpão/Depósito/Armazém',\n 'Casa Comercial',\n 'Casa de Vila',\n 'Terreno Padrão',\n 'Box/Garagem',\n 'Loft',\n 'Loja Shopping/ Ct Comercial',\n 'Chácara',\n 'Loteamento/Condomínio',\n 'Sítio',\n 'Pousada/Chalé',\n 'Studio',\n 'Hotel',\n 'Indústria']"
     },
     "execution_count": 6,
     "metadata": {},
     "output_type": "execute_result"
    }
   ],
   "source": [
    "list(dados['Tipo'].drop_duplicates())"
   ],
   "metadata": {
    "collapsed": false,
    "pycharm": {
     "name": "#%%\n"
    }
   }
  },
  {
   "cell_type": "code",
   "execution_count": 7,
   "outputs": [],
   "source": [
    "residencial = ['Quitinete',\n",
    "               'Casa',\n",
    "              'Apartamento',\n",
    "               'Casa de Condomínio',\n",
    "               'Casa de Vila'\n",
    "               ]"
   ],
   "metadata": {
    "collapsed": false,
    "pycharm": {
     "name": "#%%\n"
    }
   }
  },
  {
   "cell_type": "code",
   "execution_count": 8,
   "outputs": [
    {
     "data": {
      "text/plain": "['Quitinete', 'Casa', 'Apartamento', 'Casa de Condomínio', 'Casa de Vila']"
     },
     "execution_count": 8,
     "metadata": {},
     "output_type": "execute_result"
    }
   ],
   "source": [
    "residencial"
   ],
   "metadata": {
    "collapsed": false,
    "pycharm": {
     "name": "#%%\n"
    }
   }
  },
  {
   "cell_type": "code",
   "execution_count": 12,
   "outputs": [],
   "source": [
    "selecao = dados['Tipo'].isin(residencial)"
   ],
   "metadata": {
    "collapsed": false,
    "pycharm": {
     "name": "#%%\n"
    }
   }
  },
  {
   "cell_type": "code",
   "execution_count": 13,
   "outputs": [
    {
     "data": {
      "text/plain": "0         True\n1         True\n2        False\n3         True\n4         True\n         ...  \n32955     True\n32956     True\n32957     True\n32958     True\n32959    False\nName: Tipo, Length: 32960, dtype: bool"
     },
     "execution_count": 13,
     "metadata": {},
     "output_type": "execute_result"
    }
   ],
   "source": [
    "selecao"
   ],
   "metadata": {
    "collapsed": false,
    "pycharm": {
     "name": "#%%\n"
    }
   }
  },
  {
   "cell_type": "code",
   "execution_count": 15,
   "outputs": [],
   "source": [
    "dados_residencial = dados[selecao]"
   ],
   "metadata": {
    "collapsed": false,
    "pycharm": {
     "name": "#%%\n"
    }
   }
  },
  {
   "cell_type": "code",
   "execution_count": 16,
   "outputs": [
    {
     "data": {
      "text/plain": "              Tipo                Bairro  Quartos  Vagas  Suites  Area  \\\n0        Quitinete            Copacabana        1      0       0    40   \n1             Casa       Jardim Botânico        2      0       1   100   \n3      Apartamento                Centro        1      0       0    15   \n4      Apartamento          Higienópolis        1      0       0    48   \n5      Apartamento          Vista Alegre        3      1       0    70   \n...            ...                   ...      ...    ...     ...   ...   \n32953  Apartamento                 Méier        2      0       0    70   \n32955    Quitinete                Centro        0      0       0    27   \n32956  Apartamento           Jacarepaguá        3      1       2    78   \n32957  Apartamento  São Francisco Xavier        2      1       0    48   \n32958  Apartamento                Leblon        2      0       0    70   \n\n        Valor  Condominio  IPTU  \n0      1700.0       500.0  60.0  \n1      7000.0         NaN   NaN  \n3       800.0       390.0  20.0  \n4       800.0       230.0   NaN  \n5      1200.0         NaN   NaN  \n...       ...         ...   ...  \n32953   900.0       490.0  48.0  \n32955   800.0       350.0  25.0  \n32956  1800.0       800.0  40.0  \n32957  1400.0       509.0  37.0  \n32958  3000.0       760.0   NaN  \n\n[22580 rows x 9 columns]",
      "text/html": "<div>\n<style scoped>\n    .dataframe tbody tr th:only-of-type {\n        vertical-align: middle;\n    }\n\n    .dataframe tbody tr th {\n        vertical-align: top;\n    }\n\n    .dataframe thead th {\n        text-align: right;\n    }\n</style>\n<table border=\"1\" class=\"dataframe\">\n  <thead>\n    <tr style=\"text-align: right;\">\n      <th></th>\n      <th>Tipo</th>\n      <th>Bairro</th>\n      <th>Quartos</th>\n      <th>Vagas</th>\n      <th>Suites</th>\n      <th>Area</th>\n      <th>Valor</th>\n      <th>Condominio</th>\n      <th>IPTU</th>\n    </tr>\n  </thead>\n  <tbody>\n    <tr>\n      <th>0</th>\n      <td>Quitinete</td>\n      <td>Copacabana</td>\n      <td>1</td>\n      <td>0</td>\n      <td>0</td>\n      <td>40</td>\n      <td>1700.0</td>\n      <td>500.0</td>\n      <td>60.0</td>\n    </tr>\n    <tr>\n      <th>1</th>\n      <td>Casa</td>\n      <td>Jardim Botânico</td>\n      <td>2</td>\n      <td>0</td>\n      <td>1</td>\n      <td>100</td>\n      <td>7000.0</td>\n      <td>NaN</td>\n      <td>NaN</td>\n    </tr>\n    <tr>\n      <th>3</th>\n      <td>Apartamento</td>\n      <td>Centro</td>\n      <td>1</td>\n      <td>0</td>\n      <td>0</td>\n      <td>15</td>\n      <td>800.0</td>\n      <td>390.0</td>\n      <td>20.0</td>\n    </tr>\n    <tr>\n      <th>4</th>\n      <td>Apartamento</td>\n      <td>Higienópolis</td>\n      <td>1</td>\n      <td>0</td>\n      <td>0</td>\n      <td>48</td>\n      <td>800.0</td>\n      <td>230.0</td>\n      <td>NaN</td>\n    </tr>\n    <tr>\n      <th>5</th>\n      <td>Apartamento</td>\n      <td>Vista Alegre</td>\n      <td>3</td>\n      <td>1</td>\n      <td>0</td>\n      <td>70</td>\n      <td>1200.0</td>\n      <td>NaN</td>\n      <td>NaN</td>\n    </tr>\n    <tr>\n      <th>...</th>\n      <td>...</td>\n      <td>...</td>\n      <td>...</td>\n      <td>...</td>\n      <td>...</td>\n      <td>...</td>\n      <td>...</td>\n      <td>...</td>\n      <td>...</td>\n    </tr>\n    <tr>\n      <th>32953</th>\n      <td>Apartamento</td>\n      <td>Méier</td>\n      <td>2</td>\n      <td>0</td>\n      <td>0</td>\n      <td>70</td>\n      <td>900.0</td>\n      <td>490.0</td>\n      <td>48.0</td>\n    </tr>\n    <tr>\n      <th>32955</th>\n      <td>Quitinete</td>\n      <td>Centro</td>\n      <td>0</td>\n      <td>0</td>\n      <td>0</td>\n      <td>27</td>\n      <td>800.0</td>\n      <td>350.0</td>\n      <td>25.0</td>\n    </tr>\n    <tr>\n      <th>32956</th>\n      <td>Apartamento</td>\n      <td>Jacarepaguá</td>\n      <td>3</td>\n      <td>1</td>\n      <td>2</td>\n      <td>78</td>\n      <td>1800.0</td>\n      <td>800.0</td>\n      <td>40.0</td>\n    </tr>\n    <tr>\n      <th>32957</th>\n      <td>Apartamento</td>\n      <td>São Francisco Xavier</td>\n      <td>2</td>\n      <td>1</td>\n      <td>0</td>\n      <td>48</td>\n      <td>1400.0</td>\n      <td>509.0</td>\n      <td>37.0</td>\n    </tr>\n    <tr>\n      <th>32958</th>\n      <td>Apartamento</td>\n      <td>Leblon</td>\n      <td>2</td>\n      <td>0</td>\n      <td>0</td>\n      <td>70</td>\n      <td>3000.0</td>\n      <td>760.0</td>\n      <td>NaN</td>\n    </tr>\n  </tbody>\n</table>\n<p>22580 rows × 9 columns</p>\n</div>"
     },
     "execution_count": 16,
     "metadata": {},
     "output_type": "execute_result"
    }
   ],
   "source": [
    "dados_residencial"
   ],
   "metadata": {
    "collapsed": false,
    "pycharm": {
     "name": "#%%\n"
    }
   }
  },
  {
   "cell_type": "code",
   "execution_count": 17,
   "outputs": [
    {
     "data": {
      "text/plain": "['Quitinete', 'Casa', 'Apartamento', 'Casa de Condomínio', 'Casa de Vila']"
     },
     "execution_count": 17,
     "metadata": {},
     "output_type": "execute_result"
    }
   ],
   "source": [
    "list(dados_residencial['Tipo'].drop_duplicates())"
   ],
   "metadata": {
    "collapsed": false,
    "pycharm": {
     "name": "#%%\n"
    }
   }
  },
  {
   "cell_type": "code",
   "execution_count": 19,
   "outputs": [
    {
     "data": {
      "text/plain": "22580"
     },
     "execution_count": 19,
     "metadata": {},
     "output_type": "execute_result"
    }
   ],
   "source": [
    "dados_residencial.shape[0]"
   ],
   "metadata": {
    "collapsed": false,
    "pycharm": {
     "name": "#%%\n"
    }
   }
  },
  {
   "cell_type": "code",
   "execution_count": 20,
   "outputs": [],
   "source": [
    "dados_residencial.index = range(dados_residencial.shape[0])"
   ],
   "metadata": {
    "collapsed": false,
    "pycharm": {
     "name": "#%%\n"
    }
   }
  },
  {
   "cell_type": "code",
   "execution_count": 21,
   "outputs": [
    {
     "data": {
      "text/plain": "              Tipo                Bairro  Quartos  Vagas  Suites  Area  \\\n0        Quitinete            Copacabana        1      0       0    40   \n1             Casa       Jardim Botânico        2      0       1   100   \n2      Apartamento                Centro        1      0       0    15   \n3      Apartamento          Higienópolis        1      0       0    48   \n4      Apartamento          Vista Alegre        3      1       0    70   \n...            ...                   ...      ...    ...     ...   ...   \n22575  Apartamento                 Méier        2      0       0    70   \n22576    Quitinete                Centro        0      0       0    27   \n22577  Apartamento           Jacarepaguá        3      1       2    78   \n22578  Apartamento  São Francisco Xavier        2      1       0    48   \n22579  Apartamento                Leblon        2      0       0    70   \n\n        Valor  Condominio  IPTU  \n0      1700.0       500.0  60.0  \n1      7000.0         NaN   NaN  \n2       800.0       390.0  20.0  \n3       800.0       230.0   NaN  \n4      1200.0         NaN   NaN  \n...       ...         ...   ...  \n22575   900.0       490.0  48.0  \n22576   800.0       350.0  25.0  \n22577  1800.0       800.0  40.0  \n22578  1400.0       509.0  37.0  \n22579  3000.0       760.0   NaN  \n\n[22580 rows x 9 columns]",
      "text/html": "<div>\n<style scoped>\n    .dataframe tbody tr th:only-of-type {\n        vertical-align: middle;\n    }\n\n    .dataframe tbody tr th {\n        vertical-align: top;\n    }\n\n    .dataframe thead th {\n        text-align: right;\n    }\n</style>\n<table border=\"1\" class=\"dataframe\">\n  <thead>\n    <tr style=\"text-align: right;\">\n      <th></th>\n      <th>Tipo</th>\n      <th>Bairro</th>\n      <th>Quartos</th>\n      <th>Vagas</th>\n      <th>Suites</th>\n      <th>Area</th>\n      <th>Valor</th>\n      <th>Condominio</th>\n      <th>IPTU</th>\n    </tr>\n  </thead>\n  <tbody>\n    <tr>\n      <th>0</th>\n      <td>Quitinete</td>\n      <td>Copacabana</td>\n      <td>1</td>\n      <td>0</td>\n      <td>0</td>\n      <td>40</td>\n      <td>1700.0</td>\n      <td>500.0</td>\n      <td>60.0</td>\n    </tr>\n    <tr>\n      <th>1</th>\n      <td>Casa</td>\n      <td>Jardim Botânico</td>\n      <td>2</td>\n      <td>0</td>\n      <td>1</td>\n      <td>100</td>\n      <td>7000.0</td>\n      <td>NaN</td>\n      <td>NaN</td>\n    </tr>\n    <tr>\n      <th>2</th>\n      <td>Apartamento</td>\n      <td>Centro</td>\n      <td>1</td>\n      <td>0</td>\n      <td>0</td>\n      <td>15</td>\n      <td>800.0</td>\n      <td>390.0</td>\n      <td>20.0</td>\n    </tr>\n    <tr>\n      <th>3</th>\n      <td>Apartamento</td>\n      <td>Higienópolis</td>\n      <td>1</td>\n      <td>0</td>\n      <td>0</td>\n      <td>48</td>\n      <td>800.0</td>\n      <td>230.0</td>\n      <td>NaN</td>\n    </tr>\n    <tr>\n      <th>4</th>\n      <td>Apartamento</td>\n      <td>Vista Alegre</td>\n      <td>3</td>\n      <td>1</td>\n      <td>0</td>\n      <td>70</td>\n      <td>1200.0</td>\n      <td>NaN</td>\n      <td>NaN</td>\n    </tr>\n    <tr>\n      <th>...</th>\n      <td>...</td>\n      <td>...</td>\n      <td>...</td>\n      <td>...</td>\n      <td>...</td>\n      <td>...</td>\n      <td>...</td>\n      <td>...</td>\n      <td>...</td>\n    </tr>\n    <tr>\n      <th>22575</th>\n      <td>Apartamento</td>\n      <td>Méier</td>\n      <td>2</td>\n      <td>0</td>\n      <td>0</td>\n      <td>70</td>\n      <td>900.0</td>\n      <td>490.0</td>\n      <td>48.0</td>\n    </tr>\n    <tr>\n      <th>22576</th>\n      <td>Quitinete</td>\n      <td>Centro</td>\n      <td>0</td>\n      <td>0</td>\n      <td>0</td>\n      <td>27</td>\n      <td>800.0</td>\n      <td>350.0</td>\n      <td>25.0</td>\n    </tr>\n    <tr>\n      <th>22577</th>\n      <td>Apartamento</td>\n      <td>Jacarepaguá</td>\n      <td>3</td>\n      <td>1</td>\n      <td>2</td>\n      <td>78</td>\n      <td>1800.0</td>\n      <td>800.0</td>\n      <td>40.0</td>\n    </tr>\n    <tr>\n      <th>22578</th>\n      <td>Apartamento</td>\n      <td>São Francisco Xavier</td>\n      <td>2</td>\n      <td>1</td>\n      <td>0</td>\n      <td>48</td>\n      <td>1400.0</td>\n      <td>509.0</td>\n      <td>37.0</td>\n    </tr>\n    <tr>\n      <th>22579</th>\n      <td>Apartamento</td>\n      <td>Leblon</td>\n      <td>2</td>\n      <td>0</td>\n      <td>0</td>\n      <td>70</td>\n      <td>3000.0</td>\n      <td>760.0</td>\n      <td>NaN</td>\n    </tr>\n  </tbody>\n</table>\n<p>22580 rows × 9 columns</p>\n</div>"
     },
     "execution_count": 21,
     "metadata": {},
     "output_type": "execute_result"
    }
   ],
   "source": [
    "dados_residencial"
   ],
   "metadata": {
    "collapsed": false,
    "pycharm": {
     "name": "#%%\n"
    }
   }
  },
  {
   "cell_type": "code",
   "execution_count": null,
   "outputs": [],
   "source": [],
   "metadata": {
    "collapsed": false,
    "pycharm": {
     "name": "#%%\n"
    }
   }
  }
 ],
 "metadata": {
  "kernelspec": {
   "display_name": "Python 3",
   "language": "python",
   "name": "python3"
  },
  "language_info": {
   "codemirror_mode": {
    "name": "ipython",
    "version": 2
   },
   "file_extension": ".py",
   "mimetype": "text/x-python",
   "name": "python",
   "nbconvert_exporter": "python",
   "pygments_lexer": "ipython2",
   "version": "2.7.6"
  }
 },
 "nbformat": 4,
 "nbformat_minor": 0
}